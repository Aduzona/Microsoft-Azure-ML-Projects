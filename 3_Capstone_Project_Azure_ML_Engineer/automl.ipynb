{
  "cells": [
    {
      "cell_type": "markdown",
      "metadata": {},
      "source": [
        "# Automated ML\n",
        "\n",
        "TODO: Import Dependencies. In the cell below, import all the dependencies that you will need to complete the project."
      ]
    },
    {
      "cell_type": "code",
      "execution_count": 4,
      "metadata": {
        "gather": {
          "logged": 1649110332205
        },
        "jupyter": {
          "outputs_hidden": false,
          "source_hidden": false
        },
        "nteract": {
          "transient": {
            "deleting": false
          }
        }
      },
      "outputs": [
        {
          "name": "stdout",
          "output_type": "stream",
          "text": [
            "SDK version: 1.39.0\n"
          ]
        }
      ],
      "source": [
        "import logging\n",
        "import os\n",
        "import csv\n",
        "\n",
        "from matplotlib import pyplot as plt\n",
        "import numpy as np\n",
        "import pandas as pd\n",
        "from sklearn import datasets\n",
        "import pkg_resources\n",
        "\n",
        "import azureml.core\n",
        "from azureml.core.experiment import Experiment\n",
        "from azureml.core.workspace import Workspace\n",
        "from azureml.train.automl import AutoMLConfig\n",
        "from azureml.core.dataset import Dataset\n",
        "from azureml.widgets import RunDetails\n",
        "\n",
        "#from azureml.pipeline.steps import AutoMLStep\n",
        "\n",
        "# Check core SDK version number\n",
        "print(\"SDK version:\", azureml.core.VERSION)"
      ]
    },
    {
      "cell_type": "markdown",
      "metadata": {},
      "source": [
        "## Dataset\n",
        "\n",
        "### Overview\n",
        "TODO: In this markdown cell, give an overview of the dataset you are using. Also mention the task you will be performing.\n",
        "\n",
        "\n",
        "TODO: Get data. In the cell below, write code to access the data you will be using in this project. Remember that the dataset needs to be external."
      ]
    },
    {
      "cell_type": "code",
      "execution_count": 5,
      "metadata": {
        "gather": {
          "logged": 1649110341201
        },
        "jupyter": {
          "outputs_hidden": false,
          "source_hidden": false
        },
        "nteract": {
          "transient": {
            "deleting": false
          }
        }
      },
      "outputs": [],
      "source": [
        "ws = Workspace.from_config()\n",
        "\n",
        "# choose a name for experiment\n",
        "experiment_name = 'automl_heart_failure_exp'\n",
        "\n",
        "experiment=Experiment(ws, experiment_name)"
      ]
    },
    {
      "cell_type": "markdown",
      "metadata": {
        "nteract": {
          "transient": {
            "deleting": false
          }
        }
      },
      "source": [
        "## Dataset"
      ]
    },
    {
      "cell_type": "code",
      "execution_count": 6,
      "metadata": {
        "gather": {
          "logged": 1649110352249
        },
        "jupyter": {
          "outputs_hidden": false,
          "source_hidden": false
        },
        "nteract": {
          "transient": {
            "deleting": false
          }
        }
      },
      "outputs": [],
      "source": [
        "default_ds = ws.get_default_datastore()\n",
        "\n",
        "if 'Heart Failure' not in ws.datasets:\n",
        "    default_ds.upload_files(files=['./heart_failure_clinical_records_dataset.csv'], # Upload the diabetes csv files in /data\n",
        "                        target_path='data/', # Put it in a folder path in the datastore\n",
        "                        overwrite=True, # Replace existing files of the same name\n",
        "                        show_progress=True)\n",
        "\n",
        "    #Create a tabular dataset from the path on the datastore (this may take a short while)\n",
        "    tab_data_set = Dataset.Tabular.from_delimited_files(path=(default_ds, 'data/*.csv'))\n",
        "\n",
        "    # Register the tabular dataset\n",
        "    try:\n",
        "        tab_data_set = tab_data_set.register(workspace=ws, \n",
        "                                name='Heart Failure',\n",
        "                                description='Clinic data',\n",
        "                                tags = {'format':'CSV'},\n",
        "                                create_new_version=True)\n",
        "        print('Dataset registered.')\n",
        "    except Exception as ex:\n",
        "        print(ex)\n",
        "else:\n",
        "    print('Dataset already registered.')"
      ]
    },
    {
      "cell_type": "code",
      "execution_count": 7,
      "metadata": {
        "gather": {
          "logged": 1649110359381
        },
        "jupyter": {
          "outputs_hidden": false,
          "source_hidden": false
        },
        "nteract": {
          "transient": {
            "deleting": false
          }
        }
      },
      "outputs": [],
      "source": [
        "\n",
        "#folder name created in hyperdrive\n",
        "#import os, shutil\n",
        "\n",
        "# Create a folder for the experiment files\n",
        "folder_name = 'training'\n",
        "experiment_folder = './' + folder_name\n",
        "os.makedirs(folder_name, exist_ok=True)\n"
      ]
    },
    {
      "cell_type": "markdown",
      "metadata": {
        "nteract": {
          "transient": {
            "deleting": false
          }
        }
      },
      "source": [
        "## Get data\n",
        "\n",
        "Data has been registered using Hyperdrive, if not run hyperdrive first"
      ]
    },
    {
      "cell_type": "code",
      "execution_count": 8,
      "metadata": {
        "gather": {
          "logged": 1649110369039
        },
        "jupyter": {
          "outputs_hidden": false,
          "source_hidden": false
        },
        "nteract": {
          "transient": {
            "deleting": false
          }
        }
      },
      "outputs": [
        {
          "name": "stdout",
          "output_type": "stream",
          "text": [
            "Data ready!\n"
          ]
        }
      ],
      "source": [
        "# Split the dataset into training and validation subsets\n",
        "# Get the training dataset\n",
        "heart_ds = ws.datasets.get(\"Heart Failure\")\n",
        "#heart_ds=heart_ds.to_pandas_dataframe()\n",
        "\n",
        "\n",
        "train_ds, test_ds = heart_ds.random_split(percentage=0.7, seed=123)\n",
        "print(\"Data ready!\")"
      ]
    },
    {
      "cell_type": "code",
      "execution_count": 9,
      "metadata": {
        "gather": {
          "logged": 1649110375648
        },
        "jupyter": {
          "outputs_hidden": false,
          "source_hidden": false
        },
        "nteract": {
          "transient": {
            "deleting": false
          }
        }
      },
      "outputs": [
        {
          "name": "stdout",
          "output_type": "stream",
          "text": [
            "Found existing cluster, use it.\n"
          ]
        }
      ],
      "source": [
        "from azureml.core.compute import ComputeTarget, AmlCompute\n",
        "from azureml.core.compute_target import ComputeTargetException\n",
        "\n",
        "cluster_name = \"aml-cluster\"\n",
        "\n",
        "try:\n",
        "    # Check for existing compute target\n",
        "    training_cluster = ComputeTarget(workspace=ws, name=cluster_name)\n",
        "    print('Found existing cluster, use it.')\n",
        "except ComputeTargetException:\n",
        "    # If it doesn't already exist, create it\n",
        "    try:\n",
        "        compute_config = AmlCompute.provisioning_configuration(vm_size='STANDARD_DS11_V2', max_nodes=2)\n",
        "        training_cluster = ComputeTarget.create(ws, cluster_name, compute_config)\n",
        "        training_cluster.wait_for_completion(show_output=True)\n",
        "    except Exception as ex:\n",
        "        print(ex)"
      ]
    },
    {
      "cell_type": "markdown",
      "metadata": {},
      "source": [
        "## AutoML Configuration\n",
        "\n",
        "TODO: Explain why you chose the automl settings and cofiguration you used below."
      ]
    },
    {
      "cell_type": "code",
      "execution_count": 10,
      "metadata": {
        "gather": {
          "logged": 1649110383826
        },
        "jupyter": {
          "outputs_hidden": false,
          "source_hidden": false
        },
        "nteract": {
          "transient": {
            "deleting": false
          }
        }
      },
      "outputs": [],
      "source": [
        "#from azureml.train.automl import AutoMLConfig\n",
        "\n",
        "# TODO: Put your automl settings here\n",
        "automl_settings = {\n",
        "    \"experiment_timeout_minutes\": 15,\n",
        "    \"max_concurrent_iterations\": 5,\n",
        "    \"primary_metric\" : 'AUC_weighted'\n",
        "}\n",
        "\n",
        "# TODO: Put your automl config here\n",
        "automl_config = AutoMLConfig(compute_target=training_cluster,\n",
        "                             task = \"classification\",\n",
        "                             training_data=train_ds,\n",
        "                             validation_data = test_ds,\n",
        "                             label_column_name=\"DEATH_EVENT\",   \n",
        "                             #path = experiment_folder,\n",
        "                             enable_early_stopping= True,\n",
        "                             featurization= 'auto',\n",
        "                             debug_log = \"automl_errors.log\",\n",
        "                             **automl_settings\n",
        "\n",
        ")"
      ]
    },
    {
      "cell_type": "code",
      "execution_count": 11,
      "metadata": {
        "gather": {
          "logged": 1649110482162
        },
        "jupyter": {
          "outputs_hidden": false,
          "source_hidden": false
        },
        "nteract": {
          "transient": {
            "deleting": false
          }
        }
      },
      "outputs": [
        {
          "name": "stdout",
          "output_type": "stream",
          "text": [
            "Submitting Auto ML experiment...\n",
            "Submitting remote run.\n"
          ]
        },
        {
          "data": {
            "text/html": [
              "<table style=\"width:100%\"><tr><th>Experiment</th><th>Id</th><th>Type</th><th>Status</th><th>Details Page</th><th>Docs Page</th></tr><tr><td>heart-automl-sdk</td><td>AutoML_7d2b371f-75e7-4fa7-90aa-72b28f02d8b5</td><td>automl</td><td>NotStarted</td><td><a href=\"https://ml.azure.com/runs/AutoML_7d2b371f-75e7-4fa7-90aa-72b28f02d8b5?wsid=/subscriptions/6eee9ed4-ef02-4ad0-bbbd-194153ad2069/resourcegroups/aml-resource/workspaces/aml-workspace&amp;tid=b8f88a0b-3d95-478b-b123-a494d78523a4\" target=\"_blank\" rel=\"noopener\">Link to Azure Machine Learning studio</a></td><td><a href=\"https://docs.microsoft.com/en-us/python/api/overview/azure/ml/intro?view=azure-ml-py\" target=\"_blank\" rel=\"noopener\">Link to Documentation</a></td></tr></table>"
            ],
            "text/plain": [
              "<IPython.core.display.HTML object>"
            ]
          },
          "metadata": {},
          "output_type": "display_data"
        }
      ],
      "source": [
        "from azureml.widgets import RunDetails\n",
        "\n",
        "# TODO: Submit your experiment\n",
        "print('Submitting Auto ML experiment...')\n",
        "automl_experiment = Experiment(ws, 'heart-automl-sdk')\n",
        "remote_run = automl_experiment.submit(automl_config)"
      ]
    },
    {
      "cell_type": "markdown",
      "metadata": {},
      "source": [
        "## Run Details\n",
        "\n",
        "OPTIONAL: Write about the different models trained and their performance. Why do you think some models did better than others?\n",
        "\n",
        "TODO: In the cell below, use the `RunDetails` widget to show the different experiments."
      ]
    },
    {
      "cell_type": "code",
      "execution_count": 12,
      "metadata": {
        "gather": {
          "logged": 1649110511938
        },
        "jupyter": {
          "outputs_hidden": false,
          "source_hidden": false
        },
        "nteract": {
          "transient": {
            "deleting": false
          }
        }
      },
      "outputs": [
        {
          "data": {
            "application/vnd.jupyter.widget-view+json": {
              "model_id": "5b8936e52ce74be0bd4f9a933cf04475",
              "version_major": 2,
              "version_minor": 0
            },
            "text/plain": [
              "_AutoMLWidget(widget_settings={'childWidgetDisplay': 'popup', 'send_telemetry': False, 'log_level': 'INFO', 's…"
            ]
          },
          "metadata": {},
          "output_type": "display_data"
        },
        {
          "data": {
            "application/aml.mini.widget.v1": "{\"status\": \"Completed\", \"workbench_run_details_uri\": \"https://ml.azure.com/runs/AutoML_7d2b371f-75e7-4fa7-90aa-72b28f02d8b5?wsid=/subscriptions/6eee9ed4-ef02-4ad0-bbbd-194153ad2069/resourcegroups/aml-resource/workspaces/aml-workspace&tid=b8f88a0b-3d95-478b-b123-a494d78523a4\", \"run_id\": \"AutoML_7d2b371f-75e7-4fa7-90aa-72b28f02d8b5\", \"run_properties\": {\"run_id\": \"AutoML_7d2b371f-75e7-4fa7-90aa-72b28f02d8b5\", \"created_utc\": \"2022-04-04T22:14:40.273145Z\", \"properties\": {\"num_iterations\": \"1000\", \"training_type\": \"TrainFull\", \"acquisition_function\": \"EI\", \"primary_metric\": \"AUC_weighted\", \"train_split\": \"0\", \"acquisition_parameter\": \"0\", \"num_cross_validation\": null, \"target\": \"aml-cluster\", \"AMLSettingsJsonString\": \"{\\\"path\\\":null,\\\"name\\\":\\\"heart-automl-sdk\\\",\\\"subscription_id\\\":\\\"6eee9ed4-ef02-4ad0-bbbd-194153ad2069\\\",\\\"resource_group\\\":\\\"aml-resource\\\",\\\"workspace_name\\\":\\\"aml-workspace\\\",\\\"region\\\":\\\"westeurope\\\",\\\"compute_target\\\":\\\"aml-cluster\\\",\\\"spark_service\\\":null,\\\"azure_service\\\":\\\"remote\\\",\\\"many_models\\\":false,\\\"pipeline_fetch_max_batch_size\\\":1,\\\"enable_batch_run\\\":true,\\\"enable_run_restructure\\\":false,\\\"start_auxiliary_runs_before_parent_complete\\\":false,\\\"enable_code_generation\\\":false,\\\"iterations\\\":1000,\\\"primary_metric\\\":\\\"AUC_weighted\\\",\\\"task_type\\\":\\\"classification\\\",\\\"positive_label\\\":null,\\\"data_script\\\":null,\\\"test_size\\\":0.0,\\\"test_include_predictions_only\\\":false,\\\"validation_size\\\":0.0,\\\"n_cross_validations\\\":null,\\\"y_min\\\":null,\\\"y_max\\\":null,\\\"num_classes\\\":null,\\\"featurization\\\":\\\"auto\\\",\\\"_ignore_package_version_incompatibilities\\\":false,\\\"is_timeseries\\\":false,\\\"max_cores_per_iteration\\\":1,\\\"max_concurrent_iterations\\\":5,\\\"iteration_timeout_minutes\\\":null,\\\"mem_in_mb\\\":null,\\\"enforce_time_on_windows\\\":false,\\\"experiment_timeout_minutes\\\":15,\\\"experiment_exit_score\\\":null,\\\"partition_column_names\\\":null,\\\"whitelist_models\\\":null,\\\"blacklist_algos\\\":[\\\"TensorFlowLinearClassifier\\\",\\\"TensorFlowDNN\\\"],\\\"supported_models\\\":[\\\"LightGBM\\\",\\\"TabnetClassifier\\\",\\\"KNN\\\",\\\"TensorFlowDNN\\\",\\\"AveragedPerceptronClassifier\\\",\\\"GradientBoosting\\\",\\\"RandomForest\\\",\\\"XGBoostClassifier\\\",\\\"LinearSVM\\\",\\\"BernoulliNaiveBayes\\\",\\\"SVM\\\",\\\"MultinomialNaiveBayes\\\",\\\"SGD\\\",\\\"DecisionTree\\\",\\\"ExtremeRandomTrees\\\",\\\"TensorFlowLinearClassifier\\\",\\\"LogisticRegression\\\"],\\\"private_models\\\":[],\\\"auto_blacklist\\\":true,\\\"blacklist_samples_reached\\\":false,\\\"exclude_nan_labels\\\":true,\\\"verbosity\\\":20,\\\"_debug_log\\\":\\\"azureml_automl.log\\\",\\\"show_warnings\\\":false,\\\"model_explainability\\\":true,\\\"service_url\\\":null,\\\"sdk_url\\\":null,\\\"sdk_packages\\\":null,\\\"enable_onnx_compatible_models\\\":false,\\\"enable_split_onnx_featurizer_estimator_models\\\":false,\\\"vm_type\\\":\\\"STANDARD_DS11_V2\\\",\\\"telemetry_verbosity\\\":20,\\\"send_telemetry\\\":true,\\\"enable_dnn\\\":false,\\\"scenario\\\":\\\"SDK-1.13.0\\\",\\\"environment_label\\\":null,\\\"save_mlflow\\\":false,\\\"enable_categorical_indicators\\\":false,\\\"force_text_dnn\\\":false,\\\"enable_feature_sweeping\\\":true,\\\"enable_early_stopping\\\":true,\\\"early_stopping_n_iters\\\":10,\\\"arguments\\\":null,\\\"dataset_id\\\":\\\"dbc21fcd-ad20-4062-9008-2699406085b4\\\",\\\"hyperdrive_config\\\":null,\\\"validation_dataset_id\\\":\\\"257748ea-0889-4d11-a783-fb30bbe291a7\\\",\\\"run_source\\\":null,\\\"metrics\\\":null,\\\"enable_metric_confidence\\\":false,\\\"enable_ensembling\\\":true,\\\"enable_stack_ensembling\\\":true,\\\"ensemble_iterations\\\":15,\\\"enable_tf\\\":false,\\\"enable_subsampling\\\":null,\\\"subsample_seed\\\":null,\\\"enable_nimbusml\\\":false,\\\"enable_streaming\\\":false,\\\"force_streaming\\\":false,\\\"track_child_runs\\\":true,\\\"allowed_private_models\\\":[],\\\"label_column_name\\\":\\\"DEATH_EVENT\\\",\\\"weight_column_name\\\":null,\\\"cv_split_column_names\\\":null,\\\"enable_local_managed\\\":false,\\\"_local_managed_run_id\\\":null,\\\"cost_mode\\\":1,\\\"lag_length\\\":0,\\\"metric_operation\\\":\\\"maximize\\\",\\\"preprocess\\\":true}\", \"DataPrepJsonString\": \"{\\\\\\\"training_data\\\\\\\": {\\\\\\\"datasetId\\\\\\\": \\\\\\\"dbc21fcd-ad20-4062-9008-2699406085b4\\\\\\\"}, \\\\\\\"validation_data\\\\\\\": {\\\\\\\"datasetId\\\\\\\": \\\\\\\"257748ea-0889-4d11-a783-fb30bbe291a7\\\\\\\"}, \\\\\\\"datasets\\\\\\\": 0}\", \"EnableSubsampling\": null, \"runTemplate\": \"AutoML\", \"azureml.runsource\": \"automl\", \"display_task_type\": \"classification\", \"dependencies_versions\": \"{\\\"azureml-widgets\\\": \\\"1.39.0\\\", \\\"azureml-training-tabular\\\": \\\"1.39.0\\\", \\\"azureml-train\\\": \\\"1.39.0\\\", \\\"azureml-train-restclients-hyperdrive\\\": \\\"1.39.0\\\", \\\"azureml-train-core\\\": \\\"1.39.0\\\", \\\"azureml-train-automl\\\": \\\"1.39.0\\\", \\\"azureml-train-automl-runtime\\\": \\\"1.39.0\\\", \\\"azureml-train-automl-client\\\": \\\"1.39.0\\\", \\\"azureml-tensorboard\\\": \\\"1.39.0\\\", \\\"azureml-telemetry\\\": \\\"1.39.0\\\", \\\"azureml-sdk\\\": \\\"1.39.0\\\", \\\"azureml-samples\\\": \\\"0+unknown\\\", \\\"azureml-responsibleai\\\": \\\"1.39.0\\\", \\\"azureml-pipeline\\\": \\\"1.39.0\\\", \\\"azureml-pipeline-steps\\\": \\\"1.39.0\\\", \\\"azureml-pipeline-core\\\": \\\"1.39.0\\\", \\\"azureml-opendatasets\\\": \\\"1.39.0\\\", \\\"azureml-mlflow\\\": \\\"1.39.0\\\", \\\"azureml-interpret\\\": \\\"1.39.0\\\", \\\"azureml-inference-server-http\\\": \\\"0.4.10\\\", \\\"azureml-explain-model\\\": \\\"1.39.0\\\", \\\"azureml-defaults\\\": \\\"1.39.0\\\", \\\"azureml-dataset-runtime\\\": \\\"1.39.0\\\", \\\"azureml-dataprep\\\": \\\"2.27.1\\\", \\\"azureml-dataprep-rslex\\\": \\\"2.3.1\\\", \\\"azureml-dataprep-native\\\": \\\"38.0.0\\\", \\\"azureml-datadrift\\\": \\\"1.39.0\\\", \\\"azureml-core\\\": \\\"1.39.0\\\", \\\"azureml-contrib-services\\\": \\\"1.39.0\\\", \\\"azureml-contrib-server\\\": \\\"1.39.0\\\", \\\"azureml-contrib-reinforcementlearning\\\": \\\"1.39.0\\\", \\\"azureml-contrib-pipeline-steps\\\": \\\"1.39.0\\\", \\\"azureml-contrib-notebook\\\": \\\"1.39.0\\\", \\\"azureml-contrib-fairness\\\": \\\"1.39.0\\\", \\\"azureml-contrib-dataset\\\": \\\"1.39.0\\\", \\\"azureml-contrib-automl-pipeline-steps\\\": \\\"1.39.0\\\", \\\"azureml-cli-common\\\": \\\"1.39.0\\\", \\\"azureml-automl-runtime\\\": \\\"1.39.0\\\", \\\"azureml-automl-dnn-nlp\\\": \\\"1.39.0\\\", \\\"azureml-automl-core\\\": \\\"1.39.0\\\", \\\"azureml-accel-models\\\": \\\"1.39.0\\\"}\", \"_aml_system_scenario_identification\": \"Remote.Parent\", \"ClientType\": \"SDK\", \"environment_cpu_name\": \"AzureML-AutoML\", \"environment_cpu_label\": \"prod\", \"environment_gpu_name\": \"AzureML-AutoML-GPU\", \"environment_gpu_label\": \"prod\", \"root_attribution\": \"automl\", \"attribution\": \"AutoML\", \"Orchestrator\": \"AutoML\", \"CancelUri\": \"https://westeurope.api.azureml.ms/jasmine/v1.0/subscriptions/6eee9ed4-ef02-4ad0-bbbd-194153ad2069/resourceGroups/aml-resource/providers/Microsoft.MachineLearningServices/workspaces/aml-workspace/experimentids/8343e44e-9ae4-458e-ac44-f9261e218c45/cancel/AutoML_7d2b371f-75e7-4fa7-90aa-72b28f02d8b5\", \"azureml.git.repository_uri\": \"https://github.com/Aduzona/Capstone_Project---Azure-ML_Engineer.git\", \"mlflow.source.git.repoURL\": \"https://github.com/Aduzona/Capstone_Project---Azure-ML_Engineer.git\", \"azureml.git.branch\": \"master\", \"mlflow.source.git.branch\": \"master\", \"azureml.git.commit\": \"c17f1e6bd58dbbf6ec619d8d99f8d566b15dbc63\", \"mlflow.source.git.commit\": \"c17f1e6bd58dbbf6ec619d8d99f8d566b15dbc63\", \"azureml.git.dirty\": \"True\", \"ClientSdkVersion\": \"1.39.1\", \"snapshotId\": \"00000000-0000-0000-0000-000000000000\", \"SetupRunId\": \"AutoML_7d2b371f-75e7-4fa7-90aa-72b28f02d8b5_setup\", \"SetupRunContainerId\": \"dcid.AutoML_7d2b371f-75e7-4fa7-90aa-72b28f02d8b5_setup\", \"FeaturizationRunJsonPath\": \"featurizer_container.json\", \"FeaturizationRunId\": \"AutoML_7d2b371f-75e7-4fa7-90aa-72b28f02d8b5_featurize\", \"ProblemInfoJsonString\": \"{\\\"dataset_num_categorical\\\": 0, \\\"is_sparse\\\": false, \\\"subsampling\\\": false, \\\"has_extra_col\\\": true, \\\"dataset_classes\\\": 2, \\\"dataset_features\\\": 12, \\\"dataset_samples\\\": 299, \\\"single_frequency_class_detected\\\": false}\", \"ModelExplainRunId\": \"AutoML_7d2b371f-75e7-4fa7-90aa-72b28f02d8b5_ModelExplain\"}, \"tags\": {\"model_explain_run\": \"best_run\", \"_aml_system_automl_run_workspace_id\": \"a56dcbe8-ad86-4c58-9316-5da449b45496\", \"_aml_system_azureml.automlComponent\": \"AutoML\", \"pipeline_id\": \"\", \"score\": \"\", \"predicted_cost\": \"\", \"fit_time\": \"\", \"training_percent\": \"\", \"iteration\": \"\", \"run_preprocessor\": \"\", \"run_algorithm\": \"\", \"dynamic_whitelisting_iterations\": \"<24>;<30>;\", \"_aml_system_azureml.automl_early_exit_message\": \"Experiment timeout reached, hence experiment stopped. Current experiment timeout: 0 hour(s) 15 minute(s)\", \"automl_best_child_run_id\": \"AutoML_7d2b371f-75e7-4fa7-90aa-72b28f02d8b5_0\", \"model_explain_best_run_child_id\": \"AutoML_7d2b371f-75e7-4fa7-90aa-72b28f02d8b5_0\"}, \"end_time_utc\": \"2022-04-04T22:41:24.808398Z\", \"status\": \"Completed\", \"log_files\": {}, \"log_groups\": [], \"run_duration\": \"0:26:44\", \"run_number\": \"1649110480\", \"run_queued_details\": {\"status\": \"Completed\", \"details\": null}}, \"child_runs\": [{\"run_id\": \"AutoML_7d2b371f-75e7-4fa7-90aa-72b28f02d8b5_setup\", \"run_number\": 1649110492, \"metric\": null, \"status\": \"Completed\", \"run_type\": \"azureml.scriptrun\", \"training_percent\": null, \"start_time\": \"2022-04-04T22:20:57.51855Z\", \"end_time\": \"2022-04-04T22:21:10.826052Z\", \"created_time\": \"2022-04-04T22:14:52.506189Z\", \"created_time_dt\": \"2022-04-04T22:14:52.506189Z\", \"duration\": \"0:06:18\", \"iteration\": null, \"goal\": null, \"run_name\": \"Completed\", \"run_properties\": null}, {\"run_id\": \"AutoML_7d2b371f-75e7-4fa7-90aa-72b28f02d8b5_featurize\", \"run_number\": 1649110871, \"metric\": null, \"status\": \"Completed\", \"run_type\": \"automl.featurization\", \"training_percent\": null, \"start_time\": \"2022-04-04T22:21:11.624968Z\", \"end_time\": \"2022-04-04T22:21:52.442851Z\", \"created_time\": \"2022-04-04T22:21:11.229391Z\", \"created_time_dt\": \"2022-04-04T22:21:11.229391Z\", \"duration\": \"0:00:41\", \"iteration\": null, \"goal\": null, \"run_name\": \"Completed\", \"run_properties\": null}, {\"run_id\": \"AutoML_7d2b371f-75e7-4fa7-90aa-72b28f02d8b5_0\", \"run_number\": 1649110914, \"metric\": null, \"status\": \"Completed\", \"run_type\": null, \"training_percent\": \"100\", \"start_time\": \"2022-04-04T22:23:14.413368Z\", \"end_time\": \"2022-04-04T22:23:29.805152Z\", \"created_time\": \"2022-04-04T22:21:54.60125Z\", \"created_time_dt\": \"2022-04-04T22:21:54.60125Z\", \"duration\": \"0:01:35\", \"iteration\": \"0\", \"goal\": \"AUC_weighted_max\", \"run_name\": \"MaxAbsScaler, LightGBM\", \"run_properties\": \"copy=True\", \"primary_metric\": 1.0, \"best_metric\": 1.0}, {\"run_id\": \"AutoML_7d2b371f-75e7-4fa7-90aa-72b28f02d8b5_1\", \"run_number\": 1649110915, \"metric\": null, \"status\": \"Completed\", \"run_type\": null, \"training_percent\": \"100\", \"start_time\": \"2022-04-04T22:23:30.056362Z\", \"end_time\": \"2022-04-04T22:23:44.625279Z\", \"created_time\": \"2022-04-04T22:21:54.99001Z\", \"created_time_dt\": \"2022-04-04T22:21:54.99001Z\", \"duration\": \"0:01:49\", \"iteration\": \"1\", \"goal\": \"AUC_weighted_max\", \"run_name\": \"MaxAbsScaler, XGBoostClassifier\", \"run_properties\": \"copy=True\", \"primary_metric\": 1.0, \"best_metric\": 1.0}, {\"run_id\": \"AutoML_7d2b371f-75e7-4fa7-90aa-72b28f02d8b5_worker_0\", \"run_number\": 1649110916, \"metric\": null, \"status\": \"Completed\", \"run_type\": \"azureml.scriptrun\", \"training_percent\": null, \"start_time\": \"2022-04-04T22:24:15.835955Z\", \"end_time\": \"2022-04-04T22:24:19.485926Z\", \"created_time\": \"2022-04-04T22:21:55.997012Z\", \"created_time_dt\": \"2022-04-04T22:21:55.997012Z\", \"duration\": \"0:02:23\", \"iteration\": null, \"goal\": null, \"run_name\": \"Completed\", \"run_properties\": null}, {\"run_id\": \"AutoML_7d2b371f-75e7-4fa7-90aa-72b28f02d8b5_6\", \"run_number\": 1649110917, \"metric\": null, \"status\": \"Completed\", \"run_type\": null, \"training_percent\": \"100\", \"start_time\": \"2022-04-04T22:25:02.651192Z\", \"end_time\": \"2022-04-04T22:25:17.236102Z\", \"created_time\": \"2022-04-04T22:21:56.987574Z\", \"created_time_dt\": \"2022-04-04T22:21:56.987574Z\", \"duration\": \"0:03:20\", \"iteration\": \"6\", \"goal\": \"AUC_weighted_max\", \"run_name\": \"SparseNormalizer, XGBoostClassifier\", \"run_properties\": \"copy=True, norm='max'\", \"primary_metric\": 1.0, \"best_metric\": 1.0}, {\"run_id\": \"AutoML_7d2b371f-75e7-4fa7-90aa-72b28f02d8b5_9\", \"run_number\": 1649110918, \"metric\": null, \"status\": \"Completed\", \"run_type\": null, \"training_percent\": \"100\", \"start_time\": \"2022-04-04T22:26:07.40874Z\", \"end_time\": \"2022-04-04T22:26:23.141063Z\", \"created_time\": \"2022-04-04T22:21:58.312669Z\", \"created_time_dt\": \"2022-04-04T22:21:58.312669Z\", \"duration\": \"0:04:24\", \"iteration\": \"9\", \"goal\": \"AUC_weighted_max\", \"run_name\": \"MinMaxScaler, RandomForest\", \"run_properties\": \"copy=True, feature_range=(0, 1\", \"primary_metric\": 0.98360656, \"best_metric\": 1.0}, {\"run_id\": \"AutoML_7d2b371f-75e7-4fa7-90aa-72b28f02d8b5_11\", \"run_number\": 1649110919, \"metric\": null, \"status\": \"Completed\", \"run_type\": null, \"training_percent\": \"100\", \"start_time\": \"2022-04-04T22:26:39.51587Z\", \"end_time\": \"2022-04-04T22:26:54.257356Z\", \"created_time\": \"2022-04-04T22:21:59.134475Z\", \"created_time_dt\": \"2022-04-04T22:21:59.134475Z\", \"duration\": \"0:04:55\", \"iteration\": \"11\", \"goal\": \"AUC_weighted_max\", \"run_name\": \"StandardScalerWrapper, SVM\", \"run_properties\": \"copy=True, with_mean=True, with_std=True\", \"primary_metric\": 1.0, \"best_metric\": 1.0}, {\"run_id\": \"AutoML_7d2b371f-75e7-4fa7-90aa-72b28f02d8b5_14\", \"run_number\": 1649110920, \"metric\": null, \"status\": \"Completed\", \"run_type\": null, \"training_percent\": \"100\", \"start_time\": \"2022-04-04T22:28:06.258709Z\", \"end_time\": \"2022-04-04T22:28:20.906066Z\", \"created_time\": \"2022-04-04T22:22:00.343601Z\", \"created_time_dt\": \"2022-04-04T22:22:00.343601Z\", \"duration\": \"0:06:20\", \"iteration\": \"14\", \"goal\": \"AUC_weighted_max\", \"run_name\": \"RobustScaler, ExtremeRandomTrees\", \"run_properties\": \"copy=True, quantile_range=[10, 90], with_centering=True,\\n             with_scaling=False\", \"primary_metric\": 0.96212549, \"best_metric\": 1.0}, {\"run_id\": \"AutoML_7d2b371f-75e7-4fa7-90aa-72b28f02d8b5_16\", \"run_number\": 1649110921, \"metric\": null, \"status\": \"Completed\", \"run_type\": null, \"training_percent\": \"100\", \"start_time\": \"2022-04-04T22:29:19.553849Z\", \"end_time\": \"2022-04-04T22:29:34.203638Z\", \"created_time\": \"2022-04-04T22:22:01.093695Z\", \"created_time_dt\": \"2022-04-04T22:22:01.093695Z\", \"duration\": \"0:07:33\", \"iteration\": \"16\", \"goal\": \"AUC_weighted_max\", \"run_name\": \"MinMaxScaler, ExtremeRandomTrees\", \"run_properties\": \"copy=True, feature_range=(0, 1\", \"primary_metric\": 0.9807801, \"best_metric\": 1.0}, {\"run_id\": \"AutoML_7d2b371f-75e7-4fa7-90aa-72b28f02d8b5_19\", \"run_number\": 1649110922, \"metric\": null, \"status\": \"Completed\", \"run_type\": null, \"training_percent\": \"100\", \"start_time\": \"2022-04-04T22:30:04.875656Z\", \"end_time\": \"2022-04-04T22:30:20.1261Z\", \"created_time\": \"2022-04-04T22:22:02.251278Z\", \"created_time_dt\": \"2022-04-04T22:22:02.251278Z\", \"duration\": \"0:08:17\", \"iteration\": \"19\", \"goal\": \"AUC_weighted_max\", \"run_name\": \"MaxAbsScaler, ExtremeRandomTrees\", \"run_properties\": \"copy=True\", \"primary_metric\": 1.0, \"best_metric\": 1.0}, {\"run_id\": \"AutoML_7d2b371f-75e7-4fa7-90aa-72b28f02d8b5_22\", \"run_number\": 1649111318, \"metric\": null, \"status\": \"Completed\", \"run_type\": \"azureml.scriptrun\", \"training_percent\": \"100\", \"start_time\": \"2022-04-04T22:30:53.397839Z\", \"end_time\": \"2022-04-04T22:30:57.113153Z\", \"created_time\": \"2022-04-04T22:28:38.979822Z\", \"created_time_dt\": \"2022-04-04T22:28:38.979822Z\", \"duration\": \"0:02:18\", \"iteration\": \"22\", \"goal\": \"AUC_weighted_max\", \"run_name\": \"MaxAbsScaler, LightGBM\", \"run_properties\": \"copy=True\", \"primary_metric\": 0.98530243, \"best_metric\": 1.0}, {\"run_id\": \"AutoML_7d2b371f-75e7-4fa7-90aa-72b28f02d8b5_23\", \"run_number\": 1649111407, \"metric\": null, \"status\": \"Completed\", \"run_type\": \"azureml.scriptrun\", \"training_percent\": \"100\", \"start_time\": \"2022-04-04T22:33:45.880374Z\", \"end_time\": \"2022-04-04T22:33:49.585501Z\", \"created_time\": \"2022-04-04T22:30:07.102664Z\", \"created_time_dt\": \"2022-04-04T22:30:07.102664Z\", \"duration\": \"0:03:42\", \"iteration\": \"23\", \"goal\": \"AUC_weighted_max\", \"run_name\": \"MaxAbsScaler, LogisticRegression\", \"run_properties\": \"copy=True\", \"primary_metric\": 0.90955342, \"best_metric\": 1.0}, {\"run_id\": \"AutoML_7d2b371f-75e7-4fa7-90aa-72b28f02d8b5_25\", \"run_number\": 1649111461, \"metric\": null, \"status\": \"Completed\", \"run_type\": \"azureml.scriptrun\", \"training_percent\": \"100\", \"start_time\": \"2022-04-04T22:34:17.046421Z\", \"end_time\": \"2022-04-04T22:34:20.532743Z\", \"created_time\": \"2022-04-04T22:31:00.993481Z\", \"created_time_dt\": \"2022-04-04T22:31:00.993481Z\", \"duration\": \"0:03:19\", \"iteration\": \"25\", \"goal\": \"AUC_weighted_max\", \"run_name\": \"StandardScalerWrapper, ExtremeRandomTrees\", \"run_properties\": \"copy=True, with_mean=False, with_std=True\", \"primary_metric\": 0.99321651, \"best_metric\": 1.0}, {\"run_id\": \"AutoML_7d2b371f-75e7-4fa7-90aa-72b28f02d8b5_26\", \"run_number\": 1649111502, \"metric\": null, \"status\": \"Completed\", \"run_type\": \"azureml.scriptrun\", \"training_percent\": \"100\", \"start_time\": \"2022-04-04T22:36:14.246024Z\", \"end_time\": \"2022-04-04T22:36:17.931145Z\", \"created_time\": \"2022-04-04T22:31:41.993941Z\", \"created_time_dt\": \"2022-04-04T22:31:41.993941Z\", \"duration\": \"0:04:35\", \"iteration\": \"26\", \"goal\": \"AUC_weighted_max\", \"run_name\": \"StandardScalerWrapper, KNN\", \"run_properties\": \"copy=True, with_mean=False, with_std=True\", \"primary_metric\": 1.0, \"best_metric\": 1.0}, {\"run_id\": \"AutoML_7d2b371f-75e7-4fa7-90aa-72b28f02d8b5_27\", \"run_number\": 1649111534, \"metric\": null, \"status\": \"Completed\", \"run_type\": \"azureml.scriptrun\", \"training_percent\": \"100\", \"start_time\": \"2022-04-04T22:37:51.617382Z\", \"end_time\": \"2022-04-04T22:37:55.450143Z\", \"created_time\": \"2022-04-04T22:32:14.83019Z\", \"created_time_dt\": \"2022-04-04T22:32:14.83019Z\", \"duration\": \"0:05:40\", \"iteration\": \"27\", \"goal\": \"AUC_weighted_max\", \"run_name\": \"RobustScaler, SVM\", \"run_properties\": \"copy=True, quantile_range=[10, 90], with_centering=False,\\n             with_scaling=True\", \"primary_metric\": 0.93838327, \"best_metric\": 1.0}, {\"run_id\": \"AutoML_7d2b371f-75e7-4fa7-90aa-72b28f02d8b5_28\", \"run_number\": 1649111631, \"metric\": null, \"status\": \"Canceled\", \"run_type\": \"azureml.scriptrun\", \"training_percent\": \"100\", \"start_time\": \"2022-04-04T22:37:56.290239Z\", \"end_time\": \"2022-04-04T22:37:56.686533Z\", \"created_time\": \"2022-04-04T22:33:51.261807Z\", \"created_time_dt\": \"2022-04-04T22:33:51.261807Z\", \"duration\": \"0:04:05\", \"iteration\": \"28\", \"goal\": null, \"run_name\": \"Canceled\", \"run_properties\": null}, {\"run_id\": \"AutoML_7d2b371f-75e7-4fa7-90aa-72b28f02d8b5_29\", \"run_number\": 1649111662, \"metric\": null, \"status\": \"Canceled\", \"run_type\": \"azureml.scriptrun\", \"training_percent\": \"100\", \"start_time\": \"2022-04-04T22:37:56.435112Z\", \"end_time\": \"2022-04-04T22:37:56.707899Z\", \"created_time\": \"2022-04-04T22:34:22.019065Z\", \"created_time_dt\": \"2022-04-04T22:34:22.019065Z\", \"duration\": \"0:03:34\", \"iteration\": \"29\", \"goal\": null, \"run_name\": \"Canceled\", \"run_properties\": null}, {\"run_id\": \"AutoML_7d2b371f-75e7-4fa7-90aa-72b28f02d8b5_30\", \"run_number\": 1649111747, \"metric\": null, \"status\": \"Canceled\", \"run_type\": \"azureml.scriptrun\", \"training_percent\": \"100\", \"start_time\": \"2022-04-04T22:37:56.292927Z\", \"end_time\": \"2022-04-04T22:37:56.53693Z\", \"created_time\": \"2022-04-04T22:35:47.923958Z\", \"created_time_dt\": \"2022-04-04T22:35:47.923958Z\", \"duration\": \"0:02:08\", \"iteration\": \"30\", \"goal\": null, \"run_name\": \"Canceled\", \"run_properties\": null}, {\"run_id\": \"AutoML_7d2b371f-75e7-4fa7-90aa-72b28f02d8b5_31\", \"run_number\": 1649111779, \"metric\": null, \"status\": \"Canceled\", \"run_type\": \"azureml.scriptrun\", \"training_percent\": \"100\", \"start_time\": \"2022-04-04T22:37:56.330805Z\", \"end_time\": \"2022-04-04T22:37:56.580862Z\", \"created_time\": \"2022-04-04T22:36:19.431997Z\", \"created_time_dt\": \"2022-04-04T22:36:19.431997Z\", \"duration\": \"0:01:37\", \"iteration\": \"31\", \"goal\": null, \"run_name\": \"Canceled\", \"run_properties\": null}, {\"run_id\": \"AutoML_7d2b371f-75e7-4fa7-90aa-72b28f02d8b5_32\", \"run_number\": 1649111877, \"metric\": null, \"status\": \"Completed\", \"run_type\": \"azureml.scriptrun\", \"training_percent\": \"100\", \"start_time\": \"2022-04-04T22:39:34.72942Z\", \"end_time\": \"2022-04-04T22:39:39.605506Z\", \"created_time\": \"2022-04-04T22:37:57.526178Z\", \"created_time_dt\": \"2022-04-04T22:37:57.526178Z\", \"duration\": \"0:01:42\", \"iteration\": \"32\", \"goal\": \"AUC_weighted_max\", \"run_name\": \"VotingEnsemble\", \"run_properties\": \"classification_labels=array([0, 1]\", \"primary_metric\": 1.0, \"best_metric\": 1.0}], \"children_metrics\": {\"categories\": [0], \"series\": {\"balanced_accuracy\": [{\"categories\": [\"0\", \"1\", \"6\", \"9\", \"11\", \"14\", \"16\", \"19\", \"22\", \"23\", \"25\", \"26\", \"27\", \"32\"], \"mode\": \"markers\", \"name\": \"balanced_accuracy\", \"stepped\": false, \"type\": \"scatter\", \"data\": [1.0, 1.0, 1.0, 0.8629169022046353, 1.0, 0.8555681175805541, 0.8193894855850763, 0.9918032786885246, 0.8193894855850763, 0.7981910684002261, 0.9918032786885246, 1.0, 0.8038439796495196, 1.0]}, {\"categories\": [\"0\", \"1\", \"6\", \"9\", \"11\", \"14\", \"16\", \"19\", \"22\", \"23\", \"25\", \"26\", \"27\", \"32\"], \"mode\": \"lines\", \"name\": \"balanced_accuracy_max\", \"stepped\": true, \"type\": \"scatter\", \"data\": [1.0, 1.0, 1.0, 1.0, 1.0, 1.0, 1.0, 1.0, 1.0, 1.0, 1.0, 1.0, 1.0, 1.0]}], \"matthews_correlation\": [{\"categories\": [\"0\", \"1\", \"6\", \"9\", \"11\", \"14\", \"16\", \"19\", \"22\", \"23\", \"25\", \"26\", \"27\", \"32\"], \"mode\": \"markers\", \"name\": \"matthews_correlation\", \"stepped\": false, \"type\": \"scatter\", \"data\": [1.0, 1.0, 1.0, 0.7670497251462313, 1.0, 0.717863487077264, 0.7180430933259171, 0.9750998267516755, 0.7180430933259171, 0.5717065609706358, 0.9750998267516755, 1.0, 0.6340417633643177, 1.0]}, {\"categories\": [\"0\", \"1\", \"6\", \"9\", \"11\", \"14\", \"16\", \"19\", \"22\", \"23\", \"25\", \"26\", \"27\", \"32\"], \"mode\": \"lines\", \"name\": \"matthews_correlation_max\", \"stepped\": true, \"type\": \"scatter\", \"data\": [1.0, 1.0, 1.0, 1.0, 1.0, 1.0, 1.0, 1.0, 1.0, 1.0, 1.0, 1.0, 1.0, 1.0]}], \"recall_score_macro\": [{\"categories\": [\"0\", \"1\", \"6\", \"9\", \"11\", \"14\", \"16\", \"19\", \"22\", \"23\", \"25\", \"26\", \"27\", \"32\"], \"mode\": \"markers\", \"name\": \"recall_score_macro\", \"stepped\": false, \"type\": \"scatter\", \"data\": [1.0, 1.0, 1.0, 0.8629169022046353, 1.0, 0.8555681175805541, 0.8193894855850763, 0.9918032786885246, 0.8193894855850763, 0.7981910684002261, 0.9918032786885246, 1.0, 0.8038439796495196, 1.0]}, {\"categories\": [\"0\", \"1\", \"6\", \"9\", \"11\", \"14\", \"16\", \"19\", \"22\", \"23\", \"25\", \"26\", \"27\", \"32\"], \"mode\": \"lines\", \"name\": \"recall_score_macro_max\", \"stepped\": true, \"type\": \"scatter\", \"data\": [1.0, 1.0, 1.0, 1.0, 1.0, 1.0, 1.0, 1.0, 1.0, 1.0, 1.0, 1.0, 1.0, 1.0]}], \"average_precision_score_macro\": [{\"categories\": [\"0\", \"1\", \"6\", \"9\", \"11\", \"14\", \"16\", \"19\", \"22\", \"23\", \"25\", \"26\", \"27\", \"32\"], \"mode\": \"markers\", \"name\": \"average_precision_score_macro\", \"stepped\": false, \"type\": \"scatter\", \"data\": [0.9999999999999999, 0.9999999999999999, 0.9999999999999999, 0.9774908862921572, 0.9999999999999999, 0.9526594584262849, 0.9743318588834514, 0.9999999999999999, 0.9811968240179415, 0.8970913913504979, 0.990033989399706, 1.0, 0.9330314445457597, 0.9999999999999999]}, {\"categories\": [\"0\", \"1\", \"6\", \"9\", \"11\", \"14\", \"16\", \"19\", \"22\", \"23\", \"25\", \"26\", \"27\", \"32\"], \"mode\": \"lines\", \"name\": \"average_precision_score_macro_max\", \"stepped\": true, \"type\": \"scatter\", \"data\": [0.9999999999999999, 0.9999999999999999, 0.9999999999999999, 0.9999999999999999, 0.9999999999999999, 0.9999999999999999, 0.9999999999999999, 0.9999999999999999, 0.9999999999999999, 0.9999999999999999, 0.9999999999999999, 1.0, 1.0, 1.0]}], \"f1_score_micro\": [{\"categories\": [\"0\", \"1\", \"6\", \"9\", \"11\", \"14\", \"16\", \"19\", \"22\", \"23\", \"25\", \"26\", \"27\", \"32\"], \"mode\": \"markers\", \"name\": \"f1_score_micro\", \"stepped\": false, \"type\": \"scatter\", \"data\": [1.0, 1.0, 1.0, 0.9, 1.0, 0.8777777777777779, 0.8777777777777779, 0.9888888888888889, 0.8777777777777779, 0.8000000000000002, 0.9888888888888889, 1.0, 0.8444444444444444, 1.0]}, {\"categories\": [\"0\", \"1\", \"6\", \"9\", \"11\", \"14\", \"16\", \"19\", \"22\", \"23\", \"25\", \"26\", \"27\", \"32\"], \"mode\": \"lines\", \"name\": \"f1_score_micro_max\", \"stepped\": true, \"type\": \"scatter\", \"data\": [1.0, 1.0, 1.0, 1.0, 1.0, 1.0, 1.0, 1.0, 1.0, 1.0, 1.0, 1.0, 1.0, 1.0]}], \"average_precision_score_weighted\": [{\"categories\": [\"0\", \"1\", \"6\", \"9\", \"11\", \"14\", \"16\", \"19\", \"22\", \"23\", \"25\", \"26\", \"27\", \"32\"], \"mode\": \"markers\", \"name\": \"average_precision_score_weighted\", \"stepped\": false, \"type\": \"scatter\", \"data\": [1.0, 1.0, 1.0, 0.9830801141185672, 1.0, 0.9636326473616906, 0.980516255572752, 1.0, 0.9855935821615756, 0.9178861054540516, 0.9926193042848009, 1.0, 0.9465344444648944, 1.0]}, {\"categories\": [\"0\", \"1\", \"6\", \"9\", \"11\", \"14\", \"16\", \"19\", \"22\", \"23\", \"25\", \"26\", \"27\", \"32\"], \"mode\": \"lines\", \"name\": \"average_precision_score_weighted_max\", \"stepped\": true, \"type\": \"scatter\", \"data\": [1.0, 1.0, 1.0, 1.0, 1.0, 1.0, 1.0, 1.0, 1.0, 1.0, 1.0, 1.0, 1.0, 1.0]}], \"recall_score_weighted\": [{\"categories\": [\"0\", \"1\", \"6\", \"9\", \"11\", \"14\", \"16\", \"19\", \"22\", \"23\", \"25\", \"26\", \"27\", \"32\"], \"mode\": \"markers\", \"name\": \"recall_score_weighted\", \"stepped\": false, \"type\": \"scatter\", \"data\": [1.0, 1.0, 1.0, 0.9, 1.0, 0.8777777777777778, 0.8777777777777778, 0.9888888888888889, 0.8777777777777778, 0.8, 0.9888888888888889, 1.0, 0.8444444444444444, 1.0]}, {\"categories\": [\"0\", \"1\", \"6\", \"9\", \"11\", \"14\", \"16\", \"19\", \"22\", \"23\", \"25\", \"26\", \"27\", \"32\"], \"mode\": \"lines\", \"name\": \"recall_score_weighted_max\", \"stepped\": true, \"type\": \"scatter\", \"data\": [1.0, 1.0, 1.0, 1.0, 1.0, 1.0, 1.0, 1.0, 1.0, 1.0, 1.0, 1.0, 1.0, 1.0]}], \"f1_score_weighted\": [{\"categories\": [\"0\", \"1\", \"6\", \"9\", \"11\", \"14\", \"16\", \"19\", \"22\", \"23\", \"25\", \"26\", \"27\", \"32\"], \"mode\": \"markers\", \"name\": \"f1_score_weighted\", \"stepped\": false, \"type\": \"scatter\", \"data\": [1.0, 1.0, 1.0, 0.8972515228049324, 1.0, 0.8772024913231589, 0.8707517612643021, 0.9889371371651802, 0.8707517612643021, 0.8042025862068964, 0.9889371371651802, 1.0, 0.8411522633744857, 1.0]}, {\"categories\": [\"0\", \"1\", \"6\", \"9\", \"11\", \"14\", \"16\", \"19\", \"22\", \"23\", \"25\", \"26\", \"27\", \"32\"], \"mode\": \"lines\", \"name\": \"f1_score_weighted_max\", \"stepped\": true, \"type\": \"scatter\", \"data\": [1.0, 1.0, 1.0, 1.0, 1.0, 1.0, 1.0, 1.0, 1.0, 1.0, 1.0, 1.0, 1.0, 1.0]}], \"log_loss\": [{\"categories\": [\"0\", \"1\", \"6\", \"9\", \"11\", \"14\", \"16\", \"19\", \"22\", \"23\", \"25\", \"26\", \"27\", \"32\"], \"mode\": \"markers\", \"name\": \"log_loss\", \"stepped\": false, \"type\": \"scatter\", \"data\": [0.02528825145126136, 0.018231348001771286, 0.132906633370077, 0.24353190478616685, 0.29210475077379616, 0.3922841779258587, 0.2594988695059941, 0.28677436443319615, 0.3470613124858345, 0.38915112688766124, 0.21237601457757013, 9.992007221626413e-16, 0.35394869121540634, 0.12885277577690132]}, {\"categories\": [\"0\", \"1\", \"6\", \"9\", \"11\", \"14\", \"16\", \"19\", \"22\", \"23\", \"25\", \"26\", \"27\", \"32\"], \"mode\": \"lines\", \"name\": \"log_loss_min\", \"stepped\": true, \"type\": \"scatter\", \"data\": [0.02528825145126136, 0.018231348001771286, 0.018231348001771286, 0.018231348001771286, 0.018231348001771286, 0.018231348001771286, 0.018231348001771286, 0.018231348001771286, 0.018231348001771286, 0.018231348001771286, 0.018231348001771286, 9.992007221626413e-16, 9.992007221626413e-16, 9.992007221626413e-16]}], \"AUC_micro\": [{\"categories\": [\"0\", \"1\", \"6\", \"9\", \"11\", \"14\", \"16\", \"19\", \"22\", \"23\", \"25\", \"26\", \"27\", \"32\"], \"mode\": \"markers\", \"name\": \"AUC_micro\", \"stepped\": false, \"type\": \"scatter\", \"data\": [1.0, 1.0, 1.0, 0.975925925925926, 1.0, 0.961604938271605, 0.9739506172839506, 0.9998765432098766, 0.9670370370370369, 0.9076543209876543, 0.9944444444444445, 1.0, 0.9375925925925925, 1.0]}, {\"categories\": [\"0\", \"1\", \"6\", \"9\", \"11\", \"14\", \"16\", \"19\", \"22\", \"23\", \"25\", \"26\", \"27\", \"32\"], \"mode\": \"lines\", \"name\": \"AUC_micro_max\", \"stepped\": true, \"type\": \"scatter\", \"data\": [1.0, 1.0, 1.0, 1.0, 1.0, 1.0, 1.0, 1.0, 1.0, 1.0, 1.0, 1.0, 1.0, 1.0]}], \"precision_score_macro\": [{\"categories\": [\"0\", \"1\", \"6\", \"9\", \"11\", \"14\", \"16\", \"19\", \"22\", \"23\", \"25\", \"26\", \"27\", \"32\"], \"mode\": \"markers\", \"name\": \"precision_score_macro\", \"stepped\": false, \"type\": \"scatter\", \"data\": [1.0, 1.0, 1.0, 0.9053030303030303, 1.0, 0.8623271889400921, 0.9035714285714285, 0.9833333333333334, 0.9035714285714285, 0.7740259740259741, 0.9833333333333334, 1.0, 0.8307692307692308, 1.0]}, {\"categories\": [\"0\", \"1\", \"6\", \"9\", \"11\", \"14\", \"16\", \"19\", \"22\", \"23\", \"25\", \"26\", \"27\", \"32\"], \"mode\": \"lines\", \"name\": \"precision_score_macro_max\", \"stepped\": true, \"type\": \"scatter\", \"data\": [1.0, 1.0, 1.0, 1.0, 1.0, 1.0, 1.0, 1.0, 1.0, 1.0, 1.0, 1.0, 1.0, 1.0]}], \"average_precision_score_micro\": [{\"categories\": [\"0\", \"1\", \"6\", \"9\", \"11\", \"14\", \"16\", \"19\", \"22\", \"23\", \"25\", \"26\", \"27\", \"32\"], \"mode\": \"markers\", \"name\": \"average_precision_score_micro\", \"stepped\": false, \"type\": \"scatter\", \"data\": [0.9999999999999999, 0.9999999999999999, 1.0, 0.9774326176195791, 0.9999999999999999, 0.962635806707519, 0.9755352765862588, 0.9998778998778998, 0.9689903434251153, 0.9090952012160165, 0.9946438651541312, 1.0, 0.9407865237671964, 0.9999999999999999]}, {\"categories\": [\"0\", \"1\", \"6\", \"9\", \"11\", \"14\", \"16\", \"19\", \"22\", \"23\", \"25\", \"26\", \"27\", \"32\"], \"mode\": \"lines\", \"name\": \"average_precision_score_micro_max\", \"stepped\": true, \"type\": \"scatter\", \"data\": [0.9999999999999999, 0.9999999999999999, 1.0, 1.0, 1.0, 1.0, 1.0, 1.0, 1.0, 1.0, 1.0, 1.0, 1.0, 1.0]}], \"weighted_accuracy\": [{\"categories\": [\"0\", \"1\", \"6\", \"9\", \"11\", \"14\", \"16\", \"19\", \"22\", \"23\", \"25\", \"26\", \"27\", \"32\"], \"mode\": \"markers\", \"name\": \"weighted_accuracy\", \"stepped\": false, \"type\": \"scatter\", \"data\": [1.0, 1.0, 1.0, 0.9287593160894344, 1.0, 0.8950021920210434, 0.9230600613765891, 0.9866286716352477, 0.9230600613765894, 0.8014028934677774, 0.9866286716352477, 1.0, 0.8759316089434458, 1.0]}, {\"categories\": [\"0\", \"1\", \"6\", \"9\", \"11\", \"14\", \"16\", \"19\", \"22\", \"23\", \"25\", \"26\", \"27\", \"32\"], \"mode\": \"lines\", \"name\": \"weighted_accuracy_max\", \"stepped\": true, \"type\": \"scatter\", \"data\": [1.0, 1.0, 1.0, 1.0, 1.0, 1.0, 1.0, 1.0, 1.0, 1.0, 1.0, 1.0, 1.0, 1.0]}], \"f1_score_macro\": [{\"categories\": [\"0\", \"1\", \"6\", \"9\", \"11\", \"14\", \"16\", \"19\", \"22\", \"23\", \"25\", \"26\", \"27\", \"32\"], \"mode\": \"markers\", \"name\": \"f1_score_macro\", \"stepped\": false, \"type\": \"scatter\", \"data\": [1.0, 1.0, 1.0, 0.8796612687564997, 1.0, 0.858793324775353, 0.8457703692163888, 0.9873931923238548, 0.8457703692163888, 0.7817887931034482, 0.9873931923238548, 1.0, 0.8148148148148149, 1.0]}, {\"categories\": [\"0\", \"1\", \"6\", \"9\", \"11\", \"14\", \"16\", \"19\", \"22\", \"23\", \"25\", \"26\", \"27\", \"32\"], \"mode\": \"lines\", \"name\": \"f1_score_macro_max\", \"stepped\": true, \"type\": \"scatter\", \"data\": [1.0, 1.0, 1.0, 1.0, 1.0, 1.0, 1.0, 1.0, 1.0, 1.0, 1.0, 1.0, 1.0, 1.0]}], \"accuracy\": [{\"categories\": [\"0\", \"1\", \"6\", \"9\", \"11\", \"14\", \"16\", \"19\", \"22\", \"23\", \"25\", \"26\", \"27\", \"32\"], \"mode\": \"markers\", \"name\": \"accuracy\", \"stepped\": false, \"type\": \"scatter\", \"data\": [1.0, 1.0, 1.0, 0.9, 1.0, 0.8777777777777778, 0.8777777777777778, 0.9888888888888889, 0.8777777777777778, 0.8, 0.9888888888888889, 1.0, 0.8444444444444444, 1.0]}, {\"categories\": [\"0\", \"1\", \"6\", \"9\", \"11\", \"14\", \"16\", \"19\", \"22\", \"23\", \"25\", \"26\", \"27\", \"32\"], \"mode\": \"lines\", \"name\": \"accuracy_max\", \"stepped\": true, \"type\": \"scatter\", \"data\": [1.0, 1.0, 1.0, 1.0, 1.0, 1.0, 1.0, 1.0, 1.0, 1.0, 1.0, 1.0, 1.0, 1.0]}], \"norm_macro_recall\": [{\"categories\": [\"0\", \"1\", \"6\", \"9\", \"11\", \"14\", \"16\", \"19\", \"22\", \"23\", \"25\", \"26\", \"27\", \"32\"], \"mode\": \"markers\", \"name\": \"norm_macro_recall\", \"stepped\": false, \"type\": \"scatter\", \"data\": [1.0, 1.0, 1.0, 0.7258338044092707, 1.0, 0.7111362351611081, 0.6387789711701526, 0.9836065573770492, 0.6387789711701526, 0.5963821368004523, 0.9836065573770492, 1.0, 0.6076879592990392, 1.0]}, {\"categories\": [\"0\", \"1\", \"6\", \"9\", \"11\", \"14\", \"16\", \"19\", \"22\", \"23\", \"25\", \"26\", \"27\", \"32\"], \"mode\": \"lines\", \"name\": \"norm_macro_recall_max\", \"stepped\": true, \"type\": \"scatter\", \"data\": [1.0, 1.0, 1.0, 1.0, 1.0, 1.0, 1.0, 1.0, 1.0, 1.0, 1.0, 1.0, 1.0, 1.0]}], \"precision_score_weighted\": [{\"categories\": [\"0\", \"1\", \"6\", \"9\", \"11\", \"14\", \"16\", \"19\", \"22\", \"23\", \"25\", \"26\", \"27\", \"32\"], \"mode\": \"markers\", \"name\": \"precision_score_weighted\", \"stepped\": false, \"type\": \"scatter\", \"data\": [1.0, 1.0, 1.0, 0.9012626262626262, 1.0, 0.876868919610855, 0.8870634920634921, 0.9892592592592593, 0.8870634920634921, 0.8155844155844155, 0.9892592592592593, 1.0, 0.8417094017094017, 1.0]}, {\"categories\": [\"0\", \"1\", \"6\", \"9\", \"11\", \"14\", \"16\", \"19\", \"22\", \"23\", \"25\", \"26\", \"27\", \"32\"], \"mode\": \"lines\", \"name\": \"precision_score_weighted_max\", \"stepped\": true, \"type\": \"scatter\", \"data\": [1.0, 1.0, 1.0, 1.0, 1.0, 1.0, 1.0, 1.0, 1.0, 1.0, 1.0, 1.0, 1.0, 1.0]}], \"precision_score_micro\": [{\"categories\": [\"0\", \"1\", \"6\", \"9\", \"11\", \"14\", \"16\", \"19\", \"22\", \"23\", \"25\", \"26\", \"27\", \"32\"], \"mode\": \"markers\", \"name\": \"precision_score_micro\", \"stepped\": false, \"type\": \"scatter\", \"data\": [1.0, 1.0, 1.0, 0.9, 1.0, 0.8777777777777778, 0.8777777777777778, 0.9888888888888889, 0.8777777777777778, 0.8, 0.9888888888888889, 1.0, 0.8444444444444444, 1.0]}, {\"categories\": [\"0\", \"1\", \"6\", \"9\", \"11\", \"14\", \"16\", \"19\", \"22\", \"23\", \"25\", \"26\", \"27\", \"32\"], \"mode\": \"lines\", \"name\": \"precision_score_micro_max\", \"stepped\": true, \"type\": \"scatter\", \"data\": [1.0, 1.0, 1.0, 1.0, 1.0, 1.0, 1.0, 1.0, 1.0, 1.0, 1.0, 1.0, 1.0, 1.0]}], \"recall_score_micro\": [{\"categories\": [\"0\", \"1\", \"6\", \"9\", \"11\", \"14\", \"16\", \"19\", \"22\", \"23\", \"25\", \"26\", \"27\", \"32\"], \"mode\": \"markers\", \"name\": \"recall_score_micro\", \"stepped\": false, \"type\": \"scatter\", \"data\": [1.0, 1.0, 1.0, 0.9, 1.0, 0.8777777777777778, 0.8777777777777778, 0.9888888888888889, 0.8777777777777778, 0.8, 0.9888888888888889, 1.0, 0.8444444444444444, 1.0]}, {\"categories\": [\"0\", \"1\", \"6\", \"9\", \"11\", \"14\", \"16\", \"19\", \"22\", \"23\", \"25\", \"26\", \"27\", \"32\"], \"mode\": \"lines\", \"name\": \"recall_score_micro_max\", \"stepped\": true, \"type\": \"scatter\", \"data\": [1.0, 1.0, 1.0, 1.0, 1.0, 1.0, 1.0, 1.0, 1.0, 1.0, 1.0, 1.0, 1.0, 1.0]}], \"AUC_weighted\": [{\"categories\": [\"0\", \"1\", \"6\", \"9\", \"11\", \"14\", \"16\", \"19\", \"22\", \"23\", \"25\", \"26\", \"27\", \"32\"], \"mode\": \"markers\", \"name\": \"AUC_weighted\", \"stepped\": false, \"type\": \"scatter\", \"data\": [1.0, 1.0, 1.0, 0.9836065573770493, 1.0, 0.9621254946297343, 0.9807801017524025, 1.0, 0.9853024307518372, 0.9095534200113058, 0.9932165065008479, 1.0, 0.9383832673827022, 1.0]}, {\"categories\": [\"0\", \"1\", \"6\", \"9\", \"11\", \"14\", \"16\", \"19\", \"22\", \"23\", \"25\", \"26\", \"27\", \"32\"], \"mode\": \"lines\", \"name\": \"AUC_weighted_max\", \"stepped\": true, \"type\": \"scatter\", \"data\": [1.0, 1.0, 1.0, 1.0, 1.0, 1.0, 1.0, 1.0, 1.0, 1.0, 1.0, 1.0, 1.0, 1.0]}], \"AUC_macro\": [{\"categories\": [\"0\", \"1\", \"6\", \"9\", \"11\", \"14\", \"16\", \"19\", \"22\", \"23\", \"25\", \"26\", \"27\", \"32\"], \"mode\": \"markers\", \"name\": \"AUC_macro\", \"stepped\": false, \"type\": \"scatter\", \"data\": [1.0, 1.0, 1.0, 0.9836065573770492, 1.0, 0.9621254946297344, 0.9807801017524025, 1.0, 0.9853024307518372, 0.9095534200113058, 0.993216506500848, 1.0, 0.9383832673827022, 1.0]}, {\"categories\": [\"0\", \"1\", \"6\", \"9\", \"11\", \"14\", \"16\", \"19\", \"22\", \"23\", \"25\", \"26\", \"27\", \"32\"], \"mode\": \"lines\", \"name\": \"AUC_macro_max\", \"stepped\": true, \"type\": \"scatter\", \"data\": [1.0, 1.0, 1.0, 1.0, 1.0, 1.0, 1.0, 1.0, 1.0, 1.0, 1.0, 1.0, 1.0, 1.0]}]}, \"metricName\": null, \"primaryMetricName\": \"AUC_weighted\", \"showLegend\": false}, \"run_metrics\": [{\"name\": \"experiment_status\", \"run_id\": \"AutoML_7d2b371f-75e7-4fa7-90aa-72b28f02d8b5\", \"categories\": [0, 1, 2, 3, 4, 5, 6, 7, 8, 9, 10, 11, 12], \"series\": [{\"data\": [\"DatasetEvaluation\", \"FeaturesGeneration\", \"DatasetFeaturization\", \"DatasetFeaturizationCompleted\", \"ModelSelection\", \"BestRunExplainModel\", \"ModelExplanationDataSetSetup\", \"PickSurrogateModel\", \"EngineeredFeatureExplanations\", \"EngineeredFeatureExplanations\", \"RawFeaturesExplanations\", \"RawFeaturesExplanations\", \"BestRunExplainModel\"]}]}, {\"name\": \"experiment_status_description\", \"run_id\": \"AutoML_7d2b371f-75e7-4fa7-90aa-72b28f02d8b5\", \"categories\": [0, 1, 2, 3, 4, 5, 6, 7, 8, 9, 10, 11, 12], \"series\": [{\"data\": [\"Gathering dataset statistics.\", \"Generating features for the dataset.\", \"Beginning to fit featurizers and featurize the dataset.\", \"Completed fit featurizers and featurizing the dataset.\", \"Beginning model selection.\", \"Best run model explanations started\", \"Model explanations data setup completed\", \"Choosing LightGBM as the surrogate model for explanations\", \"Computation of engineered features started\", \"Computation of engineered features completed\", \"Computation of raw features started\", \"Computation of raw features completed\", \"Best run model explanations completed\"]}]}], \"run_logs\": \"\\nRun is completed.\", \"graph\": {}, \"widget_settings\": {\"childWidgetDisplay\": \"popup\", \"send_telemetry\": false, \"log_level\": \"INFO\", \"sdk_version\": \"1.39.0\"}, \"loading\": false}"
          },
          "metadata": {},
          "output_type": "display_data"
        }
      ],
      "source": [
        "RunDetails(remote_run).show()"
      ]
    },
    {
      "cell_type": "code",
      "execution_count": 13,
      "metadata": {
        "gather": {
          "logged": 1649112100227
        },
        "jupyter": {
          "outputs_hidden": false,
          "source_hidden": false
        },
        "nteract": {
          "transient": {
            "deleting": false
          }
        }
      },
      "outputs": [
        {
          "data": {
            "text/html": [
              "<table style=\"width:100%\"><tr><th>Experiment</th><th>Id</th><th>Type</th><th>Status</th><th>Details Page</th><th>Docs Page</th></tr><tr><td>heart-automl-sdk</td><td>AutoML_7d2b371f-75e7-4fa7-90aa-72b28f02d8b5</td><td>automl</td><td>Running</td><td><a href=\"https://ml.azure.com/runs/AutoML_7d2b371f-75e7-4fa7-90aa-72b28f02d8b5?wsid=/subscriptions/6eee9ed4-ef02-4ad0-bbbd-194153ad2069/resourcegroups/aml-resource/workspaces/aml-workspace&amp;tid=b8f88a0b-3d95-478b-b123-a494d78523a4\" target=\"_blank\" rel=\"noopener\">Link to Azure Machine Learning studio</a></td><td><a href=\"https://docs.microsoft.com/en-us/python/api/overview/azure/ml/intro?view=azure-ml-py\" target=\"_blank\" rel=\"noopener\">Link to Documentation</a></td></tr></table>"
            ],
            "text/plain": [
              "<IPython.core.display.HTML object>"
            ]
          },
          "metadata": {},
          "output_type": "display_data"
        },
        {
          "name": "stdout",
          "output_type": "stream",
          "text": [
            "\n",
            "Current status: FeaturesGeneration. Generating features for the dataset.\n",
            "Current status: DatasetFeaturizationCompleted. Completed fit featurizers and featurizing the dataset.\n",
            "Current status: ModelSelection. Beginning model selection.\n",
            "\n",
            "********************************************************************************************\n",
            "DATA GUARDRAILS: \n",
            "\n",
            "TYPE:         Class balancing detection\n",
            "STATUS:       PASSED\n",
            "DESCRIPTION:  Your inputs were analyzed, and all classes are balanced in your training data.\n",
            "              Learn more about imbalanced data: https://aka.ms/AutomatedMLImbalancedData\n",
            "\n",
            "********************************************************************************************\n",
            "\n",
            "TYPE:         Missing feature values imputation\n",
            "STATUS:       PASSED\n",
            "DESCRIPTION:  No feature missing values were detected in the training data.\n",
            "              Learn more about missing value imputation: https://aka.ms/AutomatedMLFeaturization\n",
            "\n",
            "********************************************************************************************\n",
            "\n",
            "TYPE:         High cardinality feature detection\n",
            "STATUS:       PASSED\n",
            "DESCRIPTION:  Your inputs were analyzed, and no high cardinality features were detected.\n",
            "              Learn more about high cardinality feature handling: https://aka.ms/AutomatedMLFeaturization\n",
            "\n",
            "********************************************************************************************\n",
            "\n",
            "********************************************************************************************\n",
            "ITER: The iteration being evaluated.\n",
            "PIPELINE: A summary description of the pipeline being evaluated.\n",
            "DURATION: Time taken for the current iteration.\n",
            "METRIC: The result of computing score on the fitted pipeline.\n",
            "BEST: The best observed score thus far.\n",
            "********************************************************************************************\n",
            "\n",
            " ITER   PIPELINE                                       DURATION            METRIC      BEST\n",
            "    0   MaxAbsScaler LightGBM                          0:00:15             1.0000    1.0000\n",
            "    1   MaxAbsScaler XGBoostClassifier                 0:00:15             1.0000    1.0000\n",
            "    2   MaxAbsScaler ExtremeRandomTrees                0:00:15             0.9768    1.0000\n",
            "    3   MaxAbsScaler RandomForest                      0:00:14             0.9949    1.0000\n",
            "    4   StandardScalerWrapper LightGBM                 0:00:15             0.9927    1.0000\n",
            "    5   StandardScalerWrapper KNN                      0:00:15             1.0000    1.0000\n",
            "    6   SparseNormalizer XGBoostClassifier             0:00:15             1.0000    1.0000\n",
            "    7   SparseNormalizer RandomForest                  0:00:15             1.0000    1.0000\n",
            "    8   RobustScaler KNN                               0:00:16             1.0000    1.0000\n",
            "    9   MinMaxScaler RandomForest                      0:00:16             0.9836    1.0000\n",
            "   10   StandardScalerWrapper LogisticRegression       0:00:16             0.9016    1.0000\n",
            "   11   StandardScalerWrapper SVM                      0:00:15             1.0000    1.0000\n",
            "   12   StandardScalerWrapper XGBoostClassifier        0:00:15             1.0000    1.0000\n",
            "   13   SparseNormalizer KNN                           0:00:15             1.0000    1.0000\n",
            "   14   RobustScaler ExtremeRandomTrees                0:00:15             0.9621    1.0000\n",
            "   15   SparseNormalizer XGBoostClassifier             0:00:15             1.0000    1.0000\n",
            "   16   MinMaxScaler ExtremeRandomTrees                0:00:15             0.9808    1.0000\n",
            "   17   MinMaxScaler ExtremeRandomTrees                0:00:15             1.0000    1.0000\n",
            "   18   SparseNormalizer LightGBM                      0:00:15             0.9881    1.0000\n",
            "   19   MaxAbsScaler ExtremeRandomTrees                0:00:15             1.0000    1.0000\n",
            "   22   MaxAbsScaler LightGBM                          0:00:04             0.9853    1.0000\n",
            "   21   StandardScalerWrapper RandomForest             0:00:04             1.0000    1.0000\n",
            "   20   StandardScalerWrapper XGBoostClassifier        0:00:04             0.9938    1.0000\n",
            "   23   MaxAbsScaler LogisticRegression                0:00:04             0.9096    1.0000\n",
            "   25   StandardScalerWrapper ExtremeRandomTrees       0:00:03             0.9932    1.0000\n",
            "   24   StandardScalerWrapper LightGBM                 0:00:04             0.9429    1.0000\n",
            "   26   StandardScalerWrapper KNN                      0:00:04             1.0000    1.0000\n",
            "   27   RobustScaler SVM                               0:00:04             0.9384    1.0000\n",
            "   28                                                  0:00:00                nan    1.0000\n",
            "ERROR: {\n",
            "    \"additional_properties\": {},\n",
            "    \"error\": {\n",
            "        \"additional_properties\": {\n",
            "            \"debugInfo\": null\n",
            "        },\n",
            "        \"code\": \"UserError\",\n",
            "        \"severity\": null,\n",
            "        \"message\": \"Experiment timeout reached, please consider increasing your experiment timeout.\",\n",
            "        \"message_format\": \"Experiment timeout reached, please consider increasing your experiment timeout.\",\n",
            "        \"message_parameters\": {},\n",
            "        \"reference_code\": null,\n",
            "        \"details_uri\": null,\n",
            "        \"target\": null,\n",
            "        \"details\": [],\n",
            "        \"inner_error\": {\n",
            "            \"additional_properties\": {},\n",
            "            \"code\": \"ResourceExhausted\",\n",
            "            \"inner_error\": {\n",
            "                \"additional_properties\": {},\n",
            "                \"code\": \"Timeout\",\n",
            "                \"inner_error\": {\n",
            "                    \"additional_properties\": {},\n",
            "                    \"code\": \"ExperimentTimeoutForIterations\",\n",
            "                    \"inner_error\": null\n",
            "                }\n",
            "            }\n",
            "        },\n",
            "        \"additional_info\": null\n",
            "    },\n",
            "    \"correlation\": null,\n",
            "    \"environment\": null,\n",
            "    \"location\": null,\n",
            "    \"time\": {},\n",
            "    \"component_name\": null\n",
            "}\n",
            "   29                                                  0:00:00                nan    1.0000\n",
            "ERROR: {\n",
            "    \"additional_properties\": {},\n",
            "    \"error\": {\n",
            "        \"additional_properties\": {\n",
            "            \"debugInfo\": null\n",
            "        },\n",
            "        \"code\": \"UserError\",\n",
            "        \"severity\": null,\n",
            "        \"message\": \"Experiment timeout reached, please consider increasing your experiment timeout.\",\n",
            "        \"message_format\": \"Experiment timeout reached, please consider increasing your experiment timeout.\",\n",
            "        \"message_parameters\": {},\n",
            "        \"reference_code\": null,\n",
            "        \"details_uri\": null,\n",
            "        \"target\": null,\n",
            "        \"details\": [],\n",
            "        \"inner_error\": {\n",
            "            \"additional_properties\": {},\n",
            "            \"code\": \"ResourceExhausted\",\n",
            "            \"inner_error\": {\n",
            "                \"additional_properties\": {},\n",
            "                \"code\": \"Timeout\",\n",
            "                \"inner_error\": {\n",
            "                    \"additional_properties\": {},\n",
            "                    \"code\": \"ExperimentTimeoutForIterations\",\n",
            "                    \"inner_error\": null\n",
            "                }\n",
            "            }\n",
            "        },\n",
            "        \"additional_info\": null\n",
            "    },\n",
            "    \"correlation\": null,\n",
            "    \"environment\": null,\n",
            "    \"location\": null,\n",
            "    \"time\": {},\n",
            "    \"component_name\": null\n",
            "}\n",
            "   30                                                  0:00:00                nan    1.0000\n",
            "ERROR: {\n",
            "    \"additional_properties\": {},\n",
            "    \"error\": {\n",
            "        \"additional_properties\": {\n",
            "            \"debugInfo\": null\n",
            "        },\n",
            "        \"code\": \"UserError\",\n",
            "        \"severity\": null,\n",
            "        \"message\": \"Experiment timeout reached, please consider increasing your experiment timeout.\",\n",
            "        \"message_format\": \"Experiment timeout reached, please consider increasing your experiment timeout.\",\n",
            "        \"message_parameters\": {},\n",
            "        \"reference_code\": null,\n",
            "        \"details_uri\": null,\n",
            "        \"target\": null,\n",
            "        \"details\": [],\n",
            "        \"inner_error\": {\n",
            "            \"additional_properties\": {},\n",
            "            \"code\": \"ResourceExhausted\",\n",
            "            \"inner_error\": {\n",
            "                \"additional_properties\": {},\n",
            "                \"code\": \"Timeout\",\n",
            "                \"inner_error\": {\n",
            "                    \"additional_properties\": {},\n",
            "                    \"code\": \"ExperimentTimeoutForIterations\",\n",
            "                    \"inner_error\": null\n",
            "                }\n",
            "            }\n",
            "        },\n",
            "        \"additional_info\": null\n",
            "    },\n",
            "    \"correlation\": null,\n",
            "    \"environment\": null,\n",
            "    \"location\": null,\n",
            "    \"time\": {},\n",
            "    \"component_name\": null\n",
            "}\n",
            "   31                                                  0:00:00                nan    1.0000\n",
            "ERROR: {\n",
            "    \"additional_properties\": {},\n",
            "    \"error\": {\n",
            "        \"additional_properties\": {\n",
            "            \"debugInfo\": null\n",
            "        },\n",
            "        \"code\": \"UserError\",\n",
            "        \"severity\": null,\n",
            "        \"message\": \"Experiment timeout reached, please consider increasing your experiment timeout.\",\n",
            "        \"message_format\": \"Experiment timeout reached, please consider increasing your experiment timeout.\",\n",
            "        \"message_parameters\": {},\n",
            "        \"reference_code\": null,\n",
            "        \"details_uri\": null,\n",
            "        \"target\": null,\n",
            "        \"details\": [],\n",
            "        \"inner_error\": {\n",
            "            \"additional_properties\": {},\n",
            "            \"code\": \"ResourceExhausted\",\n",
            "            \"inner_error\": {\n",
            "                \"additional_properties\": {},\n",
            "                \"code\": \"Timeout\",\n",
            "                \"inner_error\": {\n",
            "                    \"additional_properties\": {},\n",
            "                    \"code\": \"ExperimentTimeoutForIterations\",\n",
            "                    \"inner_error\": null\n",
            "                }\n",
            "            }\n",
            "        },\n",
            "        \"additional_info\": null\n",
            "    },\n",
            "    \"correlation\": null,\n",
            "    \"environment\": null,\n",
            "    \"location\": null,\n",
            "    \"time\": {},\n",
            "    \"component_name\": null\n",
            "}\n",
            "   32    VotingEnsemble                                0:00:05             1.0000    1.0000\n",
            "   33    StackEnsemble                                 0:00:04             1.0000    1.0000\n"
          ]
        },
        {
          "data": {
            "text/plain": [
              "{'runId': 'AutoML_7d2b371f-75e7-4fa7-90aa-72b28f02d8b5',\n",
              " 'target': 'aml-cluster',\n",
              " 'status': 'Completed',\n",
              " 'startTimeUtc': '2022-04-04T22:14:53.92813Z',\n",
              " 'endTimeUtc': '2022-04-04T22:41:24.808398Z',\n",
              " 'services': {},\n",
              " 'warnings': [{'source': 'JasmineService',\n",
              "   'message': 'Experiment timeout reached, hence experiment stopped. Current experiment timeout: 0 hour(s) 15 minute(s)'}],\n",
              " 'properties': {'num_iterations': '1000',\n",
              "  'training_type': 'TrainFull',\n",
              "  'acquisition_function': 'EI',\n",
              "  'primary_metric': 'AUC_weighted',\n",
              "  'train_split': '0',\n",
              "  'acquisition_parameter': '0',\n",
              "  'num_cross_validation': None,\n",
              "  'target': 'aml-cluster',\n",
              "  'AMLSettingsJsonString': '{\"path\":null,\"name\":\"heart-automl-sdk\",\"subscription_id\":\"6eee9ed4-ef02-4ad0-bbbd-194153ad2069\",\"resource_group\":\"aml-resource\",\"workspace_name\":\"aml-workspace\",\"region\":\"westeurope\",\"compute_target\":\"aml-cluster\",\"spark_service\":null,\"azure_service\":\"remote\",\"many_models\":false,\"pipeline_fetch_max_batch_size\":1,\"enable_batch_run\":true,\"enable_run_restructure\":false,\"start_auxiliary_runs_before_parent_complete\":false,\"enable_code_generation\":false,\"iterations\":1000,\"primary_metric\":\"AUC_weighted\",\"task_type\":\"classification\",\"positive_label\":null,\"data_script\":null,\"test_size\":0.0,\"test_include_predictions_only\":false,\"validation_size\":0.0,\"n_cross_validations\":null,\"y_min\":null,\"y_max\":null,\"num_classes\":null,\"featurization\":\"auto\",\"_ignore_package_version_incompatibilities\":false,\"is_timeseries\":false,\"max_cores_per_iteration\":1,\"max_concurrent_iterations\":5,\"iteration_timeout_minutes\":null,\"mem_in_mb\":null,\"enforce_time_on_windows\":false,\"experiment_timeout_minutes\":15,\"experiment_exit_score\":null,\"partition_column_names\":null,\"whitelist_models\":null,\"blacklist_algos\":[\"TensorFlowLinearClassifier\",\"TensorFlowDNN\"],\"supported_models\":[\"LightGBM\",\"TabnetClassifier\",\"KNN\",\"TensorFlowDNN\",\"AveragedPerceptronClassifier\",\"GradientBoosting\",\"RandomForest\",\"XGBoostClassifier\",\"LinearSVM\",\"BernoulliNaiveBayes\",\"SVM\",\"MultinomialNaiveBayes\",\"SGD\",\"DecisionTree\",\"ExtremeRandomTrees\",\"TensorFlowLinearClassifier\",\"LogisticRegression\"],\"private_models\":[],\"auto_blacklist\":true,\"blacklist_samples_reached\":false,\"exclude_nan_labels\":true,\"verbosity\":20,\"_debug_log\":\"azureml_automl.log\",\"show_warnings\":false,\"model_explainability\":true,\"service_url\":null,\"sdk_url\":null,\"sdk_packages\":null,\"enable_onnx_compatible_models\":false,\"enable_split_onnx_featurizer_estimator_models\":false,\"vm_type\":\"STANDARD_DS11_V2\",\"telemetry_verbosity\":20,\"send_telemetry\":true,\"enable_dnn\":false,\"scenario\":\"SDK-1.13.0\",\"environment_label\":null,\"save_mlflow\":false,\"enable_categorical_indicators\":false,\"force_text_dnn\":false,\"enable_feature_sweeping\":true,\"enable_early_stopping\":true,\"early_stopping_n_iters\":10,\"arguments\":null,\"dataset_id\":\"dbc21fcd-ad20-4062-9008-2699406085b4\",\"hyperdrive_config\":null,\"validation_dataset_id\":\"257748ea-0889-4d11-a783-fb30bbe291a7\",\"run_source\":null,\"metrics\":null,\"enable_metric_confidence\":false,\"enable_ensembling\":true,\"enable_stack_ensembling\":true,\"ensemble_iterations\":15,\"enable_tf\":false,\"enable_subsampling\":null,\"subsample_seed\":null,\"enable_nimbusml\":false,\"enable_streaming\":false,\"force_streaming\":false,\"track_child_runs\":true,\"allowed_private_models\":[],\"label_column_name\":\"DEATH_EVENT\",\"weight_column_name\":null,\"cv_split_column_names\":null,\"enable_local_managed\":false,\"_local_managed_run_id\":null,\"cost_mode\":1,\"lag_length\":0,\"metric_operation\":\"maximize\",\"preprocess\":true}',\n",
              "  'DataPrepJsonString': '{\\\\\"training_data\\\\\": {\\\\\"datasetId\\\\\": \\\\\"dbc21fcd-ad20-4062-9008-2699406085b4\\\\\"}, \\\\\"validation_data\\\\\": {\\\\\"datasetId\\\\\": \\\\\"257748ea-0889-4d11-a783-fb30bbe291a7\\\\\"}, \\\\\"datasets\\\\\": 0}',\n",
              "  'EnableSubsampling': None,\n",
              "  'runTemplate': 'AutoML',\n",
              "  'azureml.runsource': 'automl',\n",
              "  'display_task_type': 'classification',\n",
              "  'dependencies_versions': '{\"azureml-widgets\": \"1.39.0\", \"azureml-training-tabular\": \"1.39.0\", \"azureml-train\": \"1.39.0\", \"azureml-train-restclients-hyperdrive\": \"1.39.0\", \"azureml-train-core\": \"1.39.0\", \"azureml-train-automl\": \"1.39.0\", \"azureml-train-automl-runtime\": \"1.39.0\", \"azureml-train-automl-client\": \"1.39.0\", \"azureml-tensorboard\": \"1.39.0\", \"azureml-telemetry\": \"1.39.0\", \"azureml-sdk\": \"1.39.0\", \"azureml-samples\": \"0+unknown\", \"azureml-responsibleai\": \"1.39.0\", \"azureml-pipeline\": \"1.39.0\", \"azureml-pipeline-steps\": \"1.39.0\", \"azureml-pipeline-core\": \"1.39.0\", \"azureml-opendatasets\": \"1.39.0\", \"azureml-mlflow\": \"1.39.0\", \"azureml-interpret\": \"1.39.0\", \"azureml-inference-server-http\": \"0.4.10\", \"azureml-explain-model\": \"1.39.0\", \"azureml-defaults\": \"1.39.0\", \"azureml-dataset-runtime\": \"1.39.0\", \"azureml-dataprep\": \"2.27.1\", \"azureml-dataprep-rslex\": \"2.3.1\", \"azureml-dataprep-native\": \"38.0.0\", \"azureml-datadrift\": \"1.39.0\", \"azureml-core\": \"1.39.0\", \"azureml-contrib-services\": \"1.39.0\", \"azureml-contrib-server\": \"1.39.0\", \"azureml-contrib-reinforcementlearning\": \"1.39.0\", \"azureml-contrib-pipeline-steps\": \"1.39.0\", \"azureml-contrib-notebook\": \"1.39.0\", \"azureml-contrib-fairness\": \"1.39.0\", \"azureml-contrib-dataset\": \"1.39.0\", \"azureml-contrib-automl-pipeline-steps\": \"1.39.0\", \"azureml-cli-common\": \"1.39.0\", \"azureml-automl-runtime\": \"1.39.0\", \"azureml-automl-dnn-nlp\": \"1.39.0\", \"azureml-automl-core\": \"1.39.0\", \"azureml-accel-models\": \"1.39.0\"}',\n",
              "  '_aml_system_scenario_identification': 'Remote.Parent',\n",
              "  'ClientType': 'SDK',\n",
              "  'environment_cpu_name': 'AzureML-AutoML',\n",
              "  'environment_cpu_label': 'prod',\n",
              "  'environment_gpu_name': 'AzureML-AutoML-GPU',\n",
              "  'environment_gpu_label': 'prod',\n",
              "  'root_attribution': 'automl',\n",
              "  'attribution': 'AutoML',\n",
              "  'Orchestrator': 'AutoML',\n",
              "  'CancelUri': 'https://westeurope.api.azureml.ms/jasmine/v1.0/subscriptions/6eee9ed4-ef02-4ad0-bbbd-194153ad2069/resourceGroups/aml-resource/providers/Microsoft.MachineLearningServices/workspaces/aml-workspace/experimentids/8343e44e-9ae4-458e-ac44-f9261e218c45/cancel/AutoML_7d2b371f-75e7-4fa7-90aa-72b28f02d8b5',\n",
              "  'azureml.git.repository_uri': 'https://github.com/Aduzona/Capstone_Project---Azure-ML_Engineer.git',\n",
              "  'mlflow.source.git.repoURL': 'https://github.com/Aduzona/Capstone_Project---Azure-ML_Engineer.git',\n",
              "  'azureml.git.branch': 'master',\n",
              "  'mlflow.source.git.branch': 'master',\n",
              "  'azureml.git.commit': 'c17f1e6bd58dbbf6ec619d8d99f8d566b15dbc63',\n",
              "  'mlflow.source.git.commit': 'c17f1e6bd58dbbf6ec619d8d99f8d566b15dbc63',\n",
              "  'azureml.git.dirty': 'True',\n",
              "  'ClientSdkVersion': '1.39.1',\n",
              "  'snapshotId': '00000000-0000-0000-0000-000000000000',\n",
              "  'SetupRunId': 'AutoML_7d2b371f-75e7-4fa7-90aa-72b28f02d8b5_setup',\n",
              "  'SetupRunContainerId': 'dcid.AutoML_7d2b371f-75e7-4fa7-90aa-72b28f02d8b5_setup',\n",
              "  'FeaturizationRunJsonPath': 'featurizer_container.json',\n",
              "  'FeaturizationRunId': 'AutoML_7d2b371f-75e7-4fa7-90aa-72b28f02d8b5_featurize',\n",
              "  'ProblemInfoJsonString': '{\"dataset_num_categorical\": 0, \"is_sparse\": false, \"subsampling\": false, \"has_extra_col\": true, \"dataset_classes\": 2, \"dataset_features\": 12, \"dataset_samples\": 299, \"single_frequency_class_detected\": false}',\n",
              "  'ModelExplainRunId': 'AutoML_7d2b371f-75e7-4fa7-90aa-72b28f02d8b5_ModelExplain'},\n",
              " 'inputDatasets': [{'dataset': {'id': 'dbc21fcd-ad20-4062-9008-2699406085b4'}, 'consumptionDetails': {'type': 'RunInput', 'inputName': 'training_data', 'mechanism': 'Direct'}}, {'dataset': {'id': '257748ea-0889-4d11-a783-fb30bbe291a7'}, 'consumptionDetails': {'type': 'RunInput', 'inputName': 'validation_data', 'mechanism': 'Direct'}}],\n",
              " 'outputDatasets': [],\n",
              " 'logFiles': {},\n",
              " 'submittedBy': 'Diego uchendu'}"
            ]
          },
          "execution_count": 13,
          "metadata": {},
          "output_type": "execute_result"
        }
      ],
      "source": [
        "remote_run.wait_for_completion(show_output=True)"
      ]
    },
    {
      "cell_type": "markdown",
      "metadata": {},
      "source": [
        "## Best Model\n",
        "\n",
        "TODO: In the cell below, get the best model from the automl experiments and display all the properties of the model.\n",
        "\n"
      ]
    },
    {
      "cell_type": "code",
      "execution_count": null,
      "metadata": {
        "gather": {
          "logged": 1598431425670
        },
        "jupyter": {
          "outputs_hidden": false,
          "source_hidden": false
        },
        "nteract": {
          "transient": {
            "deleting": false
          }
        }
      },
      "outputs": [],
      "source": [
        "'''\n",
        "for run in automl_run.get_children():\n",
        "    print('Run ID', run.id)\n",
        "    for metric in run.get_metrics():\n",
        "        print('\\t', run.get_metrics(metric))\n",
        "'''"
      ]
    },
    {
      "cell_type": "code",
      "execution_count": 14,
      "metadata": {
        "gather": {
          "logged": 1649112268699
        },
        "jupyter": {
          "outputs_hidden": false,
          "source_hidden": false
        },
        "nteract": {
          "transient": {
            "deleting": false
          }
        }
      },
      "outputs": [
        {
          "name": "stdout",
          "output_type": "stream",
          "text": [
            "Best Run Id:  AutoML_7d2b371f-75e7-4fa7-90aa-72b28f02d8b5_0\n",
            " -AUC: 1.0\n",
            " -Accuracy: 1.0\n"
          ]
        }
      ],
      "source": [
        "# Get the best run, and its metrics and arguments\n",
        "best_run,fitted_model= remote_run.get_output()\n",
        "best_run_metrics = best_run.get_metrics()\n",
        "script_arguments = best_run.get_details() ['runDefinition']['arguments']\n",
        "print('Best Run Id: ', best_run.id)\n",
        "print(' -AUC:', best_run_metrics['AUC_weighted'])\n",
        "print(' -Accuracy:', best_run_metrics['accuracy'])\n",
        "#print(' -Arguments:',script_arguments)"
      ]
    },
    {
      "cell_type": "code",
      "execution_count": 15,
      "metadata": {
        "gather": {
          "logged": 1649112679939
        },
        "jupyter": {
          "outputs_hidden": false,
          "source_hidden": false
        },
        "nteract": {
          "transient": {
            "deleting": false
          }
        }
      },
      "outputs": [
        {
          "name": "stdout",
          "output_type": "stream",
          "text": [
            "Run(Experiment: heart-automl-sdk,\n",
            "Id: AutoML_7d2b371f-75e7-4fa7-90aa-72b28f02d8b5_0,\n",
            "Type: None,\n",
            "Status: Completed)\n",
            "\n",
            "Best Model Definition:\n",
            "Pipeline(memory=None,\n",
            "         steps=[('datatransformer',\n",
            "                 DataTransformer(enable_dnn=False, enable_feature_sweeping=True, feature_sweeping_config={}, feature_sweeping_timeout=86400, featurization_config=None, force_text_dnn=False, is_cross_validation=False, is_onnx_compatible=False, observer=None, task='classification', working_dir='/mnt/batch/tasks/shared/LS_root/mounts/clusters/aml-compute/code/Users/diego.uchendu/Capstone_Project---Azure-ML_Engineer')),\n",
            "                ('MaxAbsScaler', MaxAbsScaler(copy=True)),\n",
            "                ('LightGBMClassifier',\n",
            "                 LightGBMClassifier(min_data_in_leaf=20, n_jobs=1, problem_info=ProblemInfo(gpu_training_param_dict={'processing_unit_type': 'cpu'}), random_state=None))],\n",
            "         verbose=False)\n",
            "\n",
            "Best Run Transformations:\n",
            "datatransformer\n",
            "MaxAbsScaler\n",
            "LightGBMClassifier\n",
            "\n",
            "Best Run Metrics:\n",
            "balanced_accuracy 1.0\n",
            "matthews_correlation 1.0\n",
            "recall_score_macro 1.0\n",
            "average_precision_score_macro 0.9999999999999999\n",
            "f1_score_micro 1.0\n",
            "average_precision_score_weighted 1.0\n",
            "recall_score_weighted 1.0\n",
            "f1_score_weighted 1.0\n",
            "log_loss 0.02528825145126136\n",
            "AUC_micro 1.0\n",
            "precision_score_macro 1.0\n",
            "average_precision_score_micro 0.9999999999999999\n",
            "weighted_accuracy 1.0\n",
            "f1_score_macro 1.0\n",
            "accuracy 1.0\n",
            "norm_macro_recall 1.0\n",
            "precision_score_weighted 1.0\n",
            "precision_score_micro 1.0\n",
            "recall_score_micro 1.0\n",
            "AUC_weighted 1.0\n",
            "AUC_macro 1.0\n",
            "accuracy_table aml://artifactId/ExperimentRun/dcid.AutoML_7d2b371f-75e7-4fa7-90aa-72b28f02d8b5_0/accuracy_table\n",
            "confusion_matrix aml://artifactId/ExperimentRun/dcid.AutoML_7d2b371f-75e7-4fa7-90aa-72b28f02d8b5_0/confusion_matrix\n"
          ]
        }
      ],
      "source": [
        "best_run, fitted_model = remote_run.get_output()\n",
        "print(best_run)\n",
        "print('\\nBest Model Definition:')\n",
        "print(fitted_model)\n",
        "print('\\nBest Run Transformations:')\n",
        "for step in fitted_model.named_steps:\n",
        "    print(step)\n",
        "print('\\nBest Run Metrics:')\n",
        "best_run_metrics = best_run.get_metrics()\n",
        "for metric_name in best_run_metrics:\n",
        "    metric = best_run_metrics[metric_name]\n",
        "    print(metric_name, metric)"
      ]
    },
    {
      "cell_type": "code",
      "execution_count": 13,
      "metadata": {
        "gather": {
          "logged": 1648990494215
        },
        "jupyter": {
          "outputs_hidden": false,
          "source_hidden": false
        },
        "nteract": {
          "transient": {
            "deleting": false
          }
        }
      },
      "outputs": [
        {
          "data": {
            "text/plain": [
              "<azureml._restclient.models.batch_artifact_content_information_dto.BatchArtifactContentInformationDto at 0x7f769eee6130>"
            ]
          },
          "execution_count": 13,
          "metadata": {},
          "output_type": "execute_result"
        }
      ],
      "source": [
        "'''\n",
        "import joblib\n",
        "import os\n",
        "from azureml.core import Model\n",
        "#model = ws.models['AutoML_heart_model']\n",
        "#print(model.name, 'version', model.version)\n",
        "\n",
        "# Save the trained model\n",
        "model_file = 'heart_model.pkl'\n",
        "joblib.dump(value=Model, filename=model_file)\n",
        "remote_run.upload_file(name = 'outputs/' + model_file, path_or_stream = './' + model_file)\n",
        "'''\n"
      ]
    },
    {
      "cell_type": "code",
      "execution_count": 28,
      "metadata": {
        "gather": {
          "logged": 1648416613811
        },
        "jupyter": {
          "outputs_hidden": false,
          "source_hidden": false
        },
        "nteract": {
          "transient": {
            "deleting": false
          }
        }
      },
      "outputs": [
        {
          "data": {
            "text/plain": [
              "['outputs/AutoML_heart_model.pkl']"
            ]
          },
          "execution_count": 28,
          "metadata": {},
          "output_type": "execute_result"
        }
      ],
      "source": [
        "'''\n",
        "import joblib\n",
        "import os\n",
        "\n",
        "from azureml.core import Model\n",
        "# Save the trained model in the outputs folder\n",
        "os.makedirs('outputs', exist_ok=True)\n",
        "joblib.dump(value=Model, filename='outputs/AutoML_heart_model.pkl')\n",
        "'''"
      ]
    },
    {
      "cell_type": "code",
      "execution_count": 18,
      "metadata": {
        "gather": {
          "logged": 1648413735328
        },
        "jupyter": {
          "outputs_hidden": false,
          "source_hidden": false
        },
        "nteract": {
          "transient": {
            "deleting": false
          }
        }
      },
      "outputs": [
        {
          "data": {
            "text/plain": [
              "'AutoML6c8cea2b343'"
            ]
          },
          "execution_count": 18,
          "metadata": {},
          "output_type": "execute_result"
        }
      ],
      "source": [
        "#best_run.properties['model_name']"
      ]
    },
    {
      "cell_type": "code",
      "execution_count": 16,
      "metadata": {
        "gather": {
          "logged": 1649112741897
        },
        "jupyter": {
          "outputs_hidden": false,
          "source_hidden": false
        },
        "nteract": {
          "transient": {
            "deleting": false
          }
        }
      },
      "outputs": [
        {
          "name": "stdout",
          "output_type": "stream",
          "text": [
            "Model registered\n",
            "Model ID AutoML_heart_model\n"
          ]
        }
      ],
      "source": [
        "#TODO: Save the best model\n",
        "\n",
        "from azureml.core import Model\n",
        "\n",
        "\n",
        "model=remote_run.register_model(model_name='AutoML_heart_model',\n",
        "                        tags={'Training context':'AutoML'}\n",
        "                        )\n",
        "\n",
        "\n",
        "print('Model registered')\n",
        "print(\"Model ID\", remote_run.model_id)"
      ]
    },
    {
      "cell_type": "code",
      "execution_count": 14,
      "metadata": {
        "gather": {
          "logged": 1649105271465
        },
        "jupyter": {
          "outputs_hidden": false,
          "source_hidden": false
        },
        "nteract": {
          "transient": {
            "deleting": false
          }
        }
      },
      "outputs": [
        {
          "name": "stdout",
          "output_type": "stream",
          "text": [
            "AutoML_heart_model version: 1\n",
            "\t Training context : AutoML\n",
            "\n",
            "\n"
          ]
        }
      ],
      "source": [
        "from azureml.core import Model\n",
        "\n",
        "# List registered models\n",
        "for model in Model.list(ws):\n",
        "    print(model.name, 'version:', model.version)\n",
        "    for tag_name in model.tags:\n",
        "        tag = model.tags[tag_name]\n",
        "        print ('\\t',tag_name, ':', tag)\n",
        "    for prop_name in model.properties:\n",
        "        prop = model.properties[prop_name]\n",
        "        print ('\\t',prop_name, ':', prop)\n",
        "    print('\\n')"
      ]
    },
    {
      "cell_type": "markdown",
      "metadata": {},
      "source": [
        "## Model Deployment\n",
        "\n",
        "Remember you have to deploy only one of the two models you trained but you still need to register both the models. Perform the steps in the rest of this notebook only if you wish to deploy this model.\n",
        "\n",
        "TODO: In the cell below, register the model, create an inference config and deploy the model as a web service."
      ]
    },
    {
      "cell_type": "code",
      "execution_count": 4,
      "metadata": {
        "gather": {
          "logged": 1649101022439
        },
        "jupyter": {
          "outputs_hidden": false,
          "source_hidden": false
        },
        "nteract": {
          "transient": {
            "deleting": false
          }
        }
      },
      "outputs": [
        {
          "name": "stdout",
          "output_type": "stream",
          "text": [
            "AutoML_heart_model version 2\n"
          ]
        }
      ],
      "source": [
        "#model = ws.models['AutoML_heart_model']\n",
        "#print(model.name, 'version', model.version)"
      ]
    },
    {
      "cell_type": "code",
      "execution_count": 33,
      "metadata": {
        "gather": {
          "logged": 1648495815179
        },
        "jupyter": {
          "outputs_hidden": false,
          "source_hidden": false
        },
        "nteract": {
          "transient": {
            "deleting": false
          }
        }
      },
      "outputs": [
        {
          "name": "stdout",
          "output_type": "stream",
          "text": [
            "AutoML_heart_model\n"
          ]
        }
      ],
      "source": [
        "#print(model.name)"
      ]
    },
    {
      "cell_type": "markdown",
      "metadata": {
        "nteract": {
          "transient": {
            "deleting": false
          }
        }
      },
      "source": [
        "Create a folder for configuration files"
      ]
    },
    {
      "cell_type": "code",
      "execution_count": 16,
      "metadata": {
        "gather": {
          "logged": 1648990572756
        },
        "jupyter": {
          "outputs_hidden": false,
          "source_hidden": false
        },
        "nteract": {
          "transient": {
            "deleting": false
          }
        }
      },
      "outputs": [
        {
          "name": "stdout",
          "output_type": "stream",
          "text": [
            "heart_service folder created.\n"
          ]
        }
      ],
      "source": [
        "'''\n",
        "import os\n",
        "\n",
        "folder_name = 'heart_service'\n",
        "\n",
        "# Create a folder for the web service files\n",
        "experiment_folder = './' + folder_name\n",
        "os.makedirs(folder_name, exist_ok=True)\n",
        "\n",
        "print(folder_name, 'folder created.')\n",
        "'''"
      ]
    },
    {
      "cell_type": "code",
      "execution_count": 56,
      "metadata": {
        "jupyter": {
          "outputs_hidden": false,
          "source_hidden": false
        },
        "nteract": {
          "transient": {
            "deleting": false
          }
        }
      },
      "outputs": [
        {
          "name": "stdout",
          "output_type": "stream",
          "text": [
            "Overwriting heart_service/score_heart.py\n"
          ]
        }
      ],
      "source": [
        "\n",
        "'''\n",
        "\n",
        "%%writefile $folder_name/score_heart.py\n",
        "import json\n",
        "import joblib\n",
        "import numpy as np\n",
        "#import os\n",
        "from azureml.core.model import Model\n",
        "\n",
        "# Called when the service is loaded\n",
        "def init():\n",
        "    global model\n",
        "    # Get the path to the deployed model file and load it\n",
        "    #model_path = os.path.join(os.getenv('AZUREML_MODEL_DIR'), 'heart_model.pkl')\n",
        "    model_path=Model.get_model_path('AutoML_heart_model')\n",
        "    model = joblib.load(model_path)\n",
        "\n",
        "\n",
        "def run(raw_data):\n",
        "    # Get the input data as a numpy array\n",
        "    data = np.array(json.loads(raw_data)['data'])\n",
        "    # Get a prediction from the model\n",
        "    predictions = model.predict(data)\n",
        "    # Get the corresponding classname for each prediction (0 or 1)\n",
        "    classnames = [1, 0]\n",
        "    predicted_classes = []\n",
        "    for prediction in predictions:\n",
        "        predicted_classes.append(classnames[prediction])\n",
        "    # Return the predictions as JSON\n",
        "    return json.dumps(predicted_classes)\n",
        "'''"
      ]
    },
    {
      "cell_type": "code",
      "execution_count": 16,
      "metadata": {
        "gather": {
          "logged": 1649105627113
        },
        "jupyter": {
          "outputs_hidden": false,
          "source_hidden": false
        },
        "nteract": {
          "transient": {
            "deleting": false
          }
        }
      },
      "outputs": [
        {
          "data": {
            "text/plain": [
              "Model(workspace=Workspace.create(name='aml-workspace', subscription_id='6eee9ed4-ef02-4ad0-bbbd-194153ad2069', resource_group='aml-resource'), name=AutoML_heart_model, id=AutoML_heart_model:1, version=1, tags={'Training context': 'AutoML'}, properties={})"
            ]
          },
          "execution_count": 16,
          "metadata": {},
          "output_type": "execute_result"
        }
      ],
      "source": [
        "model"
      ]
    },
    {
      "cell_type": "code",
      "execution_count": 18,
      "metadata": {
        "gather": {
          "logged": 1649113028366
        },
        "jupyter": {
          "outputs_hidden": false,
          "source_hidden": false
        },
        "nteract": {
          "transient": {
            "deleting": false
          }
        }
      },
      "outputs": [],
      "source": [
        "\n",
        "#best_run, fitted_model = remote_run.get_output()\n",
        "\n",
        "script_file_name = 'inference/score.py'\n",
        "#download file from our latest run from outputs/scoring_file_v_1_0_0.py to inference/score.py\n",
        "best_run.download_file(\"outputs/scoring_file_v_1_0_0.py\",script_file_name)"
      ]
    },
    {
      "cell_type": "code",
      "execution_count": 20,
      "metadata": {
        "gather": {
          "logged": 1649113068833
        },
        "jupyter": {
          "outputs_hidden": false,
          "source_hidden": false
        },
        "nteract": {
          "transient": {
            "deleting": false
          }
        }
      },
      "outputs": [],
      "source": [
        "## Use the below to prevent the 'No usable environment found' error\n",
        "## download a yml file\n",
        "from azureml.core.environment import Environment\n",
        "from azureml.automl.core.shared import constants\n",
        "best_run.download_file(constants.CONDA_ENV_FILE_PATH, 'myenv.yml')\n",
        "myenv = Environment.from_conda_specification(name=\"myenv\", file_path=\"myenv.yml\")"
      ]
    },
    {
      "cell_type": "code",
      "execution_count": 21,
      "metadata": {
        "gather": {
          "logged": 1649113293613
        },
        "jupyter": {
          "outputs_hidden": false,
          "source_hidden": false
        },
        "nteract": {
          "transient": {
            "deleting": false
          }
        }
      },
      "outputs": [
        {
          "name": "stdout",
          "output_type": "stream",
          "text": [
            "Tips: You can try get_logs(): https://aka.ms/debugimage#dockerlog or local deployment: https://aka.ms/debugimage#debug-locally to debug if deployment takes longer than 10 minutes.\n",
            "Running\n",
            "2022-04-04 22:58:42+00:00 Creating Container Registry if not exists.\n",
            "2022-04-04 22:58:42+00:00 Registering the environment.\n",
            "2022-04-04 22:58:43+00:00 Use the existing image.\n",
            "2022-04-04 22:58:43+00:00 Generating deployment configuration.\n",
            "2022-04-04 22:58:44+00:00 Submitting deployment to compute.\n",
            "2022-04-04 22:58:47+00:00 Checking the status of deployment heart-service..\n",
            "2022-04-04 23:01:29+00:00 Checking the status of inference endpoint heart-service.\n",
            "Succeeded\n",
            "ACI service creation operation finished, operation \"Succeeded\"\n",
            "Healthy\n"
          ]
        }
      ],
      "source": [
        "from azureml.core.webservice import AciWebservice,Webservice\n",
        "from azureml.core.model import InferenceConfig\n",
        "from azureml.core.model import Model\n",
        "from azureml.core.environment import Environment\n",
        "\n",
        "\n",
        "'''\n",
        "# Configure the scoring environment\n",
        "inference_config = InferenceConfig(environment=best_run.get_environment(),  #runtime= \"python\",\n",
        "                                   source_directory = folder_name,\n",
        "                                   entry_script=\"score_heart.py\")\n",
        "                                   #conda_file=\"heart_env.yml\")\n",
        "'''\n",
        "#myenv\n",
        "\n",
        "inference_config = InferenceConfig(entry_script=script_file_name ,environment=myenv)\n",
        "\n",
        "# What kind of configuration will our endpoint be hosted on?\n",
        "deployment_config = AciWebservice.deploy_configuration(cpu_cores = 2, memory_gb = 4,description=\"Heart failure classification\")\n",
        "\n",
        "service_name = \"heart-service\"\n",
        "\n",
        "service = Model.deploy(ws, service_name, [model], inference_config, deployment_config,overwrite=True)\n",
        "\n",
        "service.wait_for_deployment(True)\n",
        "print(service.state)"
      ]
    },
    {
      "cell_type": "code",
      "execution_count": 22,
      "metadata": {
        "gather": {
          "logged": 1649113742369
        },
        "jupyter": {
          "outputs_hidden": false,
          "source_hidden": false
        },
        "nteract": {
          "transient": {
            "deleting": false
          }
        }
      },
      "outputs": [],
      "source": [
        "endpoint = service.scoring_uri\n",
        "#print(endpoint)"
      ]
    },
    {
      "cell_type": "markdown",
      "metadata": {
        "collapsed": true,
        "gather": {
          "logged": 1598431657736
        },
        "jupyter": {
          "outputs_hidden": false,
          "source_hidden": false
        },
        "nteract": {
          "transient": {
            "deleting": false
          }
        }
      },
      "source": [
        "TODO: In the cell below, send a request to the web service you deployed to test it."
      ]
    },
    {
      "cell_type": "code",
      "execution_count": 24,
      "metadata": {
        "gather": {
          "logged": 1649114982193
        },
        "jupyter": {
          "outputs_hidden": false,
          "source_hidden": false
        },
        "nteract": {
          "transient": {
            "deleting": false
          }
        }
      },
      "outputs": [
        {
          "name": "stdout",
          "output_type": "stream",
          "text": [
            "b'\"{\\\\\"result\\\\\": [1, 1, 1]}\"'\n"
          ]
        }
      ],
      "source": [
        "import requests\n",
        "import urllib.request\n",
        "import json\n",
        "\n",
        "\n",
        "x_new=train_ds.to_pandas_dataframe().iloc[0:3,0:12]\n",
        "# Convert the array to a serializable list in a JSON document\n",
        "#input_json = json.dumps({\"data\": x_new})\n",
        "input_json=str.encode(json.dumps({'data': x_new.to_dict(orient='records')}))\n",
        "\n",
        "# Set the content type\n",
        "headers = { 'Content-Type':'application/json' }\n",
        "\n",
        "req = urllib.request.Request(endpoint, input_json, headers = headers)\n",
        "\n",
        "try:\n",
        "    response = urllib.request.urlopen(req)\n",
        "\n",
        "    result = response.read()\n",
        "    print(result)\n",
        "except urllib.error.HTTPError as error:\n",
        "    print(\"The request failed with status code: \" + str(error.code))\n",
        "\n",
        "    # Print the headers - they include the requert ID and the timestamp, which are useful for debugging the failure\n",
        "    print(error.info())\n",
        "    print(error.read().decode(\"utf8\", 'ignore'))\n"
      ]
    },
    {
      "cell_type": "markdown",
      "metadata": {
        "collapsed": true,
        "gather": {
          "logged": 1598432765711
        },
        "jupyter": {
          "outputs_hidden": false,
          "source_hidden": false
        },
        "nteract": {
          "transient": {
            "deleting": false
          }
        }
      },
      "source": [
        "TODO: In the cell below, print the logs of the web service and delete the service"
      ]
    },
    {
      "cell_type": "markdown",
      "metadata": {
        "nteract": {
          "transient": {
            "deleting": false
          }
        }
      },
      "source": [
        "**Enable logging in the deployed web app**"
      ]
    },
    {
      "cell_type": "code",
      "execution_count": 25,
      "metadata": {
        "gather": {
          "logged": 1649115931931
        },
        "jupyter": {
          "outputs_hidden": false,
          "source_hidden": false
        },
        "nteract": {
          "transient": {
            "deleting": false
          }
        }
      },
      "outputs": [
        {
          "name": "stdout",
          "output_type": "stream",
          "text": [
            "2022-04-04T23:13:07,797388600+00:00 - iot-server/run \n",
            "2022-04-04T23:13:07,798525200+00:00 - gunicorn/run \n",
            "Dynamic Python package installation is disabled.\n",
            "Starting HTTP server\n",
            "2022-04-04T23:13:07,804517900+00:00 - nginx/run \n",
            "2022-04-04T23:13:07,807247400+00:00 - rsyslog/run \n",
            "rsyslogd: /azureml-envs/azureml_d3275cfdcb5d79e5bdf8212519ea1594/lib/libuuid.so.1: no version information available (required by rsyslogd)\n",
            "EdgeHubConnectionString and IOTEDGE_IOTHUBHOSTNAME are not set. Exiting...\n",
            "2022-04-04T23:13:08,045654900+00:00 - iot-server/finish 1 0\n",
            "2022-04-04T23:13:08,049745200+00:00 - Exit code 1 is normal. Not restarting iot-server.\n",
            "Starting gunicorn 20.1.0\n",
            "Listening at: http://127.0.0.1:31311 (79)\n",
            "Using worker: sync\n",
            "worker timeout is set to 300\n",
            "Booting worker with pid: 107\n",
            "SPARK_HOME not set. Skipping PySpark Initialization.\n",
            "Initializing logger\n",
            "2022-04-04 23:13:09,679 | root | INFO | Starting up app insights client\n",
            "logging socket was found. logging is available.\n",
            "logging socket was found. logging is available.\n",
            "2022-04-04 23:13:09,680 | root | INFO | Starting up request id generator\n",
            "2022-04-04 23:13:09,680 | root | INFO | Starting up app insight hooks\n",
            "2022-04-04 23:13:09,680 | root | INFO | Invoking user's init function\n",
            "2022-04-04 23:13:14,772 | azureml.core | WARNING | Failure while loading azureml_run_type_providers. Failed to load entrypoint hyperdrive = azureml.train.hyperdrive:HyperDriveRun._from_run_dto with exception The 'PySocks!=1.5.7,>=1.5.6; extra == \"socks\"' distribution was not found and is required by requests.\n",
            "Failure while loading azureml_run_type_providers. Failed to load entrypoint hyperdrive = azureml.train.hyperdrive:HyperDriveRun._from_run_dto with exception The 'PySocks!=1.5.7,>=1.5.6; extra == \"socks\"' distribution was not found and is required by requests.\n",
            "2022-04-04 23:13:14,916 | azureml.core | WARNING | Failure while loading azureml_run_type_providers. Failed to load entrypoint automl = azureml.train.automl.run:AutoMLRun._from_run_dto with exception The 'PySocks!=1.5.7,>=1.5.6; extra == \"socks\"' distribution was not found and is required by requests.\n",
            "Failure while loading azureml_run_type_providers. Failed to load entrypoint automl = azureml.train.automl.run:AutoMLRun._from_run_dto with exception The 'PySocks!=1.5.7,>=1.5.6; extra == \"socks\"' distribution was not found and is required by requests.\n",
            "2022-04-04 23:13:15,001 | azureml.core | WARNING | Failure while loading azureml_run_type_providers. Failed to load entrypoint azureml.scriptrun = azureml.core.script_run:ScriptRun._from_run_dto with exception The 'PySocks!=1.5.7,>=1.5.6; extra == \"socks\"' distribution was not found and is required by requests.\n",
            "Failure while loading azureml_run_type_providers. Failed to load entrypoint azureml.scriptrun = azureml.core.script_run:ScriptRun._from_run_dto with exception The 'PySocks!=1.5.7,>=1.5.6; extra == \"socks\"' distribution was not found and is required by requests.\n",
            "2022-04-04 23:13:15,634 | root | INFO | Users's init has completed successfully\n",
            "2022-04-04 23:13:15,637 | root | INFO | Skipping middleware: dbg_model_info as it's not enabled.\n",
            "2022-04-04 23:13:15,637 | root | INFO | Skipping middleware: dbg_resource_usage as it's not enabled.\n",
            "Generating swagger file: /tmp/tmp0orrsp9t\n",
            "2022-04-04 23:13:15,639 | root | INFO | Scoring timeout is found from os.environ: 60000 ms\n",
            "2022-04-04 23:14:14,963 | root | INFO | 200\n",
            "127.0.0.1 - - [04/Apr/2022:23:14:14 +0000] \"GET /swagger.json HTTP/1.0\" 200 3145 \"-\" \"Go-http-client/1.1\"\n",
            "2022-04-04 23:17:12,172 | root | INFO | 200\n",
            "127.0.0.1 - - [04/Apr/2022:23:17:12 +0000] \"GET /swagger.json HTTP/1.0\" 200 3145 \"-\" \"Go-http-client/1.1\"\n",
            "2022-04-04 23:29:42,377 | root | INFO | Validation Request Content-Type\n",
            "2022-04-04 23:29:42,379 | root | INFO | Scoring Timer is set to 60.0 seconds\n",
            "2022-04-04 23:29:42,496 | root | INFO | 200\n",
            "127.0.0.1 - - [04/Apr/2022:23:29:42 +0000] \"POST /score HTTP/1.0\" 200 25 \"-\" \"Python-urllib/3.8\"\n",
            "127.0.0.1 - - [04/Apr/2022:23:36:44 +0000] \"POST /vendor/phpunit/phpunit/src/Util/PHP/eval-stdin.php HTTP/1.0\" 404 232 \"-\" \"Mozilla/5.0 (Windows NT 10.0; Win64; x64) AppleWebKit/537.36 (KHTML, like Gecko) Chrome/78.0.3904.108 Safari/537.36\"\n",
            "\n"
          ]
        }
      ],
      "source": [
        "\n",
        "from azureml.core import Workspace\n",
        "from azureml.core.webservice import Webservice\n",
        "\n",
        "# Requires the config to be downloaded first to the current working directory\n",
        "ws = Workspace.from_config()\n",
        "\n",
        "# Set with the deployment name\n",
        "name = \"heart-service\"\n",
        "\n",
        "# load existing web service\n",
        "service = Webservice(name=name, workspace=ws)\n",
        "\n",
        "# enable application insight\n",
        "service.update(enable_app_insights=True)\n",
        "\n",
        "logs = service.get_logs()\n",
        "\n",
        "for line in logs.split('\\n'):\n",
        "    print(line)"
      ]
    },
    {
      "cell_type": "code",
      "execution_count": null,
      "metadata": {},
      "outputs": [],
      "source": [
        "print('Swagger URI: {}'.format(service.swagger_uri))"
      ]
    },
    {
      "cell_type": "markdown",
      "metadata": {
        "nteract": {
          "transient": {
            "deleting": false
          }
        }
      },
      "source": [
        "delete the service"
      ]
    },
    {
      "cell_type": "code",
      "execution_count": null,
      "metadata": {
        "jupyter": {
          "outputs_hidden": false,
          "source_hidden": false
        },
        "nteract": {
          "transient": {
            "deleting": false
          }
        }
      },
      "outputs": [],
      "source": [
        "service.delete()\n",
        "print ('Service deleted.')"
      ]
    },
    {
      "cell_type": "markdown",
      "metadata": {},
      "source": [
        "**Submission Checklist**\n",
        "- I have registered the model.\n",
        "- I have deployed the model with the best accuracy as a webservice.\n",
        "- I have tested the webservice by sending a request to the model endpoint.\n",
        "- I have deleted the webservice and shutdown all the computes that I have used.\n",
        "- I have taken a screenshot showing the model endpoint as active.\n",
        "- The project includes a file containing the environment details.\n"
      ]
    },
    {
      "cell_type": "markdown",
      "metadata": {},
      "source": []
    }
  ],
  "metadata": {
    "interpreter": {
      "hash": "60062bfbbdb55d7c70b884c78dba17d93f7bddb21846b67229a99cf865725014"
    },
    "kernel_info": {
      "name": "python38-azureml"
    },
    "kernelspec": {
      "display_name": "Python 3.8 - AzureML",
      "language": "python",
      "name": "python3"
    },
    "language_info": {
      "codemirror_mode": {
        "name": "ipython",
        "version": 3
      },
      "file_extension": ".py",
      "mimetype": "text/x-python",
      "name": "python",
      "nbconvert_exporter": "python",
      "pygments_lexer": "ipython3",
      "version": "3.7.6"
    },
    "microsoft": {
      "host": {
        "AzureML": {
          "notebookHasBeenCompleted": true
        }
      }
    },
    "nteract": {
      "version": "nteract-front-end@1.0.0"
    }
  },
  "nbformat": 4,
  "nbformat_minor": 2
}
