{
  "cells": [
    {
      "cell_type": "markdown",
      "source": [
        "# Automated ML\n",
        "\n",
        "TODO: Import Dependencies. In the cell below, import all the dependencies that you will need to complete the project."
      ],
      "metadata": {}
    },
    {
      "cell_type": "code",
      "source": [
        "import logging\n",
        "import os\n",
        "import csv\n",
        "\n",
        "from matplotlib import pyplot as plt\n",
        "import numpy as np\n",
        "import pandas as pd\n",
        "from sklearn import datasets\n",
        "import pkg_resources\n",
        "\n",
        "import azureml.core\n",
        "from azureml.core.experiment import Experiment\n",
        "from azureml.core.workspace import Workspace\n",
        "from azureml.train.automl import AutoMLConfig\n",
        "from azureml.core.dataset import Dataset\n",
        "from azureml.widgets import RunDetails\n",
        "\n",
        "#from azureml.pipeline.steps import AutoMLStep\n",
        "\n",
        "# Check core SDK version number\n",
        "print(\"SDK version:\", azureml.core.VERSION)"
      ],
      "outputs": [
        {
          "output_type": "stream",
          "name": "stdout",
          "text": "SDK version: 1.39.0\n"
        }
      ],
      "execution_count": 1,
      "metadata": {
        "gather": {
          "logged": 1649254034144
        },
        "jupyter": {
          "outputs_hidden": false,
          "source_hidden": false
        },
        "nteract": {
          "transient": {
            "deleting": false
          }
        }
      }
    },
    {
      "cell_type": "markdown",
      "source": [
        "## Dataset\n",
        "\n",
        "### Overview\n",
        "TODO: In this markdown cell, give an overview of the dataset you are using. Also mention the task you will be performing.\n",
        "\n",
        "\n",
        "TODO: Get data. In the cell below, write code to access the data you will be using in this project. Remember that the dataset needs to be external."
      ],
      "metadata": {}
    },
    {
      "cell_type": "code",
      "source": [
        "ws = Workspace.from_config()\n",
        "\n",
        "# choose a name for experiment\n",
        "experiment_name = 'automl_heart_failure_exp'\n",
        "\n",
        "experiment=Experiment(ws, experiment_name)"
      ],
      "outputs": [],
      "execution_count": 2,
      "metadata": {
        "gather": {
          "logged": 1649254043245
        },
        "jupyter": {
          "outputs_hidden": false,
          "source_hidden": false
        },
        "nteract": {
          "transient": {
            "deleting": false
          }
        }
      }
    },
    {
      "cell_type": "markdown",
      "source": [
        "## Dataset"
      ],
      "metadata": {
        "nteract": {
          "transient": {
            "deleting": false
          }
        }
      }
    },
    {
      "cell_type": "code",
      "source": [
        "default_ds = ws.get_default_datastore()\n",
        "\n",
        "if 'Heart Failure' not in ws.datasets:\n",
        "    default_ds.upload_files(files=['./heart_failure_clinical_records_dataset.csv'], # Upload the diabetes csv files in /data\n",
        "                        target_path='data/', # Put it in a folder path in the datastore\n",
        "                        overwrite=True, # Replace existing files of the same name\n",
        "                        show_progress=True)\n",
        "\n",
        "    #Create a tabular dataset from the path on the datastore (this may take a short while)\n",
        "    tab_data_set = Dataset.Tabular.from_delimited_files(path=(default_ds, 'data/*.csv'))\n",
        "\n",
        "    # Register the tabular dataset\n",
        "    try:\n",
        "        tab_data_set = tab_data_set.register(workspace=ws, \n",
        "                                name='Heart Failure',\n",
        "                                description='Clinic data',\n",
        "                                tags = {'format':'CSV'},\n",
        "                                create_new_version=True)\n",
        "        print('Dataset registered.')\n",
        "    except Exception as ex:\n",
        "        print(ex)\n",
        "else:\n",
        "    print('Dataset already registered.')"
      ],
      "outputs": [
        {
          "output_type": "stream",
          "name": "stderr",
          "text": "\"datastore.upload_files\" is deprecated after version 1.0.69. Please use \"FileDatasetFactory.upload_directory\" instead. See Dataset API change notice at https://aka.ms/dataset-deprecation.\n"
        }
      ],
      "execution_count": 3,
      "metadata": {
        "gather": {
          "logged": 1649254065245
        },
        "jupyter": {
          "outputs_hidden": false,
          "source_hidden": false
        },
        "nteract": {
          "transient": {
            "deleting": false
          }
        }
      }
    },
    {
      "cell_type": "code",
      "source": [
        "\n",
        "#folder name created in hyperdrive\n",
        "#import os, shutil\n",
        "\n",
        "# Create a folder for the experiment files\n",
        "folder_name = 'training'\n",
        "experiment_folder = './' + folder_name\n",
        "os.makedirs(folder_name, exist_ok=True)\n"
      ],
      "outputs": [],
      "execution_count": 5,
      "metadata": {
        "gather": {
          "logged": 1649254400844
        },
        "jupyter": {
          "outputs_hidden": false,
          "source_hidden": false
        },
        "nteract": {
          "transient": {
            "deleting": false
          }
        }
      }
    },
    {
      "cell_type": "markdown",
      "source": [
        "## Get data\n",
        "\n",
        "Data has been registered using Hyperdrive, if not run hyperdrive first"
      ],
      "metadata": {
        "nteract": {
          "transient": {
            "deleting": false
          }
        }
      }
    },
    {
      "cell_type": "code",
      "source": [
        "# Split the dataset into training and validation subsets\n",
        "# Get the training dataset\n",
        "heart_ds = ws.datasets.get(\"Heart Failure\")\n",
        "#heart_ds=heart_ds.to_pandas_dataframe()\n",
        "\n",
        "\n",
        "train_ds, test_ds = heart_ds.random_split(percentage=0.7, seed=123)\n",
        "print(\"Data ready!\")"
      ],
      "outputs": [
        {
          "output_type": "stream",
          "name": "stdout",
          "text": "Data ready!\n"
        }
      ],
      "execution_count": 6,
      "metadata": {
        "gather": {
          "logged": 1649254417430
        },
        "jupyter": {
          "outputs_hidden": false,
          "source_hidden": false
        },
        "nteract": {
          "transient": {
            "deleting": false
          }
        }
      }
    },
    {
      "cell_type": "code",
      "source": [
        "from azureml.core.compute import ComputeTarget, AmlCompute\n",
        "from azureml.core.compute_target import ComputeTargetException\n",
        "\n",
        "cluster_name = \"aml-cluster\"\n",
        "\n",
        "try:\n",
        "    # Check for existing compute target\n",
        "    training_cluster = ComputeTarget(workspace=ws, name=cluster_name)\n",
        "    print('Found existing cluster, use it.')\n",
        "except ComputeTargetException:\n",
        "    # If it doesn't already exist, create it\n",
        "    try:\n",
        "        compute_config = AmlCompute.provisioning_configuration(vm_size='STANDARD_DS11_V2', max_nodes=2)\n",
        "        training_cluster = ComputeTarget.create(ws, cluster_name, compute_config)\n",
        "        training_cluster.wait_for_completion(show_output=True)\n",
        "    except Exception as ex:\n",
        "        print(ex)"
      ],
      "outputs": [
        {
          "output_type": "stream",
          "name": "stdout",
          "text": "InProgress..\nSucceededProvisioning operation finished, operation \"Succeeded\"\nSucceeded\nAmlCompute wait for completion finished\n\nMinimum number of nodes requested have been provisioned\n"
        }
      ],
      "execution_count": 7,
      "metadata": {
        "gather": {
          "logged": 1649254600450
        },
        "jupyter": {
          "outputs_hidden": false,
          "source_hidden": false
        },
        "nteract": {
          "transient": {
            "deleting": false
          }
        }
      }
    },
    {
      "cell_type": "markdown",
      "source": [
        "## AutoML Configuration\n",
        "\n",
        "TODO: Explain why you chose the automl settings and cofiguration you used below."
      ],
      "metadata": {}
    },
    {
      "cell_type": "code",
      "source": [
        "#from azureml.train.automl import AutoMLConfig\n",
        "\n",
        "# TODO: Put your automl settings here\n",
        "automl_settings = {\n",
        "    \"experiment_timeout_minutes\": 15,\n",
        "    \"max_concurrent_iterations\": 5,\n",
        "    \"primary_metric\" : 'AUC_weighted'\n",
        "}\n",
        "\n",
        "# TODO: Put your automl config here\n",
        "automl_config = AutoMLConfig(compute_target=training_cluster,\n",
        "                             task = \"classification\",\n",
        "                             training_data=train_ds,\n",
        "                             validation_data = test_ds,\n",
        "                             label_column_name=\"DEATH_EVENT\",   \n",
        "                             #path = experiment_folder,\n",
        "                             enable_early_stopping= True,\n",
        "                             featurization= 'auto',\n",
        "                             debug_log = \"automl_errors.log\",\n",
        "                             **automl_settings\n",
        "\n",
        ")"
      ],
      "outputs": [],
      "execution_count": 8,
      "metadata": {
        "gather": {
          "logged": 1649254609425
        },
        "jupyter": {
          "outputs_hidden": false,
          "source_hidden": false
        },
        "nteract": {
          "transient": {
            "deleting": false
          }
        }
      }
    },
    {
      "cell_type": "code",
      "source": [
        "from azureml.widgets import RunDetails\n",
        "\n",
        "# TODO: Submit your experiment\n",
        "print('Submitting Auto ML experiment...')\n",
        "automl_experiment = Experiment(ws, 'heart-automl-sdk')\n",
        "remote_run = automl_experiment.submit(automl_config)"
      ],
      "outputs": [
        {
          "output_type": "stream",
          "name": "stdout",
          "text": "Submitting Auto ML experiment...\nSubmitting remote run.\n"
        },
        {
          "output_type": "display_data",
          "data": {
            "text/plain": "<IPython.core.display.HTML object>",
            "text/html": "<table style=\"width:100%\"><tr><th>Experiment</th><th>Id</th><th>Type</th><th>Status</th><th>Details Page</th><th>Docs Page</th></tr><tr><td>heart-automl-sdk</td><td>AutoML_989a1c6f-0c70-4cfe-b11c-66ded6030d47</td><td>automl</td><td>NotStarted</td><td><a href=\"https://ml.azure.com/runs/AutoML_989a1c6f-0c70-4cfe-b11c-66ded6030d47?wsid=/subscriptions/6eee9ed4-ef02-4ad0-bbbd-194153ad2069/resourcegroups/aml-resource/workspaces/aml-workspace&amp;tid=b8f88a0b-3d95-478b-b123-a494d78523a4\" target=\"_blank\" rel=\"noopener\">Link to Azure Machine Learning studio</a></td><td><a href=\"https://docs.microsoft.com/en-us/python/api/overview/azure/ml/intro?view=azure-ml-py\" target=\"_blank\" rel=\"noopener\">Link to Documentation</a></td></tr></table>"
          },
          "metadata": {}
        }
      ],
      "execution_count": 9,
      "metadata": {
        "gather": {
          "logged": 1649254629458
        },
        "jupyter": {
          "outputs_hidden": false,
          "source_hidden": false
        },
        "nteract": {
          "transient": {
            "deleting": false
          }
        }
      }
    },
    {
      "cell_type": "markdown",
      "source": [
        "## Run Details\n",
        "\n",
        "OPTIONAL: Write about the different models trained and their performance. Why do you think some models did better than others?\n",
        "\n",
        "TODO: In the cell below, use the `RunDetails` widget to show the different experiments."
      ],
      "metadata": {}
    },
    {
      "cell_type": "code",
      "source": [
        "RunDetails(remote_run).show()"
      ],
      "outputs": [
        {
          "output_type": "display_data",
          "data": {
            "text/plain": "_AutoMLWidget(widget_settings={'childWidgetDisplay': 'popup', 'send_telemetry': False, 'log_level': 'INFO', 's…",
            "application/vnd.jupyter.widget-view+json": {
              "version_major": 2,
              "version_minor": 0,
              "model_id": "a56b7f88f7ad46cb8866a837e9e9b17c"
            }
          },
          "metadata": {}
        },
        {
          "output_type": "display_data",
          "data": {
            "application/aml.mini.widget.v1": "{\"status\": \"Completed\", \"workbench_run_details_uri\": \"https://ml.azure.com/runs/AutoML_989a1c6f-0c70-4cfe-b11c-66ded6030d47?wsid=/subscriptions/6eee9ed4-ef02-4ad0-bbbd-194153ad2069/resourcegroups/aml-resource/workspaces/aml-workspace&tid=b8f88a0b-3d95-478b-b123-a494d78523a4\", \"run_id\": \"AutoML_989a1c6f-0c70-4cfe-b11c-66ded6030d47\", \"run_properties\": {\"run_id\": \"AutoML_989a1c6f-0c70-4cfe-b11c-66ded6030d47\", \"created_utc\": \"2022-04-06T14:17:05.072386Z\", \"properties\": {\"num_iterations\": \"1000\", \"training_type\": \"TrainFull\", \"acquisition_function\": \"EI\", \"primary_metric\": \"AUC_weighted\", \"train_split\": \"0\", \"acquisition_parameter\": \"0\", \"num_cross_validation\": null, \"target\": \"aml-cluster\", \"AMLSettingsJsonString\": \"{\\\"path\\\":null,\\\"name\\\":\\\"heart-automl-sdk\\\",\\\"subscription_id\\\":\\\"6eee9ed4-ef02-4ad0-bbbd-194153ad2069\\\",\\\"resource_group\\\":\\\"aml-resource\\\",\\\"workspace_name\\\":\\\"aml-workspace\\\",\\\"region\\\":\\\"westeurope\\\",\\\"compute_target\\\":\\\"aml-cluster\\\",\\\"spark_service\\\":null,\\\"azure_service\\\":\\\"remote\\\",\\\"many_models\\\":false,\\\"pipeline_fetch_max_batch_size\\\":1,\\\"enable_batch_run\\\":true,\\\"enable_run_restructure\\\":false,\\\"start_auxiliary_runs_before_parent_complete\\\":false,\\\"enable_code_generation\\\":false,\\\"iterations\\\":1000,\\\"primary_metric\\\":\\\"AUC_weighted\\\",\\\"task_type\\\":\\\"classification\\\",\\\"positive_label\\\":null,\\\"data_script\\\":null,\\\"test_size\\\":0.0,\\\"test_include_predictions_only\\\":false,\\\"validation_size\\\":0.0,\\\"n_cross_validations\\\":null,\\\"y_min\\\":null,\\\"y_max\\\":null,\\\"num_classes\\\":null,\\\"featurization\\\":\\\"auto\\\",\\\"_ignore_package_version_incompatibilities\\\":false,\\\"is_timeseries\\\":false,\\\"max_cores_per_iteration\\\":1,\\\"max_concurrent_iterations\\\":5,\\\"iteration_timeout_minutes\\\":null,\\\"mem_in_mb\\\":null,\\\"enforce_time_on_windows\\\":false,\\\"experiment_timeout_minutes\\\":15,\\\"experiment_exit_score\\\":null,\\\"partition_column_names\\\":null,\\\"whitelist_models\\\":null,\\\"blacklist_algos\\\":[\\\"TensorFlowLinearClassifier\\\",\\\"TensorFlowDNN\\\"],\\\"supported_models\\\":[\\\"GradientBoosting\\\",\\\"TabnetClassifier\\\",\\\"RandomForest\\\",\\\"MultinomialNaiveBayes\\\",\\\"KNN\\\",\\\"SVM\\\",\\\"LogisticRegression\\\",\\\"LinearSVM\\\",\\\"ExtremeRandomTrees\\\",\\\"DecisionTree\\\",\\\"TensorFlowDNN\\\",\\\"AveragedPerceptronClassifier\\\",\\\"SGD\\\",\\\"BernoulliNaiveBayes\\\",\\\"LightGBM\\\",\\\"XGBoostClassifier\\\",\\\"TensorFlowLinearClassifier\\\"],\\\"private_models\\\":[],\\\"auto_blacklist\\\":true,\\\"blacklist_samples_reached\\\":false,\\\"exclude_nan_labels\\\":true,\\\"verbosity\\\":20,\\\"_debug_log\\\":\\\"azureml_automl.log\\\",\\\"show_warnings\\\":false,\\\"model_explainability\\\":true,\\\"service_url\\\":null,\\\"sdk_url\\\":null,\\\"sdk_packages\\\":null,\\\"enable_onnx_compatible_models\\\":false,\\\"enable_split_onnx_featurizer_estimator_models\\\":false,\\\"vm_type\\\":\\\"STANDARD_DS11_V2\\\",\\\"telemetry_verbosity\\\":20,\\\"send_telemetry\\\":true,\\\"enable_dnn\\\":false,\\\"scenario\\\":\\\"SDK-1.13.0\\\",\\\"environment_label\\\":null,\\\"save_mlflow\\\":false,\\\"enable_categorical_indicators\\\":false,\\\"force_text_dnn\\\":false,\\\"enable_feature_sweeping\\\":true,\\\"enable_early_stopping\\\":true,\\\"early_stopping_n_iters\\\":10,\\\"arguments\\\":null,\\\"dataset_id\\\":\\\"3de7713b-396c-4e73-be54-d15f8e1b3094\\\",\\\"hyperdrive_config\\\":null,\\\"validation_dataset_id\\\":\\\"2cc6fbf8-e42b-491f-8a9f-309692731c61\\\",\\\"run_source\\\":null,\\\"metrics\\\":null,\\\"enable_metric_confidence\\\":false,\\\"enable_ensembling\\\":true,\\\"enable_stack_ensembling\\\":true,\\\"ensemble_iterations\\\":15,\\\"enable_tf\\\":false,\\\"enable_subsampling\\\":null,\\\"subsample_seed\\\":null,\\\"enable_nimbusml\\\":false,\\\"enable_streaming\\\":false,\\\"force_streaming\\\":false,\\\"track_child_runs\\\":true,\\\"allowed_private_models\\\":[],\\\"label_column_name\\\":\\\"DEATH_EVENT\\\",\\\"weight_column_name\\\":null,\\\"cv_split_column_names\\\":null,\\\"enable_local_managed\\\":false,\\\"_local_managed_run_id\\\":null,\\\"cost_mode\\\":1,\\\"lag_length\\\":0,\\\"metric_operation\\\":\\\"maximize\\\",\\\"preprocess\\\":true}\", \"DataPrepJsonString\": \"{\\\\\\\"training_data\\\\\\\": {\\\\\\\"datasetId\\\\\\\": \\\\\\\"3de7713b-396c-4e73-be54-d15f8e1b3094\\\\\\\"}, \\\\\\\"validation_data\\\\\\\": {\\\\\\\"datasetId\\\\\\\": \\\\\\\"2cc6fbf8-e42b-491f-8a9f-309692731c61\\\\\\\"}, \\\\\\\"datasets\\\\\\\": 0}\", \"EnableSubsampling\": null, \"runTemplate\": \"AutoML\", \"azureml.runsource\": \"automl\", \"display_task_type\": \"classification\", \"dependencies_versions\": \"{\\\"azureml-widgets\\\": \\\"1.39.0\\\", \\\"azureml-training-tabular\\\": \\\"1.39.0\\\", \\\"azureml-train\\\": \\\"1.39.0\\\", \\\"azureml-train-restclients-hyperdrive\\\": \\\"1.39.0\\\", \\\"azureml-train-core\\\": \\\"1.39.0\\\", \\\"azureml-train-automl\\\": \\\"1.39.0\\\", \\\"azureml-train-automl-runtime\\\": \\\"1.39.0\\\", \\\"azureml-train-automl-client\\\": \\\"1.39.0\\\", \\\"azureml-tensorboard\\\": \\\"1.39.0\\\", \\\"azureml-telemetry\\\": \\\"1.39.0\\\", \\\"azureml-sdk\\\": \\\"1.39.0\\\", \\\"azureml-samples\\\": \\\"0+unknown\\\", \\\"azureml-responsibleai\\\": \\\"1.39.0\\\", \\\"azureml-pipeline\\\": \\\"1.39.0\\\", \\\"azureml-pipeline-steps\\\": \\\"1.39.0\\\", \\\"azureml-pipeline-core\\\": \\\"1.39.0\\\", \\\"azureml-opendatasets\\\": \\\"1.39.0\\\", \\\"azureml-mlflow\\\": \\\"1.39.0\\\", \\\"azureml-interpret\\\": \\\"1.39.0\\\", \\\"azureml-inference-server-http\\\": \\\"0.4.10\\\", \\\"azureml-explain-model\\\": \\\"1.39.0\\\", \\\"azureml-defaults\\\": \\\"1.39.0\\\", \\\"azureml-dataset-runtime\\\": \\\"1.39.0\\\", \\\"azureml-dataprep\\\": \\\"2.27.1\\\", \\\"azureml-dataprep-rslex\\\": \\\"2.3.1\\\", \\\"azureml-dataprep-native\\\": \\\"38.0.0\\\", \\\"azureml-datadrift\\\": \\\"1.39.0\\\", \\\"azureml-core\\\": \\\"1.39.0\\\", \\\"azureml-contrib-services\\\": \\\"1.39.0\\\", \\\"azureml-contrib-server\\\": \\\"1.39.0\\\", \\\"azureml-contrib-reinforcementlearning\\\": \\\"1.39.0\\\", \\\"azureml-contrib-pipeline-steps\\\": \\\"1.39.0\\\", \\\"azureml-contrib-notebook\\\": \\\"1.39.0\\\", \\\"azureml-contrib-fairness\\\": \\\"1.39.0\\\", \\\"azureml-contrib-dataset\\\": \\\"1.39.0\\\", \\\"azureml-contrib-automl-pipeline-steps\\\": \\\"1.39.0\\\", \\\"azureml-cli-common\\\": \\\"1.39.0\\\", \\\"azureml-automl-runtime\\\": \\\"1.39.0\\\", \\\"azureml-automl-dnn-nlp\\\": \\\"1.39.0\\\", \\\"azureml-automl-core\\\": \\\"1.39.0\\\", \\\"azureml-accel-models\\\": \\\"1.39.0\\\"}\", \"_aml_system_scenario_identification\": \"Remote.Parent\", \"ClientType\": \"SDK\", \"environment_cpu_name\": \"AzureML-AutoML\", \"environment_cpu_label\": \"prod\", \"environment_gpu_name\": \"AzureML-AutoML-GPU\", \"environment_gpu_label\": \"prod\", \"root_attribution\": \"automl\", \"attribution\": \"AutoML\", \"Orchestrator\": \"AutoML\", \"CancelUri\": \"https://westeurope.api.azureml.ms/jasmine/v1.0/subscriptions/6eee9ed4-ef02-4ad0-bbbd-194153ad2069/resourceGroups/aml-resource/providers/Microsoft.MachineLearningServices/workspaces/aml-workspace/experimentids/9a952c4d-f9d7-4374-bd78-b22f7da196c0/cancel/AutoML_989a1c6f-0c70-4cfe-b11c-66ded6030d47\", \"azureml.git.repository_uri\": \"https://github.com/Aduzona/Capstone_Project---Azure-ML_Engineer.git\", \"mlflow.source.git.repoURL\": \"https://github.com/Aduzona/Capstone_Project---Azure-ML_Engineer.git\", \"azureml.git.branch\": \"master\", \"mlflow.source.git.branch\": \"master\", \"azureml.git.commit\": \"82db26ff432fc68e44f9b2e70bc460026a63b60f\", \"mlflow.source.git.commit\": \"82db26ff432fc68e44f9b2e70bc460026a63b60f\", \"azureml.git.dirty\": \"True\", \"ClientSdkVersion\": \"1.39.1\", \"snapshotId\": \"00000000-0000-0000-0000-000000000000\", \"SetupRunId\": \"AutoML_989a1c6f-0c70-4cfe-b11c-66ded6030d47_setup\", \"SetupRunContainerId\": \"dcid.AutoML_989a1c6f-0c70-4cfe-b11c-66ded6030d47_setup\", \"FeaturizationRunJsonPath\": \"featurizer_container.json\", \"FeaturizationRunId\": \"AutoML_989a1c6f-0c70-4cfe-b11c-66ded6030d47_featurize\", \"ProblemInfoJsonString\": \"{\\\"dataset_num_categorical\\\": 0, \\\"is_sparse\\\": false, \\\"subsampling\\\": false, \\\"has_extra_col\\\": true, \\\"dataset_classes\\\": 2, \\\"dataset_features\\\": 12, \\\"dataset_samples\\\": 209, \\\"single_frequency_class_detected\\\": false}\", \"ModelExplainRunId\": \"AutoML_989a1c6f-0c70-4cfe-b11c-66ded6030d47_ModelExplain\"}, \"tags\": {\"model_explain_run\": \"best_run\", \"_aml_system_automl_run_workspace_id\": \"74dcc3f2-b88d-4b63-8d9e-56237baf38e4\", \"_aml_system_azureml.automlComponent\": \"AutoML\", \"pipeline_id\": \"\", \"score\": \"\", \"predicted_cost\": \"\", \"fit_time\": \"\", \"training_percent\": \"\", \"iteration\": \"\", \"run_preprocessor\": \"\", \"run_algorithm\": \"\", \"dynamic_whitelisting_iterations\": \"<24>;<30>;\", \"_aml_system_azureml.automl_early_exit_message\": \"Experiment timeout reached, hence experiment stopped. Current experiment timeout: 0 hour(s) 15 minute(s)\", \"automl_best_child_run_id\": \"AutoML_989a1c6f-0c70-4cfe-b11c-66ded6030d47_24\", \"model_explain_best_run_child_id\": \"AutoML_989a1c6f-0c70-4cfe-b11c-66ded6030d47_24\"}, \"end_time_utc\": \"2022-04-06T14:42:55.718102Z\", \"status\": \"Completed\", \"log_files\": {}, \"log_groups\": [], \"run_duration\": \"0:25:50\", \"run_number\": \"1649254625\", \"run_queued_details\": {\"status\": \"Completed\", \"details\": null}}, \"child_runs\": [{\"run_id\": \"AutoML_989a1c6f-0c70-4cfe-b11c-66ded6030d47_setup\", \"run_number\": 1649254638, \"metric\": null, \"status\": \"Completed\", \"run_type\": \"azureml.scriptrun\", \"training_percent\": null, \"start_time\": \"2022-04-06T14:23:32.640491Z\", \"end_time\": \"2022-04-06T14:24:34.506048Z\", \"created_time\": \"2022-04-06T14:17:18.802086Z\", \"created_time_dt\": \"2022-04-06T14:17:18.802086Z\", \"duration\": \"0:07:15\", \"iteration\": null, \"goal\": null, \"run_name\": \"Completed\", \"run_properties\": null}, {\"run_id\": \"AutoML_989a1c6f-0c70-4cfe-b11c-66ded6030d47_featurize\", \"run_number\": 1649255074, \"metric\": null, \"status\": \"Completed\", \"run_type\": \"automl.featurization\", \"training_percent\": null, \"start_time\": \"2022-04-06T14:24:35.273558Z\", \"end_time\": \"2022-04-06T14:25:24.370407Z\", \"created_time\": \"2022-04-06T14:24:34.938978Z\", \"created_time_dt\": \"2022-04-06T14:24:34.938978Z\", \"duration\": \"0:00:49\", \"iteration\": null, \"goal\": null, \"run_name\": \"Completed\", \"run_properties\": null}, {\"run_id\": \"AutoML_989a1c6f-0c70-4cfe-b11c-66ded6030d47_0\", \"run_number\": 1649255125, \"metric\": null, \"status\": \"Completed\", \"run_type\": null, \"training_percent\": \"100\", \"start_time\": \"2022-04-06T14:25:47.179387Z\", \"end_time\": \"2022-04-06T14:26:03.26633Z\", \"created_time\": \"2022-04-06T14:25:25.607083Z\", \"created_time_dt\": \"2022-04-06T14:25:25.607083Z\", \"duration\": \"0:00:37\", \"iteration\": \"0\", \"goal\": \"AUC_weighted_max\", \"run_name\": \"MaxAbsScaler, LightGBM\", \"run_properties\": \"copy=True\", \"primary_metric\": 0.90220464, \"best_metric\": 0.90220464}, {\"run_id\": \"AutoML_989a1c6f-0c70-4cfe-b11c-66ded6030d47_2\", \"run_number\": 1649255126, \"metric\": null, \"status\": \"Completed\", \"run_type\": null, \"training_percent\": \"100\", \"start_time\": \"2022-04-06T14:26:19.095407Z\", \"end_time\": \"2022-04-06T14:26:34.616517Z\", \"created_time\": \"2022-04-06T14:25:26.361376Z\", \"created_time_dt\": \"2022-04-06T14:25:26.361376Z\", \"duration\": \"0:01:08\", \"iteration\": \"2\", \"goal\": \"AUC_weighted_max\", \"run_name\": \"MaxAbsScaler, ExtremeRandomTrees\", \"run_properties\": \"copy=True\", \"primary_metric\": 0.89796495, \"best_metric\": 0.90220464}, {\"run_id\": \"AutoML_989a1c6f-0c70-4cfe-b11c-66ded6030d47_worker_0\", \"run_number\": 1649255127, \"metric\": null, \"status\": \"Completed\", \"run_type\": \"azureml.scriptrun\", \"training_percent\": null, \"start_time\": \"2022-04-06T14:26:51.89669Z\", \"end_time\": \"2022-04-06T14:26:55.62379Z\", \"created_time\": \"2022-04-06T14:25:27.019858Z\", \"created_time_dt\": \"2022-04-06T14:25:27.019858Z\", \"duration\": \"0:01:28\", \"iteration\": null, \"goal\": null, \"run_name\": \"Completed\", \"run_properties\": null}, {\"run_id\": \"AutoML_989a1c6f-0c70-4cfe-b11c-66ded6030d47_6\", \"run_number\": 1649255128, \"metric\": null, \"status\": \"Completed\", \"run_type\": null, \"training_percent\": \"100\", \"start_time\": \"2022-04-06T14:32:28.555562Z\", \"end_time\": \"2022-04-06T14:32:43.547826Z\", \"created_time\": \"2022-04-06T14:25:28.074028Z\", \"created_time_dt\": \"2022-04-06T14:25:28.074028Z\", \"duration\": \"0:07:15\", \"iteration\": \"6\", \"goal\": \"AUC_weighted_max\", \"run_name\": \"SparseNormalizer, XGBoostClassifier\", \"run_properties\": \"copy=True, norm='max'\", \"primary_metric\": 0.87733183, \"best_metric\": 0.90220464}, {\"run_id\": \"AutoML_989a1c6f-0c70-4cfe-b11c-66ded6030d47_8\", \"run_number\": 1649255129, \"metric\": null, \"status\": \"Completed\", \"run_type\": null, \"training_percent\": \"100\", \"start_time\": \"2022-04-06T14:27:12.02398Z\", \"end_time\": \"2022-04-06T14:27:27.587749Z\", \"created_time\": \"2022-04-06T14:25:29.283179Z\", \"created_time_dt\": \"2022-04-06T14:25:29.283179Z\", \"duration\": \"0:01:58\", \"iteration\": \"8\", \"goal\": \"AUC_weighted_max\", \"run_name\": \"RobustScaler, KNN\", \"run_properties\": \"copy=True, quantile_range=[25, 75], with_centering=False,\\n             with_scaling=True\"}, {\"run_id\": \"AutoML_989a1c6f-0c70-4cfe-b11c-66ded6030d47_10\", \"run_number\": 1649255130, \"metric\": null, \"status\": \"Completed\", \"run_type\": null, \"training_percent\": \"100\", \"start_time\": \"2022-04-06T14:27:43.550398Z\", \"end_time\": \"2022-04-06T14:27:58.69303Z\", \"created_time\": \"2022-04-06T14:25:30.059541Z\", \"created_time_dt\": \"2022-04-06T14:25:30.059541Z\", \"duration\": \"0:02:28\", \"iteration\": \"10\", \"goal\": \"AUC_weighted_max\", \"run_name\": \"StandardScalerWrapper, LogisticRegression\", \"run_properties\": \"copy=True, with_mean=True, with_std=True\", \"primary_metric\": 0.85076314, \"best_metric\": 0.90220464}, {\"run_id\": \"AutoML_989a1c6f-0c70-4cfe-b11c-66ded6030d47_12\", \"run_number\": 1649255131, \"metric\": null, \"status\": \"Completed\", \"run_type\": null, \"training_percent\": \"100\", \"start_time\": \"2022-04-06T14:28:32.854271Z\", \"end_time\": \"2022-04-06T14:28:47.901737Z\", \"created_time\": \"2022-04-06T14:25:31.100856Z\", \"created_time_dt\": \"2022-04-06T14:25:31.100856Z\", \"duration\": \"0:03:16\", \"iteration\": \"12\", \"goal\": \"AUC_weighted_max\", \"run_name\": \"StandardScalerWrapper, XGBoostClassifier\", \"run_properties\": \"copy=True, with_mean=False, with_std=False\", \"primary_metric\": 0.82419446, \"best_metric\": 0.90220464}, {\"run_id\": \"AutoML_989a1c6f-0c70-4cfe-b11c-66ded6030d47_14\", \"run_number\": 1649255132, \"metric\": null, \"status\": \"Completed\", \"run_type\": null, \"training_percent\": \"100\", \"start_time\": \"2022-04-06T14:29:03.618178Z\", \"end_time\": \"2022-04-06T14:29:19.283803Z\", \"created_time\": \"2022-04-06T14:25:32.021619Z\", \"created_time_dt\": \"2022-04-06T14:25:32.021619Z\", \"duration\": \"0:03:47\", \"iteration\": \"14\", \"goal\": \"AUC_weighted_max\", \"run_name\": \"RobustScaler, ExtremeRandomTrees\", \"run_properties\": \"copy=True, quantile_range=[10, 90], with_centering=True,\\n             with_scaling=False\", \"primary_metric\": 0.86489542, \"best_metric\": 0.90220464}, {\"run_id\": \"AutoML_989a1c6f-0c70-4cfe-b11c-66ded6030d47_17\", \"run_number\": 1649255133, \"metric\": null, \"status\": \"Completed\", \"run_type\": null, \"training_percent\": \"100\", \"start_time\": \"2022-04-06T14:30:10.608523Z\", \"end_time\": \"2022-04-06T14:30:26.351195Z\", \"created_time\": \"2022-04-06T14:25:33.373123Z\", \"created_time_dt\": \"2022-04-06T14:25:33.373123Z\", \"duration\": \"0:04:52\", \"iteration\": \"17\", \"goal\": \"AUC_weighted_max\", \"run_name\": \"MinMaxScaler, ExtremeRandomTrees\", \"run_properties\": \"copy=True, feature_range=(0, 1\", \"primary_metric\": 0.88750707, \"best_metric\": 0.90220464}, {\"run_id\": \"AutoML_989a1c6f-0c70-4cfe-b11c-66ded6030d47_19\", \"run_number\": 1649255134, \"metric\": null, \"status\": \"Completed\", \"run_type\": null, \"training_percent\": \"100\", \"start_time\": \"2022-04-06T14:30:42.021298Z\", \"end_time\": \"2022-04-06T14:30:57.886103Z\", \"created_time\": \"2022-04-06T14:25:34.236416Z\", \"created_time_dt\": \"2022-04-06T14:25:34.236416Z\", \"duration\": \"0:05:23\", \"iteration\": \"19\", \"goal\": \"AUC_weighted_max\", \"run_name\": \"MaxAbsScaler, ExtremeRandomTrees\", \"run_properties\": \"copy=True\", \"primary_metric\": 0.8598078, \"best_metric\": 0.90220464}, {\"run_id\": \"AutoML_989a1c6f-0c70-4cfe-b11c-66ded6030d47_20\", \"run_number\": 1649255461, \"metric\": null, \"status\": \"Completed\", \"run_type\": \"azureml.scriptrun\", \"training_percent\": \"100\", \"start_time\": \"2022-04-06T14:33:32.510685Z\", \"end_time\": \"2022-04-06T14:33:36.252449Z\", \"created_time\": \"2022-04-06T14:31:01.202022Z\", \"created_time_dt\": \"2022-04-06T14:31:01.202022Z\", \"duration\": \"0:02:35\", \"iteration\": \"20\", \"goal\": \"AUC_weighted_max\", \"run_name\": \"StandardScalerWrapper, XGBoostClassifier\", \"run_properties\": \"copy=True, with_mean=False, with_std=False\", \"primary_metric\": 0.92707744, \"best_metric\": 0.92707744}, {\"run_id\": \"AutoML_989a1c6f-0c70-4cfe-b11c-66ded6030d47_23\", \"run_number\": 1649255566, \"metric\": null, \"status\": \"Completed\", \"run_type\": \"azureml.scriptrun\", \"training_percent\": \"100\", \"start_time\": \"2022-04-06T14:36:24.296926Z\", \"end_time\": \"2022-04-06T14:36:28.026219Z\", \"created_time\": \"2022-04-06T14:32:46.187978Z\", \"created_time_dt\": \"2022-04-06T14:32:46.187978Z\", \"duration\": \"0:03:41\", \"iteration\": \"23\", \"goal\": \"AUC_weighted_max\", \"run_name\": \"MaxAbsScaler, LogisticRegression\", \"run_properties\": \"copy=True\", \"primary_metric\": 0.85528547, \"best_metric\": 0.92707744}, {\"run_id\": \"AutoML_989a1c6f-0c70-4cfe-b11c-66ded6030d47_24\", \"run_number\": 1649255620, \"metric\": null, \"status\": \"Completed\", \"run_type\": \"azureml.scriptrun\", \"training_percent\": \"100\", \"start_time\": \"2022-04-06T14:37:28.44684Z\", \"end_time\": \"2022-04-06T14:37:32.219763Z\", \"created_time\": \"2022-04-06T14:33:40.496455Z\", \"created_time_dt\": \"2022-04-06T14:33:40.496455Z\", \"duration\": \"0:03:51\", \"iteration\": \"24\", \"goal\": \"AUC_weighted_max\", \"run_name\": \"MaxAbsScaler, RandomForest\", \"run_properties\": \"copy=True\", \"primary_metric\": 0.9615602, \"best_metric\": 0.9615602}, {\"run_id\": \"AutoML_989a1c6f-0c70-4cfe-b11c-66ded6030d47_26\", \"run_number\": 1649255670, \"metric\": null, \"status\": \"Completed\", \"run_type\": \"azureml.scriptrun\", \"training_percent\": \"100\", \"start_time\": \"2022-04-06T14:39:27.022368Z\", \"end_time\": \"2022-04-06T14:39:30.76033Z\", \"created_time\": \"2022-04-06T14:34:30.897652Z\", \"created_time_dt\": \"2022-04-06T14:34:30.897652Z\", \"duration\": \"0:04:59\", \"iteration\": \"26\", \"goal\": \"AUC_weighted_max\", \"run_name\": \"StandardScalerWrapper, LogisticRegression\", \"run_properties\": \"copy=True, with_mean=False, with_std=True\", \"primary_metric\": 0.8790277, \"best_metric\": 0.9615602}, {\"run_id\": \"AutoML_989a1c6f-0c70-4cfe-b11c-66ded6030d47_27\", \"run_number\": 1649255728, \"metric\": null, \"status\": \"Completed\", \"run_type\": \"azureml.scriptrun\", \"training_percent\": \"100\", \"start_time\": \"2022-04-06T14:40:36.932349Z\", \"end_time\": \"2022-04-06T14:40:40.703537Z\", \"created_time\": \"2022-04-06T14:35:28.812634Z\", \"created_time_dt\": \"2022-04-06T14:35:28.812634Z\", \"duration\": \"0:05:11\", \"iteration\": \"27\", \"goal\": \"AUC_weighted_max\", \"run_name\": \"StandardScalerWrapper, ExtremeRandomTrees\", \"run_properties\": \"copy=True, with_mean=True, with_std=True\", \"primary_metric\": 0.84680611, \"best_metric\": 0.9615602}, {\"run_id\": \"AutoML_989a1c6f-0c70-4cfe-b11c-66ded6030d47_28\", \"run_number\": 1649255789, \"metric\": null, \"status\": \"Canceled\", \"run_type\": \"azureml.scriptrun\", \"training_percent\": \"100\", \"start_time\": \"2022-04-06T14:40:41.571746Z\", \"end_time\": \"2022-04-06T14:40:41.821856Z\", \"created_time\": \"2022-04-06T14:36:29.580488Z\", \"created_time_dt\": \"2022-04-06T14:36:29.580488Z\", \"duration\": \"0:04:12\", \"iteration\": \"28\", \"goal\": null, \"run_name\": \"Canceled\", \"run_properties\": null}, {\"run_id\": \"AutoML_989a1c6f-0c70-4cfe-b11c-66ded6030d47_29\", \"run_number\": 1649255854, \"metric\": null, \"status\": \"Canceled\", \"run_type\": \"azureml.scriptrun\", \"training_percent\": \"100\", \"start_time\": \"2022-04-06T14:40:41.4929Z\", \"end_time\": \"2022-04-06T14:40:41.820336Z\", \"created_time\": \"2022-04-06T14:37:33.999913Z\", \"created_time_dt\": \"2022-04-06T14:37:33.999913Z\", \"duration\": \"0:03:07\", \"iteration\": \"29\", \"goal\": null, \"run_name\": \"Canceled\", \"run_properties\": null}, {\"run_id\": \"AutoML_989a1c6f-0c70-4cfe-b11c-66ded6030d47_30\", \"run_number\": 1649255918, \"metric\": null, \"status\": \"Canceled\", \"run_type\": \"azureml.scriptrun\", \"training_percent\": \"100\", \"start_time\": \"2022-04-06T14:40:41.513615Z\", \"end_time\": \"2022-04-06T14:40:42.150381Z\", \"created_time\": \"2022-04-06T14:38:38.792495Z\", \"created_time_dt\": \"2022-04-06T14:38:38.792495Z\", \"duration\": \"0:02:03\", \"iteration\": \"30\", \"goal\": null, \"run_name\": \"Canceled\", \"run_properties\": null}, {\"run_id\": \"AutoML_989a1c6f-0c70-4cfe-b11c-66ded6030d47_31\", \"run_number\": 1649255972, \"metric\": null, \"status\": \"Canceled\", \"run_type\": \"azureml.scriptrun\", \"training_percent\": \"100\", \"start_time\": \"2022-04-06T14:40:41.529327Z\", \"end_time\": \"2022-04-06T14:40:41.892746Z\", \"created_time\": \"2022-04-06T14:39:32.645035Z\", \"created_time_dt\": \"2022-04-06T14:39:32.645035Z\", \"duration\": \"0:01:09\", \"iteration\": \"31\", \"goal\": null, \"run_name\": \"Canceled\", \"run_properties\": null}, {\"run_id\": \"AutoML_989a1c6f-0c70-4cfe-b11c-66ded6030d47_32\", \"run_number\": 1649256043, \"metric\": null, \"status\": \"Completed\", \"run_type\": \"azureml.scriptrun\", \"training_percent\": \"100\", \"start_time\": \"2022-04-06T14:41:51.312211Z\", \"end_time\": \"2022-04-06T14:41:55.016341Z\", \"created_time\": \"2022-04-06T14:40:43.170891Z\", \"created_time_dt\": \"2022-04-06T14:40:43.170891Z\", \"duration\": \"0:01:11\", \"iteration\": \"32\", \"goal\": \"AUC_weighted_max\", \"run_name\": \"VotingEnsemble\", \"run_properties\": \"classification_labels=array([0, 1]\", \"primary_metric\": 0.95986433, \"best_metric\": 0.9615602}], \"children_metrics\": {\"categories\": [0], \"series\": {\"average_precision_score_weighted\": [{\"categories\": [\"0\", \"2\", \"6\", \"10\", \"12\", \"14\", \"17\", \"19\", \"20\", \"23\", \"24\", \"26\", \"27\", \"32\"], \"mode\": \"markers\", \"name\": \"average_precision_score_weighted\", \"stepped\": false, \"type\": \"scatter\", \"data\": [0.9208829749458941, 0.9109178908037626, 0.8833235102797419, 0.8765287981690727, 0.8591606917286577, 0.8920763500294899, 0.9066897301867852, 0.8866392938374661, 0.940238584671836, 0.8795460399429713, 0.9674035137243256, 0.8981888088299687, 0.8784950356312389, 0.9655714757083653]}, {\"categories\": [\"0\", \"2\", \"6\", \"10\", \"12\", \"14\", \"17\", \"19\", \"20\", \"23\", \"24\", \"26\", \"27\", \"32\"], \"mode\": \"lines\", \"name\": \"average_precision_score_weighted_max\", \"stepped\": true, \"type\": \"scatter\", \"data\": [0.9208829749458941, 0.9208829749458941, 0.9208829749458941, 0.9208829749458941, 0.9208829749458941, 0.9208829749458941, 0.9208829749458941, 0.9208829749458941, 0.940238584671836, 0.940238584671836, 0.9674035137243256, 0.9674035137243256, 0.9674035137243256, 0.9674035137243256]}], \"balanced_accuracy\": [{\"categories\": [\"0\", \"2\", \"6\", \"10\", \"12\", \"14\", \"17\", \"19\", \"20\", \"23\", \"24\", \"26\", \"27\", \"32\"], \"mode\": \"markers\", \"name\": \"balanced_accuracy\", \"stepped\": false, \"type\": \"scatter\", \"data\": [0.8111927642736009, 0.7159412097230073, 0.7430751837196157, 0.8046919163369135, 0.7594686263425664, 0.8292820802713398, 0.7857546636517807, 0.8038439796495196, 0.8021481062747315, 0.7809496890898813, 0.8982475975127191, 0.8292820802713398, 0.813736574335783, 0.8629169022046353]}, {\"categories\": [\"0\", \"2\", \"6\", \"10\", \"12\", \"14\", \"17\", \"19\", \"20\", \"23\", \"24\", \"26\", \"27\", \"32\"], \"mode\": \"lines\", \"name\": \"balanced_accuracy_max\", \"stepped\": true, \"type\": \"scatter\", \"data\": [0.8111927642736009, 0.8111927642736009, 0.8111927642736009, 0.8111927642736009, 0.8111927642736009, 0.8292820802713398, 0.8292820802713398, 0.8292820802713398, 0.8292820802713398, 0.8292820802713398, 0.8982475975127191, 0.8982475975127191, 0.8982475975127191, 0.8982475975127191]}], \"f1_score_micro\": [{\"categories\": [\"0\", \"2\", \"6\", \"10\", \"12\", \"14\", \"17\", \"19\", \"20\", \"23\", \"24\", \"26\", \"27\", \"32\"], \"mode\": \"markers\", \"name\": \"f1_score_micro\", \"stepped\": false, \"type\": \"scatter\", \"data\": [0.8666666666666667, 0.8111111111111111, 0.8111111111111111, 0.8333333333333334, 0.8333333333333334, 0.8666666666666667, 0.8444444444444444, 0.8444444444444444, 0.8666666666666667, 0.7888888888888889, 0.9111111111111111, 0.8666666666666667, 0.8333333333333334, 0.9]}, {\"categories\": [\"0\", \"2\", \"6\", \"10\", \"12\", \"14\", \"17\", \"19\", \"20\", \"23\", \"24\", \"26\", \"27\", \"32\"], \"mode\": \"lines\", \"name\": \"f1_score_micro_max\", \"stepped\": true, \"type\": \"scatter\", \"data\": [0.8666666666666667, 0.8666666666666667, 0.8666666666666667, 0.8666666666666667, 0.8666666666666667, 0.8666666666666667, 0.8666666666666667, 0.8666666666666667, 0.8666666666666667, 0.8666666666666667, 0.9111111111111111, 0.9111111111111111, 0.9111111111111111, 0.9111111111111111]}], \"f1_score_macro\": [{\"categories\": [\"0\", \"2\", \"6\", \"10\", \"12\", \"14\", \"17\", \"19\", \"20\", \"23\", \"24\", \"26\", \"27\", \"32\"], \"mode\": \"markers\", \"name\": \"f1_score_macro\", \"stepped\": false, \"type\": \"scatter\", \"data\": [0.8338461538461538, 0.7402817857749109, 0.7616451160616918, 0.8074454428754814, 0.7840345544712846, 0.8412698412698413, 0.8061538461538462, 0.8148148148148149, 0.8295454545454546, 0.768009768009768, 0.8982475975127191, 0.8412698412698413, 0.8108978848578232, 0.8796612687564997]}, {\"categories\": [\"0\", \"2\", \"6\", \"10\", \"12\", \"14\", \"17\", \"19\", \"20\", \"23\", \"24\", \"26\", \"27\", \"32\"], \"mode\": \"lines\", \"name\": \"f1_score_macro_max\", \"stepped\": true, \"type\": \"scatter\", \"data\": [0.8338461538461538, 0.8338461538461538, 0.8338461538461538, 0.8338461538461538, 0.8338461538461538, 0.8412698412698413, 0.8412698412698413, 0.8412698412698413, 0.8412698412698413, 0.8412698412698413, 0.8982475975127191, 0.8982475975127191, 0.8982475975127191, 0.8982475975127191]}], \"weighted_accuracy\": [{\"categories\": [\"0\", \"2\", \"6\", \"10\", \"12\", \"14\", \"17\", \"19\", \"20\", \"23\", \"24\", \"26\", \"27\", \"32\"], \"mode\": \"markers\", \"name\": \"weighted_accuracy\", \"stepped\": false, \"type\": \"scatter\", \"data\": [0.9096887330118368, 0.8849188952213942, 0.8638754932047347, 0.8555458132398072, 0.8906181499342393, 0.895659798334064, 0.8899605436212187, 0.8759316089434458, 0.9167032003507234, 0.7950460324419115, 0.9210872424375274, 0.895659798334064, 0.8485313459009207, 0.9287593160894344]}, {\"categories\": [\"0\", \"2\", \"6\", \"10\", \"12\", \"14\", \"17\", \"19\", \"20\", \"23\", \"24\", \"26\", \"27\", \"32\"], \"mode\": \"lines\", \"name\": \"weighted_accuracy_max\", \"stepped\": true, \"type\": \"scatter\", \"data\": [0.9096887330118368, 0.9096887330118368, 0.9096887330118368, 0.9096887330118368, 0.9096887330118368, 0.9096887330118368, 0.9096887330118368, 0.9096887330118368, 0.9167032003507234, 0.9167032003507234, 0.9210872424375274, 0.9210872424375274, 0.9210872424375274, 0.9287593160894344]}], \"f1_score_weighted\": [{\"categories\": [\"0\", \"2\", \"6\", \"10\", \"12\", \"14\", \"17\", \"19\", \"20\", \"23\", \"24\", \"26\", \"27\", \"32\"], \"mode\": \"markers\", \"name\": \"f1_score_weighted\", \"stepped\": false, \"type\": \"scatter\", \"data\": [0.860102564102564, 0.788506007280409, 0.8002527219539215, 0.8325488518043076, 0.8207220178104837, 0.8638447971781306, 0.8367863247863249, 0.8411522633744857, 0.8578282828282828, 0.7927553927553928, 0.9111111111111111, 0.8638447971781306, 0.8340570574777045, 0.8972515228049324]}, {\"categories\": [\"0\", \"2\", \"6\", \"10\", \"12\", \"14\", \"17\", \"19\", \"20\", \"23\", \"24\", \"26\", \"27\", \"32\"], \"mode\": \"lines\", \"name\": \"f1_score_weighted_max\", \"stepped\": true, \"type\": \"scatter\", \"data\": [0.860102564102564, 0.860102564102564, 0.860102564102564, 0.860102564102564, 0.860102564102564, 0.8638447971781306, 0.8638447971781306, 0.8638447971781306, 0.8638447971781306, 0.8638447971781306, 0.9111111111111111, 0.9111111111111111, 0.9111111111111111, 0.9111111111111111]}], \"precision_score_micro\": [{\"categories\": [\"0\", \"2\", \"6\", \"10\", \"12\", \"14\", \"17\", \"19\", \"20\", \"23\", \"24\", \"26\", \"27\", \"32\"], \"mode\": \"markers\", \"name\": \"precision_score_micro\", \"stepped\": false, \"type\": \"scatter\", \"data\": [0.8666666666666667, 0.8111111111111111, 0.8111111111111111, 0.8333333333333334, 0.8333333333333334, 0.8666666666666667, 0.8444444444444444, 0.8444444444444444, 0.8666666666666667, 0.7888888888888889, 0.9111111111111111, 0.8666666666666667, 0.8333333333333334, 0.9]}, {\"categories\": [\"0\", \"2\", \"6\", \"10\", \"12\", \"14\", \"17\", \"19\", \"20\", \"23\", \"24\", \"26\", \"27\", \"32\"], \"mode\": \"lines\", \"name\": \"precision_score_micro_max\", \"stepped\": true, \"type\": \"scatter\", \"data\": [0.8666666666666667, 0.8666666666666667, 0.8666666666666667, 0.8666666666666667, 0.8666666666666667, 0.8666666666666667, 0.8666666666666667, 0.8666666666666667, 0.8666666666666667, 0.8666666666666667, 0.9111111111111111, 0.9111111111111111, 0.9111111111111111, 0.9111111111111111]}], \"recall_score_macro\": [{\"categories\": [\"0\", \"2\", \"6\", \"10\", \"12\", \"14\", \"17\", \"19\", \"20\", \"23\", \"24\", \"26\", \"27\", \"32\"], \"mode\": \"markers\", \"name\": \"recall_score_macro\", \"stepped\": false, \"type\": \"scatter\", \"data\": [0.8111927642736009, 0.7159412097230073, 0.7430751837196157, 0.8046919163369135, 0.7594686263425664, 0.8292820802713398, 0.7857546636517807, 0.8038439796495196, 0.8021481062747315, 0.7809496890898813, 0.8982475975127191, 0.8292820802713398, 0.813736574335783, 0.8629169022046353]}, {\"categories\": [\"0\", \"2\", \"6\", \"10\", \"12\", \"14\", \"17\", \"19\", \"20\", \"23\", \"24\", \"26\", \"27\", \"32\"], \"mode\": \"lines\", \"name\": \"recall_score_macro_max\", \"stepped\": true, \"type\": \"scatter\", \"data\": [0.8111927642736009, 0.8111927642736009, 0.8111927642736009, 0.8111927642736009, 0.8111927642736009, 0.8292820802713398, 0.8292820802713398, 0.8292820802713398, 0.8292820802713398, 0.8292820802713398, 0.8982475975127191, 0.8982475975127191, 0.8982475975127191, 0.8982475975127191]}], \"AUC_macro\": [{\"categories\": [\"0\", \"2\", \"6\", \"10\", \"12\", \"14\", \"17\", \"19\", \"20\", \"23\", \"24\", \"26\", \"27\", \"32\"], \"mode\": \"markers\", \"name\": \"AUC_macro\", \"stepped\": false, \"type\": \"scatter\", \"data\": [0.9022046353872244, 0.8979649519502544, 0.8773318258903335, 0.8507631430186546, 0.8241944601469757, 0.864895421141888, 0.8875070661390616, 0.8598078010175241, 0.9270774448841153, 0.8552854720180894, 0.961560203504805, 0.8790276992651215, 0.8468061051441492, 0.9598643301300169]}, {\"categories\": [\"0\", \"2\", \"6\", \"10\", \"12\", \"14\", \"17\", \"19\", \"20\", \"23\", \"24\", \"26\", \"27\", \"32\"], \"mode\": \"lines\", \"name\": \"AUC_macro_max\", \"stepped\": true, \"type\": \"scatter\", \"data\": [0.9022046353872244, 0.9022046353872244, 0.9022046353872244, 0.9022046353872244, 0.9022046353872244, 0.9022046353872244, 0.9022046353872244, 0.9022046353872244, 0.9270774448841153, 0.9270774448841153, 0.961560203504805, 0.961560203504805, 0.961560203504805, 0.961560203504805]}], \"average_precision_score_micro\": [{\"categories\": [\"0\", \"2\", \"6\", \"10\", \"12\", \"14\", \"17\", \"19\", \"20\", \"23\", \"24\", \"26\", \"27\", \"32\"], \"mode\": \"markers\", \"name\": \"average_precision_score_micro\", \"stepped\": false, \"type\": \"scatter\", \"data\": [0.9246674485582461, 0.9067082184557622, 0.8890259265197369, 0.8871737005373421, 0.8665641290029344, 0.9045730078056302, 0.9177055937375285, 0.8989585126546926, 0.9352522593372958, 0.8715740793255565, 0.9707262054566488, 0.9046897777410063, 0.8795910665616935, 0.9671809378357448]}, {\"categories\": [\"0\", \"2\", \"6\", \"10\", \"12\", \"14\", \"17\", \"19\", \"20\", \"23\", \"24\", \"26\", \"27\", \"32\"], \"mode\": \"lines\", \"name\": \"average_precision_score_micro_max\", \"stepped\": true, \"type\": \"scatter\", \"data\": [0.9246674485582461, 0.9246674485582461, 0.9246674485582461, 0.9246674485582461, 0.9246674485582461, 0.9246674485582461, 0.9246674485582461, 0.9246674485582461, 0.9352522593372958, 0.9352522593372958, 0.9707262054566488, 0.9707262054566488, 0.9707262054566488, 0.9707262054566488]}], \"matthews_correlation\": [{\"categories\": [\"0\", \"2\", \"6\", \"10\", \"12\", \"14\", \"17\", \"19\", \"20\", \"23\", \"24\", \"26\", \"27\", \"32\"], \"mode\": \"markers\", \"name\": \"matthews_correlation\", \"stepped\": false, \"type\": \"scatter\", \"data\": [0.6876844589387536, 0.5568761626965705, 0.5464752745666273, 0.6151485207228066, 0.6062842188159794, 0.68712432959947, 0.6314704704696457, 0.6340417633643177, 0.6920027397757972, 0.5416128952623219, 0.7964951950254381, 0.68712432959947, 0.622046441203655, 0.7670497251462313]}, {\"categories\": [\"0\", \"2\", \"6\", \"10\", \"12\", \"14\", \"17\", \"19\", \"20\", \"23\", \"24\", \"26\", \"27\", \"32\"], \"mode\": \"lines\", \"name\": \"matthews_correlation_max\", \"stepped\": true, \"type\": \"scatter\", \"data\": [0.6876844589387536, 0.6876844589387536, 0.6876844589387536, 0.6876844589387536, 0.6876844589387536, 0.6876844589387536, 0.6876844589387536, 0.6876844589387536, 0.6920027397757972, 0.6920027397757972, 0.7964951950254381, 0.7964951950254381, 0.7964951950254381, 0.7964951950254381]}], \"recall_score_micro\": [{\"categories\": [\"0\", \"2\", \"6\", \"10\", \"12\", \"14\", \"17\", \"19\", \"20\", \"23\", \"24\", \"26\", \"27\", \"32\"], \"mode\": \"markers\", \"name\": \"recall_score_micro\", \"stepped\": false, \"type\": \"scatter\", \"data\": [0.8666666666666667, 0.8111111111111111, 0.8111111111111111, 0.8333333333333334, 0.8333333333333334, 0.8666666666666667, 0.8444444444444444, 0.8444444444444444, 0.8666666666666667, 0.7888888888888889, 0.9111111111111111, 0.8666666666666667, 0.8333333333333334, 0.9]}, {\"categories\": [\"0\", \"2\", \"6\", \"10\", \"12\", \"14\", \"17\", \"19\", \"20\", \"23\", \"24\", \"26\", \"27\", \"32\"], \"mode\": \"lines\", \"name\": \"recall_score_micro_max\", \"stepped\": true, \"type\": \"scatter\", \"data\": [0.8666666666666667, 0.8666666666666667, 0.8666666666666667, 0.8666666666666667, 0.8666666666666667, 0.8666666666666667, 0.8666666666666667, 0.8666666666666667, 0.8666666666666667, 0.8666666666666667, 0.9111111111111111, 0.9111111111111111, 0.9111111111111111, 0.9111111111111111]}], \"recall_score_weighted\": [{\"categories\": [\"0\", \"2\", \"6\", \"10\", \"12\", \"14\", \"17\", \"19\", \"20\", \"23\", \"24\", \"26\", \"27\", \"32\"], \"mode\": \"markers\", \"name\": \"recall_score_weighted\", \"stepped\": false, \"type\": \"scatter\", \"data\": [0.8666666666666667, 0.8111111111111111, 0.8111111111111111, 0.8333333333333334, 0.8333333333333334, 0.8666666666666667, 0.8444444444444444, 0.8444444444444444, 0.8666666666666667, 0.7888888888888889, 0.9111111111111111, 0.8666666666666667, 0.8333333333333334, 0.9]}, {\"categories\": [\"0\", \"2\", \"6\", \"10\", \"12\", \"14\", \"17\", \"19\", \"20\", \"23\", \"24\", \"26\", \"27\", \"32\"], \"mode\": \"lines\", \"name\": \"recall_score_weighted_max\", \"stepped\": true, \"type\": \"scatter\", \"data\": [0.8666666666666667, 0.8666666666666667, 0.8666666666666667, 0.8666666666666667, 0.8666666666666667, 0.8666666666666667, 0.8666666666666667, 0.8666666666666667, 0.8666666666666667, 0.8666666666666667, 0.9111111111111111, 0.9111111111111111, 0.9111111111111111, 0.9111111111111111]}], \"norm_macro_recall\": [{\"categories\": [\"0\", \"2\", \"6\", \"10\", \"12\", \"14\", \"17\", \"19\", \"20\", \"23\", \"24\", \"26\", \"27\", \"32\"], \"mode\": \"markers\", \"name\": \"norm_macro_recall\", \"stepped\": false, \"type\": \"scatter\", \"data\": [0.6223855285472017, 0.4318824194460147, 0.48615036743923135, 0.609383832673827, 0.5189372526851328, 0.6585641605426795, 0.5715093273035614, 0.6076879592990392, 0.6042962125494631, 0.5618993781797625, 0.7964951950254382, 0.6585641605426795, 0.6274731486715659, 0.7258338044092707]}, {\"categories\": [\"0\", \"2\", \"6\", \"10\", \"12\", \"14\", \"17\", \"19\", \"20\", \"23\", \"24\", \"26\", \"27\", \"32\"], \"mode\": \"lines\", \"name\": \"norm_macro_recall_max\", \"stepped\": true, \"type\": \"scatter\", \"data\": [0.6223855285472017, 0.6223855285472017, 0.6223855285472017, 0.6223855285472017, 0.6223855285472017, 0.6585641605426795, 0.6585641605426795, 0.6585641605426795, 0.6585641605426795, 0.6585641605426795, 0.7964951950254382, 0.7964951950254382, 0.7964951950254382, 0.7964951950254382]}], \"accuracy\": [{\"categories\": [\"0\", \"2\", \"6\", \"10\", \"12\", \"14\", \"17\", \"19\", \"20\", \"23\", \"24\", \"26\", \"27\", \"32\"], \"mode\": \"markers\", \"name\": \"accuracy\", \"stepped\": false, \"type\": \"scatter\", \"data\": [0.8666666666666667, 0.8111111111111111, 0.8111111111111111, 0.8333333333333334, 0.8333333333333334, 0.8666666666666667, 0.8444444444444444, 0.8444444444444444, 0.8666666666666667, 0.7888888888888889, 0.9111111111111111, 0.8666666666666667, 0.8333333333333334, 0.9]}, {\"categories\": [\"0\", \"2\", \"6\", \"10\", \"12\", \"14\", \"17\", \"19\", \"20\", \"23\", \"24\", \"26\", \"27\", \"32\"], \"mode\": \"lines\", \"name\": \"accuracy_max\", \"stepped\": true, \"type\": \"scatter\", \"data\": [0.8666666666666667, 0.8666666666666667, 0.8666666666666667, 0.8666666666666667, 0.8666666666666667, 0.8666666666666667, 0.8666666666666667, 0.8666666666666667, 0.8666666666666667, 0.8666666666666667, 0.9111111111111111, 0.9111111111111111, 0.9111111111111111, 0.9111111111111111]}], \"log_loss\": [{\"categories\": [\"0\", \"2\", \"6\", \"10\", \"12\", \"14\", \"17\", \"19\", \"20\", \"23\", \"24\", \"26\", \"27\", \"32\"], \"mode\": \"markers\", \"name\": \"log_loss\", \"stepped\": false, \"type\": \"scatter\", \"data\": [0.3786010774807543, 0.3981411238064899, 0.3903600825728703, 0.43394065417968003, 0.4445349032959643, 0.4479436918793818, 0.3739969176099431, 0.46065204927114733, 0.34919261341523605, 0.4651684632545795, 0.4145413228876237, 0.399156100354551, 0.572722981480264, 0.3768063674068902]}, {\"categories\": [\"0\", \"2\", \"6\", \"10\", \"12\", \"14\", \"17\", \"19\", \"20\", \"23\", \"24\", \"26\", \"27\", \"32\"], \"mode\": \"lines\", \"name\": \"log_loss_min\", \"stepped\": true, \"type\": \"scatter\", \"data\": [0.3786010774807543, 0.3786010774807543, 0.3786010774807543, 0.3786010774807543, 0.3786010774807543, 0.3786010774807543, 0.3739969176099431, 0.3739969176099431, 0.34919261341523605, 0.34919261341523605, 0.34919261341523605, 0.34919261341523605, 0.34919261341523605, 0.34919261341523605]}], \"precision_score_weighted\": [{\"categories\": [\"0\", \"2\", \"6\", \"10\", \"12\", \"14\", \"17\", \"19\", \"20\", \"23\", \"24\", \"26\", \"27\", \"32\"], \"mode\": \"markers\", \"name\": \"precision_score_weighted\", \"stepped\": false, \"type\": \"scatter\", \"data\": [0.8710835058661145, 0.8342940685045948, 0.8096825396825397, 0.8319892473118279, 0.841820987654321, 0.865025641025641, 0.8459167241775936, 0.8417094017094017, 0.87803311094638, 0.8015522875816994, 0.9111111111111111, 0.865025641025641, 0.8350000000000001, 0.9012626262626262]}, {\"categories\": [\"0\", \"2\", \"6\", \"10\", \"12\", \"14\", \"17\", \"19\", \"20\", \"23\", \"24\", \"26\", \"27\", \"32\"], \"mode\": \"lines\", \"name\": \"precision_score_weighted_max\", \"stepped\": true, \"type\": \"scatter\", \"data\": [0.8710835058661145, 0.8710835058661145, 0.8710835058661145, 0.8710835058661145, 0.8710835058661145, 0.8710835058661145, 0.8710835058661145, 0.8710835058661145, 0.87803311094638, 0.87803311094638, 0.9111111111111111, 0.9111111111111111, 0.9111111111111111, 0.9111111111111111]}], \"precision_score_macro\": [{\"categories\": [\"0\", \"2\", \"6\", \"10\", \"12\", \"14\", \"17\", \"19\", \"20\", \"23\", \"24\", \"26\", \"27\", \"32\"], \"mode\": \"markers\", \"name\": \"precision_score_macro\", \"stepped\": false, \"type\": \"scatter\", \"data\": [0.8799171842650104, 0.8590225563909775, 0.8071428571428572, 0.810483870967742, 0.8541666666666666, 0.8584615384615384, 0.8488612836438922, 0.8307692307692308, 0.8962194217939214, 0.7610294117647058, 0.8982475975127191, 0.8584615384615384, 0.8083333333333333, 0.9053030303030303]}, {\"categories\": [\"0\", \"2\", \"6\", \"10\", \"12\", \"14\", \"17\", \"19\", \"20\", \"23\", \"24\", \"26\", \"27\", \"32\"], \"mode\": \"lines\", \"name\": \"precision_score_macro_max\", \"stepped\": true, \"type\": \"scatter\", \"data\": [0.8799171842650104, 0.8799171842650104, 0.8799171842650104, 0.8799171842650104, 0.8799171842650104, 0.8799171842650104, 0.8799171842650104, 0.8799171842650104, 0.8962194217939214, 0.8962194217939214, 0.8982475975127191, 0.8982475975127191, 0.8982475975127191, 0.9053030303030303]}], \"average_precision_score_macro\": [{\"categories\": [\"0\", \"2\", \"6\", \"10\", \"12\", \"14\", \"17\", \"19\", \"20\", \"23\", \"24\", \"26\", \"27\", \"32\"], \"mode\": \"markers\", \"name\": \"average_precision_score_macro\", \"stepped\": false, \"type\": \"scatter\", \"data\": [0.9065259896532297, 0.8960194943478464, 0.869088217207731, 0.8538893978189458, 0.8421957798090013, 0.8754881092511209, 0.8881514185305982, 0.8703617207086266, 0.927001130317168, 0.8567502843589203, 0.9598418204265659, 0.8780960891995229, 0.8616067345233093, 0.9571606576792993]}, {\"categories\": [\"0\", \"2\", \"6\", \"10\", \"12\", \"14\", \"17\", \"19\", \"20\", \"23\", \"24\", \"26\", \"27\", \"32\"], \"mode\": \"lines\", \"name\": \"average_precision_score_macro_max\", \"stepped\": true, \"type\": \"scatter\", \"data\": [0.9065259896532297, 0.9065259896532297, 0.9065259896532297, 0.9065259896532297, 0.9065259896532297, 0.9065259896532297, 0.9065259896532297, 0.9065259896532297, 0.927001130317168, 0.927001130317168, 0.9598418204265659, 0.9598418204265659, 0.9598418204265659, 0.9598418204265659]}], \"AUC_weighted\": [{\"categories\": [\"0\", \"2\", \"6\", \"10\", \"12\", \"14\", \"17\", \"19\", \"20\", \"23\", \"24\", \"26\", \"27\", \"32\"], \"mode\": \"markers\", \"name\": \"AUC_weighted\", \"stepped\": false, \"type\": \"scatter\", \"data\": [0.9022046353872244, 0.8979649519502544, 0.8773318258903335, 0.8507631430186546, 0.8241944601469757, 0.8648954211418881, 0.8875070661390617, 0.859807801017524, 0.9270774448841154, 0.8552854720180894, 0.961560203504805, 0.8790276992651215, 0.8468061051441492, 0.9598643301300168]}, {\"categories\": [\"0\", \"2\", \"6\", \"10\", \"12\", \"14\", \"17\", \"19\", \"20\", \"23\", \"24\", \"26\", \"27\", \"32\"], \"mode\": \"lines\", \"name\": \"AUC_weighted_max\", \"stepped\": true, \"type\": \"scatter\", \"data\": [0.9022046353872244, 0.9022046353872244, 0.9022046353872244, 0.9022046353872244, 0.9022046353872244, 0.9022046353872244, 0.9022046353872244, 0.9022046353872244, 0.9270774448841154, 0.9270774448841154, 0.961560203504805, 0.961560203504805, 0.961560203504805, 0.961560203504805]}], \"AUC_micro\": [{\"categories\": [\"0\", \"2\", \"6\", \"10\", \"12\", \"14\", \"17\", \"19\", \"20\", \"23\", \"24\", \"26\", \"27\", \"32\"], \"mode\": \"markers\", \"name\": \"AUC_micro\", \"stepped\": false, \"type\": \"scatter\", \"data\": [0.9244444444444444, 0.9101234567901235, 0.9050617283950618, 0.8862962962962964, 0.8741975308641975, 0.9034567901234568, 0.9145679012345679, 0.9004938271604938, 0.9320987654320988, 0.8660493827160494, 0.9688888888888889, 0.9039506172839505, 0.8774074074074074, 0.9653086419753087]}, {\"categories\": [\"0\", \"2\", \"6\", \"10\", \"12\", \"14\", \"17\", \"19\", \"20\", \"23\", \"24\", \"26\", \"27\", \"32\"], \"mode\": \"lines\", \"name\": \"AUC_micro_max\", \"stepped\": true, \"type\": \"scatter\", \"data\": [0.9244444444444444, 0.9244444444444444, 0.9244444444444444, 0.9244444444444444, 0.9244444444444444, 0.9244444444444444, 0.9244444444444444, 0.9244444444444444, 0.9320987654320988, 0.9320987654320988, 0.9688888888888889, 0.9688888888888889, 0.9688888888888889, 0.9688888888888889]}]}, \"metricName\": null, \"primaryMetricName\": \"AUC_weighted\", \"showLegend\": false}, \"run_metrics\": [{\"name\": \"experiment_status\", \"run_id\": \"AutoML_989a1c6f-0c70-4cfe-b11c-66ded6030d47\", \"categories\": [0, 1, 2, 3, 4, 5, 6, 7, 8, 9, 10, 11, 12], \"series\": [{\"data\": [\"DatasetEvaluation\", \"FeaturesGeneration\", \"DatasetFeaturization\", \"DatasetFeaturizationCompleted\", \"ModelSelection\", \"BestRunExplainModel\", \"ModelExplanationDataSetSetup\", \"PickSurrogateModel\", \"EngineeredFeatureExplanations\", \"EngineeredFeatureExplanations\", \"RawFeaturesExplanations\", \"RawFeaturesExplanations\", \"BestRunExplainModel\"]}]}, {\"name\": \"experiment_status_description\", \"run_id\": \"AutoML_989a1c6f-0c70-4cfe-b11c-66ded6030d47\", \"categories\": [0, 1, 2, 3, 4, 5, 6, 7, 8, 9, 10, 11, 12], \"series\": [{\"data\": [\"Gathering dataset statistics.\", \"Generating features for the dataset.\", \"Beginning to fit featurizers and featurize the dataset.\", \"Completed fit featurizers and featurizing the dataset.\", \"Beginning model selection.\", \"Best run model explanations started\", \"Model explanations data setup completed\", \"Choosing LightGBM as the surrogate model for explanations\", \"Computation of engineered features started\", \"Computation of engineered features completed\", \"Computation of raw features started\", \"Computation of raw features completed\", \"Best run model explanations completed\"]}]}], \"run_logs\": \"\\nRun is completed.\", \"graph\": {}, \"widget_settings\": {\"childWidgetDisplay\": \"popup\", \"send_telemetry\": false, \"log_level\": \"INFO\", \"sdk_version\": \"1.39.0\"}, \"loading\": false}"
          },
          "metadata": {}
        }
      ],
      "execution_count": 10,
      "metadata": {
        "gather": {
          "logged": 1649254682272
        },
        "jupyter": {
          "outputs_hidden": false,
          "source_hidden": false
        },
        "nteract": {
          "transient": {
            "deleting": false
          }
        }
      }
    },
    {
      "cell_type": "code",
      "source": [
        "remote_run.wait_for_completion(show_output=True)"
      ],
      "outputs": [
        {
          "output_type": "display_data",
          "data": {
            "text/plain": "<IPython.core.display.HTML object>",
            "text/html": "<table style=\"width:100%\"><tr><th>Experiment</th><th>Id</th><th>Type</th><th>Status</th><th>Details Page</th><th>Docs Page</th></tr><tr><td>heart-automl-sdk</td><td>AutoML_989a1c6f-0c70-4cfe-b11c-66ded6030d47</td><td>automl</td><td>NotStarted</td><td><a href=\"https://ml.azure.com/runs/AutoML_989a1c6f-0c70-4cfe-b11c-66ded6030d47?wsid=/subscriptions/6eee9ed4-ef02-4ad0-bbbd-194153ad2069/resourcegroups/aml-resource/workspaces/aml-workspace&amp;tid=b8f88a0b-3d95-478b-b123-a494d78523a4\" target=\"_blank\" rel=\"noopener\">Link to Azure Machine Learning studio</a></td><td><a href=\"https://docs.microsoft.com/en-us/python/api/overview/azure/ml/intro?view=azure-ml-py\" target=\"_blank\" rel=\"noopener\">Link to Documentation</a></td></tr></table>"
          },
          "metadata": {}
        },
        {
          "output_type": "stream",
          "name": "stdout",
          "text": "\nCurrent status: FeaturesGeneration. Generating features for the dataset.\nCurrent status: DatasetFeaturizationCompleted. Completed fit featurizers and featurizing the dataset.\nCurrent status: ModelSelection. Beginning model selection.\n\n********************************************************************************************\nDATA GUARDRAILS: \n\nTYPE:         Class balancing detection\nSTATUS:       PASSED\nDESCRIPTION:  Your inputs were analyzed, and all classes are balanced in your training data.\n              Learn more about imbalanced data: https://aka.ms/AutomatedMLImbalancedData\n\n********************************************************************************************\n\nTYPE:         Missing feature values imputation\nSTATUS:       PASSED\nDESCRIPTION:  No feature missing values were detected in the training data.\n              Learn more about missing value imputation: https://aka.ms/AutomatedMLFeaturization\n\n********************************************************************************************\n\nTYPE:         High cardinality feature detection\nSTATUS:       PASSED\nDESCRIPTION:  Your inputs were analyzed, and no high cardinality features were detected.\n              Learn more about high cardinality feature handling: https://aka.ms/AutomatedMLFeaturization\n\n********************************************************************************************\n\n********************************************************************************************\nITER: The iteration being evaluated.\nPIPELINE: A summary description of the pipeline being evaluated.\nDURATION: Time taken for the current iteration.\nMETRIC: The result of computing score on the fitted pipeline.\nBEST: The best observed score thus far.\n********************************************************************************************\n\n ITER   PIPELINE                                       DURATION            METRIC      BEST\n    0   MaxAbsScaler LightGBM                          0:00:16             0.9022    0.9022\n    1   MaxAbsScaler XGBoostClassifier                 0:00:15             0.8864    0.9022\n    2   MaxAbsScaler ExtremeRandomTrees                0:00:16             0.8980    0.9022\n    3   MaxAbsScaler RandomForest                      0:00:16             0.9039    0.9039\n    8   RobustScaler KNN                               0:00:16             0.8615    0.9039\n    9   MinMaxScaler RandomForest                      0:00:15             0.9305    0.9305\n   10   StandardScalerWrapper LogisticRegression       0:00:15             0.8508    0.9305\n   11   StandardScalerWrapper SVM                      0:00:16             0.7880    0.9305\n   12   StandardScalerWrapper XGBoostClassifier        0:00:15             0.8242    0.9305\n   13   SparseNormalizer KNN                           0:00:15             0.7174    0.9305\n   14   RobustScaler ExtremeRandomTrees                0:00:16             0.8649    0.9305\n   15   SparseNormalizer XGBoostClassifier             0:00:15             0.8598    0.9305\n   21   StandardScalerWrapper RandomForest             0:00:04             0.9324    0.9324\n   22   MaxAbsScaler LightGBM                          0:00:04             0.9050    0.9324\n   23   MaxAbsScaler LogisticRegression                0:00:04             0.8553    0.9324\n   24   MaxAbsScaler RandomForest                      0:00:04             0.9616    0.9616\n   25   StandardScalerWrapper ExtremeRandomTrees       0:00:04             0.9169    0.9616\n   26   StandardScalerWrapper LogisticRegression       0:00:04             0.8790    0.9616\n   27   StandardScalerWrapper ExtremeRandomTrees       0:00:04             0.8468    0.9616\n   28                                                  0:00:00                nan    0.9616\nERROR: {\n    \"additional_properties\": {},\n    \"error\": {\n        \"additional_properties\": {\n            \"debugInfo\": null\n        },\n        \"code\": \"UserError\",\n        \"severity\": null,\n        \"message\": \"Experiment timeout reached, please consider increasing your experiment timeout.\",\n        \"message_format\": \"Experiment timeout reached, please consider increasing your experiment timeout.\",\n        \"message_parameters\": {},\n        \"reference_code\": null,\n        \"details_uri\": null,\n        \"target\": null,\n        \"details\": [],\n        \"inner_error\": {\n            \"additional_properties\": {},\n            \"code\": \"ResourceExhausted\",\n            \"inner_error\": {\n                \"additional_properties\": {},\n                \"code\": \"Timeout\",\n                \"inner_error\": {\n                    \"additional_properties\": {},\n                    \"code\": \"ExperimentTimeoutForIterations\",\n                    \"inner_error\": null\n                }\n            }\n        },\n        \"additional_info\": null\n    },\n    \"correlation\": null,\n    \"environment\": null,\n    \"location\": null,\n    \"time\": {},\n    \"component_name\": null\n}\n   29                                                  0:00:00                nan    0.9616\nERROR: {\n    \"additional_properties\": {},\n    \"error\": {\n        \"additional_properties\": {\n            \"debugInfo\": null\n        },\n        \"code\": \"UserError\",\n        \"severity\": null,\n        \"message\": \"Experiment timeout reached, please consider increasing your experiment timeout.\",\n        \"message_format\": \"Experiment timeout reached, please consider increasing your experiment timeout.\",\n        \"message_parameters\": {},\n        \"reference_code\": null,\n        \"details_uri\": null,\n        \"target\": null,\n        \"details\": [],\n        \"inner_error\": {\n            \"additional_properties\": {},\n            \"code\": \"ResourceExhausted\",\n            \"inner_error\": {\n                \"additional_properties\": {},\n                \"code\": \"Timeout\",\n                \"inner_error\": {\n                    \"additional_properties\": {},\n                    \"code\": \"ExperimentTimeoutForIterations\",\n                    \"inner_error\": null\n                }\n            }\n        },\n        \"additional_info\": null\n    },\n    \"correlation\": null,\n    \"environment\": null,\n    \"location\": null,\n    \"time\": {},\n    \"component_name\": null\n}\n   30                                                  0:00:01                nan    0.9616\nERROR: {\n    \"additional_properties\": {},\n    \"error\": {\n        \"additional_properties\": {\n            \"debugInfo\": null\n        },\n        \"code\": \"UserError\",\n        \"severity\": null,\n        \"message\": \"Experiment timeout reached, please consider increasing your experiment timeout.\",\n        \"message_format\": \"Experiment timeout reached, please consider increasing your experiment timeout.\",\n        \"message_parameters\": {},\n        \"reference_code\": null,\n        \"details_uri\": null,\n        \"target\": null,\n        \"details\": [],\n        \"inner_error\": {\n            \"additional_properties\": {},\n            \"code\": \"ResourceExhausted\",\n            \"inner_error\": {\n                \"additional_properties\": {},\n                \"code\": \"Timeout\",\n                \"inner_error\": {\n                    \"additional_properties\": {},\n                    \"code\": \"ExperimentTimeoutForIterations\",\n                    \"inner_error\": null\n                }\n            }\n        },\n        \"additional_info\": null\n    },\n    \"correlation\": null,\n    \"environment\": null,\n    \"location\": null,\n    \"time\": {},\n    \"component_name\": null\n}\n   31                                                  0:00:00                nan    0.9616\nERROR: {\n    \"additional_properties\": {},\n    \"error\": {\n        \"additional_properties\": {\n            \"debugInfo\": null\n        },\n        \"code\": \"UserError\",\n        \"severity\": null,\n        \"message\": \"Experiment timeout reached, please consider increasing your experiment timeout.\",\n        \"message_format\": \"Experiment timeout reached, please consider increasing your experiment timeout.\",\n        \"message_parameters\": {},\n        \"reference_code\": null,\n        \"details_uri\": null,\n        \"target\": null,\n        \"details\": [],\n        \"inner_error\": {\n            \"additional_properties\": {},\n            \"code\": \"ResourceExhausted\",\n            \"inner_error\": {\n                \"additional_properties\": {},\n                \"code\": \"Timeout\",\n                \"inner_error\": {\n                    \"additional_properties\": {},\n                    \"code\": \"ExperimentTimeoutForIterations\",\n                    \"inner_error\": null\n                }\n            }\n        },\n        \"additional_info\": null\n    },\n    \"correlation\": null,\n    \"environment\": null,\n    \"location\": null,\n    \"time\": {},\n    \"component_name\": null\n}\n   32    VotingEnsemble                                0:00:04             0.9599    0.9616\n   33    StackEnsemble                                 0:00:04             0.9395    0.9616\n"
        },
        {
          "output_type": "execute_result",
          "execution_count": 11,
          "data": {
            "text/plain": "{'runId': 'AutoML_989a1c6f-0c70-4cfe-b11c-66ded6030d47',\n 'target': 'aml-cluster',\n 'status': 'Completed',\n 'startTimeUtc': '2022-04-06T14:17:20.086415Z',\n 'endTimeUtc': '2022-04-06T14:42:55.718102Z',\n 'services': {},\n 'warnings': [{'source': 'JasmineService',\n   'message': 'Experiment timeout reached, hence experiment stopped. Current experiment timeout: 0 hour(s) 15 minute(s)'}],\n 'properties': {'num_iterations': '1000',\n  'training_type': 'TrainFull',\n  'acquisition_function': 'EI',\n  'primary_metric': 'AUC_weighted',\n  'train_split': '0',\n  'acquisition_parameter': '0',\n  'num_cross_validation': None,\n  'target': 'aml-cluster',\n  'AMLSettingsJsonString': '{\"path\":null,\"name\":\"heart-automl-sdk\",\"subscription_id\":\"6eee9ed4-ef02-4ad0-bbbd-194153ad2069\",\"resource_group\":\"aml-resource\",\"workspace_name\":\"aml-workspace\",\"region\":\"westeurope\",\"compute_target\":\"aml-cluster\",\"spark_service\":null,\"azure_service\":\"remote\",\"many_models\":false,\"pipeline_fetch_max_batch_size\":1,\"enable_batch_run\":true,\"enable_run_restructure\":false,\"start_auxiliary_runs_before_parent_complete\":false,\"enable_code_generation\":false,\"iterations\":1000,\"primary_metric\":\"AUC_weighted\",\"task_type\":\"classification\",\"positive_label\":null,\"data_script\":null,\"test_size\":0.0,\"test_include_predictions_only\":false,\"validation_size\":0.0,\"n_cross_validations\":null,\"y_min\":null,\"y_max\":null,\"num_classes\":null,\"featurization\":\"auto\",\"_ignore_package_version_incompatibilities\":false,\"is_timeseries\":false,\"max_cores_per_iteration\":1,\"max_concurrent_iterations\":5,\"iteration_timeout_minutes\":null,\"mem_in_mb\":null,\"enforce_time_on_windows\":false,\"experiment_timeout_minutes\":15,\"experiment_exit_score\":null,\"partition_column_names\":null,\"whitelist_models\":null,\"blacklist_algos\":[\"TensorFlowLinearClassifier\",\"TensorFlowDNN\"],\"supported_models\":[\"GradientBoosting\",\"TabnetClassifier\",\"RandomForest\",\"MultinomialNaiveBayes\",\"KNN\",\"SVM\",\"LogisticRegression\",\"LinearSVM\",\"ExtremeRandomTrees\",\"DecisionTree\",\"TensorFlowDNN\",\"AveragedPerceptronClassifier\",\"SGD\",\"BernoulliNaiveBayes\",\"LightGBM\",\"XGBoostClassifier\",\"TensorFlowLinearClassifier\"],\"private_models\":[],\"auto_blacklist\":true,\"blacklist_samples_reached\":false,\"exclude_nan_labels\":true,\"verbosity\":20,\"_debug_log\":\"azureml_automl.log\",\"show_warnings\":false,\"model_explainability\":true,\"service_url\":null,\"sdk_url\":null,\"sdk_packages\":null,\"enable_onnx_compatible_models\":false,\"enable_split_onnx_featurizer_estimator_models\":false,\"vm_type\":\"STANDARD_DS11_V2\",\"telemetry_verbosity\":20,\"send_telemetry\":true,\"enable_dnn\":false,\"scenario\":\"SDK-1.13.0\",\"environment_label\":null,\"save_mlflow\":false,\"enable_categorical_indicators\":false,\"force_text_dnn\":false,\"enable_feature_sweeping\":true,\"enable_early_stopping\":true,\"early_stopping_n_iters\":10,\"arguments\":null,\"dataset_id\":\"3de7713b-396c-4e73-be54-d15f8e1b3094\",\"hyperdrive_config\":null,\"validation_dataset_id\":\"2cc6fbf8-e42b-491f-8a9f-309692731c61\",\"run_source\":null,\"metrics\":null,\"enable_metric_confidence\":false,\"enable_ensembling\":true,\"enable_stack_ensembling\":true,\"ensemble_iterations\":15,\"enable_tf\":false,\"enable_subsampling\":null,\"subsample_seed\":null,\"enable_nimbusml\":false,\"enable_streaming\":false,\"force_streaming\":false,\"track_child_runs\":true,\"allowed_private_models\":[],\"label_column_name\":\"DEATH_EVENT\",\"weight_column_name\":null,\"cv_split_column_names\":null,\"enable_local_managed\":false,\"_local_managed_run_id\":null,\"cost_mode\":1,\"lag_length\":0,\"metric_operation\":\"maximize\",\"preprocess\":true}',\n  'DataPrepJsonString': '{\\\\\"training_data\\\\\": {\\\\\"datasetId\\\\\": \\\\\"3de7713b-396c-4e73-be54-d15f8e1b3094\\\\\"}, \\\\\"validation_data\\\\\": {\\\\\"datasetId\\\\\": \\\\\"2cc6fbf8-e42b-491f-8a9f-309692731c61\\\\\"}, \\\\\"datasets\\\\\": 0}',\n  'EnableSubsampling': None,\n  'runTemplate': 'AutoML',\n  'azureml.runsource': 'automl',\n  'display_task_type': 'classification',\n  'dependencies_versions': '{\"azureml-widgets\": \"1.39.0\", \"azureml-training-tabular\": \"1.39.0\", \"azureml-train\": \"1.39.0\", \"azureml-train-restclients-hyperdrive\": \"1.39.0\", \"azureml-train-core\": \"1.39.0\", \"azureml-train-automl\": \"1.39.0\", \"azureml-train-automl-runtime\": \"1.39.0\", \"azureml-train-automl-client\": \"1.39.0\", \"azureml-tensorboard\": \"1.39.0\", \"azureml-telemetry\": \"1.39.0\", \"azureml-sdk\": \"1.39.0\", \"azureml-samples\": \"0+unknown\", \"azureml-responsibleai\": \"1.39.0\", \"azureml-pipeline\": \"1.39.0\", \"azureml-pipeline-steps\": \"1.39.0\", \"azureml-pipeline-core\": \"1.39.0\", \"azureml-opendatasets\": \"1.39.0\", \"azureml-mlflow\": \"1.39.0\", \"azureml-interpret\": \"1.39.0\", \"azureml-inference-server-http\": \"0.4.10\", \"azureml-explain-model\": \"1.39.0\", \"azureml-defaults\": \"1.39.0\", \"azureml-dataset-runtime\": \"1.39.0\", \"azureml-dataprep\": \"2.27.1\", \"azureml-dataprep-rslex\": \"2.3.1\", \"azureml-dataprep-native\": \"38.0.0\", \"azureml-datadrift\": \"1.39.0\", \"azureml-core\": \"1.39.0\", \"azureml-contrib-services\": \"1.39.0\", \"azureml-contrib-server\": \"1.39.0\", \"azureml-contrib-reinforcementlearning\": \"1.39.0\", \"azureml-contrib-pipeline-steps\": \"1.39.0\", \"azureml-contrib-notebook\": \"1.39.0\", \"azureml-contrib-fairness\": \"1.39.0\", \"azureml-contrib-dataset\": \"1.39.0\", \"azureml-contrib-automl-pipeline-steps\": \"1.39.0\", \"azureml-cli-common\": \"1.39.0\", \"azureml-automl-runtime\": \"1.39.0\", \"azureml-automl-dnn-nlp\": \"1.39.0\", \"azureml-automl-core\": \"1.39.0\", \"azureml-accel-models\": \"1.39.0\"}',\n  '_aml_system_scenario_identification': 'Remote.Parent',\n  'ClientType': 'SDK',\n  'environment_cpu_name': 'AzureML-AutoML',\n  'environment_cpu_label': 'prod',\n  'environment_gpu_name': 'AzureML-AutoML-GPU',\n  'environment_gpu_label': 'prod',\n  'root_attribution': 'automl',\n  'attribution': 'AutoML',\n  'Orchestrator': 'AutoML',\n  'CancelUri': 'https://westeurope.api.azureml.ms/jasmine/v1.0/subscriptions/6eee9ed4-ef02-4ad0-bbbd-194153ad2069/resourceGroups/aml-resource/providers/Microsoft.MachineLearningServices/workspaces/aml-workspace/experimentids/9a952c4d-f9d7-4374-bd78-b22f7da196c0/cancel/AutoML_989a1c6f-0c70-4cfe-b11c-66ded6030d47',\n  'azureml.git.repository_uri': 'https://github.com/Aduzona/Capstone_Project---Azure-ML_Engineer.git',\n  'mlflow.source.git.repoURL': 'https://github.com/Aduzona/Capstone_Project---Azure-ML_Engineer.git',\n  'azureml.git.branch': 'master',\n  'mlflow.source.git.branch': 'master',\n  'azureml.git.commit': '82db26ff432fc68e44f9b2e70bc460026a63b60f',\n  'mlflow.source.git.commit': '82db26ff432fc68e44f9b2e70bc460026a63b60f',\n  'azureml.git.dirty': 'True',\n  'ClientSdkVersion': '1.39.1',\n  'snapshotId': '00000000-0000-0000-0000-000000000000',\n  'SetupRunId': 'AutoML_989a1c6f-0c70-4cfe-b11c-66ded6030d47_setup',\n  'SetupRunContainerId': 'dcid.AutoML_989a1c6f-0c70-4cfe-b11c-66ded6030d47_setup',\n  'FeaturizationRunJsonPath': 'featurizer_container.json',\n  'FeaturizationRunId': 'AutoML_989a1c6f-0c70-4cfe-b11c-66ded6030d47_featurize',\n  'ProblemInfoJsonString': '{\"dataset_num_categorical\": 0, \"is_sparse\": false, \"subsampling\": false, \"has_extra_col\": true, \"dataset_classes\": 2, \"dataset_features\": 12, \"dataset_samples\": 209, \"single_frequency_class_detected\": false}',\n  'ModelExplainRunId': 'AutoML_989a1c6f-0c70-4cfe-b11c-66ded6030d47_ModelExplain'},\n 'inputDatasets': [{'dataset': {'id': '3de7713b-396c-4e73-be54-d15f8e1b3094'}, 'consumptionDetails': {'type': 'RunInput', 'inputName': 'training_data', 'mechanism': 'Direct'}}, {'dataset': {'id': '2cc6fbf8-e42b-491f-8a9f-309692731c61'}, 'consumptionDetails': {'type': 'RunInput', 'inputName': 'validation_data', 'mechanism': 'Direct'}}],\n 'outputDatasets': [],\n 'logFiles': {},\n 'submittedBy': 'Diego uchendu'}"
          },
          "metadata": {}
        }
      ],
      "execution_count": 11,
      "metadata": {
        "gather": {
          "logged": 1649256189817
        },
        "jupyter": {
          "outputs_hidden": false,
          "source_hidden": false
        },
        "nteract": {
          "transient": {
            "deleting": false
          }
        }
      }
    },
    {
      "cell_type": "markdown",
      "source": [
        "## Best Model\n",
        "\n",
        "TODO: In the cell below, get the best model from the automl experiments and display all the properties of the model.\n",
        "\n"
      ],
      "metadata": {}
    },
    {
      "cell_type": "code",
      "source": [
        "'''\n",
        "for run in automl_run.get_children():\n",
        "    print('Run ID', run.id)\n",
        "    for metric in run.get_metrics():\n",
        "        print('\\t', run.get_metrics(metric))\n",
        "'''"
      ],
      "outputs": [],
      "execution_count": null,
      "metadata": {
        "gather": {
          "logged": 1598431425670
        },
        "jupyter": {
          "outputs_hidden": false,
          "source_hidden": false
        },
        "nteract": {
          "transient": {
            "deleting": false
          }
        }
      }
    },
    {
      "cell_type": "code",
      "source": [
        "# Get the best run, and its metrics and arguments\n",
        "best_run,fitted_model= remote_run.get_output()\n",
        "best_run_metrics = best_run.get_metrics()\n",
        "script_arguments = best_run.get_details() ['runDefinition']['arguments']\n",
        "print('Best Run Id: ', best_run.id)\n",
        "print(' -AUC:', best_run_metrics['AUC_weighted'])\n",
        "print(' -Accuracy:', best_run_metrics['accuracy'])\n",
        "#print(' -Arguments:',script_arguments)"
      ],
      "outputs": [
        {
          "output_type": "stream",
          "name": "stdout",
          "text": "Best Run Id:  AutoML_989a1c6f-0c70-4cfe-b11c-66ded6030d47_24\n -AUC: 0.961560203504805\n -Accuracy: 0.9111111111111111\n"
        }
      ],
      "execution_count": 12,
      "metadata": {
        "gather": {
          "logged": 1649256585662
        },
        "jupyter": {
          "outputs_hidden": false,
          "source_hidden": false
        },
        "nteract": {
          "transient": {
            "deleting": false
          }
        }
      }
    },
    {
      "cell_type": "code",
      "source": [
        "best_run, fitted_model = remote_run.get_output()\n",
        "print(best_run)\n",
        "print('\\nBest Model Definition:')\n",
        "print(fitted_model)\n",
        "print('\\nBest Run Transformations:')\n",
        "for step in fitted_model.named_steps:\n",
        "    print(step)\n",
        "print('\\nBest Run Metrics:')\n",
        "best_run_metrics = best_run.get_metrics()\n",
        "for metric_name in best_run_metrics:\n",
        "    metric = best_run_metrics[metric_name]\n",
        "    print(metric_name, metric)"
      ],
      "outputs": [
        {
          "output_type": "stream",
          "name": "stdout",
          "text": "Run(Experiment: heart-automl-sdk,\nId: AutoML_989a1c6f-0c70-4cfe-b11c-66ded6030d47_24,\nType: azureml.scriptrun,\nStatus: Completed)\n\nBest Model Definition:\nPipeline(memory=None,\n         steps=[('datatransformer',\n                 DataTransformer(enable_dnn=False, enable_feature_sweeping=True, feature_sweeping_config={}, feature_sweeping_timeout=86400, featurization_config=None, force_text_dnn=False, is_cross_validation=False, is_onnx_compatible=False, observer=None, task='classification', working_dir='/mnt/batch/tasks/shared/LS_root/moun...\n                                        class_weight='balanced',\n                                        criterion='gini', max_depth=None,\n                                        max_features='log2',\n                                        max_leaf_nodes=None, max_samples=None,\n                                        min_impurity_decrease=0.0,\n                                        min_impurity_split=None,\n                                        min_samples_leaf=0.06157894736842105,\n                                        min_samples_split=0.10368421052631578,\n                                        min_weight_fraction_leaf=0.0,\n                                        n_estimators=25, n_jobs=1,\n                                        oob_score=True, random_state=None,\n                                        verbose=0, warm_start=False))],\n         verbose=False)\n\nBest Run Transformations:\ndatatransformer\nMaxAbsScaler\nRandomForestClassifier\n\nBest Run Metrics:\nAUC_macro 0.961560203504805\nrecall_score_micro 0.9111111111111111\nf1_score_micro 0.9111111111111111\naverage_precision_score_macro 0.9598418204265659\naverage_precision_score_micro 0.9707262054566488\nweighted_accuracy 0.9210872424375274\naccuracy 0.9111111111111111\nmatthews_correlation 0.7964951950254381\nf1_score_macro 0.8982475975127191\nlog_loss 0.4145413228876237\nbalanced_accuracy 0.8982475975127191\nprecision_score_micro 0.9111111111111111\nnorm_macro_recall 0.7964951950254382\nrecall_score_macro 0.8982475975127191\nf1_score_weighted 0.9111111111111111\naverage_precision_score_weighted 0.9674035137243256\nAUC_weighted 0.961560203504805\nrecall_score_weighted 0.9111111111111111\nAUC_micro 0.9688888888888889\nprecision_score_weighted 0.9111111111111111\nprecision_score_macro 0.8982475975127191\nconfusion_matrix aml://artifactId/ExperimentRun/dcid.AutoML_989a1c6f-0c70-4cfe-b11c-66ded6030d47_24/confusion_matrix\naccuracy_table aml://artifactId/ExperimentRun/dcid.AutoML_989a1c6f-0c70-4cfe-b11c-66ded6030d47_24/accuracy_table\n"
        }
      ],
      "execution_count": 13,
      "metadata": {
        "gather": {
          "logged": 1649256663288
        },
        "jupyter": {
          "outputs_hidden": false,
          "source_hidden": false
        },
        "nteract": {
          "transient": {
            "deleting": false
          }
        }
      }
    },
    {
      "cell_type": "code",
      "source": [
        "'''\n",
        "import joblib\n",
        "import os\n",
        "from azureml.core import Model\n",
        "#model = ws.models['AutoML_heart_model']\n",
        "#print(model.name, 'version', model.version)\n",
        "\n",
        "# Save the trained model\n",
        "model_file = 'heart_model.pkl'\n",
        "joblib.dump(value=Model, filename=model_file)\n",
        "remote_run.upload_file(name = 'outputs/' + model_file, path_or_stream = './' + model_file)\n",
        "'''\n"
      ],
      "outputs": [
        {
          "output_type": "execute_result",
          "execution_count": 13,
          "data": {
            "text/plain": "<azureml._restclient.models.batch_artifact_content_information_dto.BatchArtifactContentInformationDto at 0x7f769eee6130>"
          },
          "metadata": {}
        }
      ],
      "execution_count": 13,
      "metadata": {
        "gather": {
          "logged": 1648990494215
        },
        "jupyter": {
          "outputs_hidden": false,
          "source_hidden": false
        },
        "nteract": {
          "transient": {
            "deleting": false
          }
        }
      }
    },
    {
      "cell_type": "code",
      "source": [
        "'''\n",
        "import joblib\n",
        "import os\n",
        "\n",
        "from azureml.core import Model\n",
        "# Save the trained model in the outputs folder\n",
        "os.makedirs('outputs', exist_ok=True)\n",
        "joblib.dump(value=Model, filename='outputs/AutoML_heart_model.pkl')\n",
        "'''"
      ],
      "outputs": [
        {
          "output_type": "execute_result",
          "execution_count": 28,
          "data": {
            "text/plain": "['outputs/AutoML_heart_model.pkl']"
          },
          "metadata": {}
        }
      ],
      "execution_count": 28,
      "metadata": {
        "gather": {
          "logged": 1648416613811
        },
        "jupyter": {
          "outputs_hidden": false,
          "source_hidden": false
        },
        "nteract": {
          "transient": {
            "deleting": false
          }
        }
      }
    },
    {
      "cell_type": "code",
      "source": [
        "#best_run.properties['model_name']"
      ],
      "outputs": [
        {
          "output_type": "execute_result",
          "execution_count": 18,
          "data": {
            "text/plain": "'AutoML6c8cea2b343'"
          },
          "metadata": {}
        }
      ],
      "execution_count": 18,
      "metadata": {
        "gather": {
          "logged": 1648413735328
        },
        "jupyter": {
          "outputs_hidden": false,
          "source_hidden": false
        },
        "nteract": {
          "transient": {
            "deleting": false
          }
        }
      }
    },
    {
      "cell_type": "code",
      "source": [
        "#TODO: Save the best model\n",
        "\n",
        "from azureml.core import Model\n",
        "\n",
        "\n",
        "model=remote_run.register_model(model_name='AutoML_heart_model',\n",
        "                        tags={'Training context':'AutoML'}\n",
        "                        )\n",
        "\n",
        "\n",
        "print('Model registered')\n",
        "print(\"Model ID\", remote_run.model_id)"
      ],
      "outputs": [
        {
          "output_type": "stream",
          "name": "stdout",
          "text": "Model registered\nModel ID AutoML_heart_model\n"
        }
      ],
      "execution_count": 14,
      "metadata": {
        "gather": {
          "logged": 1649256695062
        },
        "jupyter": {
          "outputs_hidden": false,
          "source_hidden": false
        },
        "nteract": {
          "transient": {
            "deleting": false
          }
        }
      }
    },
    {
      "cell_type": "code",
      "source": [
        "from azureml.core import Model\n",
        "\n",
        "# List registered models\n",
        "for model in Model.list(ws):\n",
        "    print(model.name, 'version:', model.version)\n",
        "    for tag_name in model.tags:\n",
        "        tag = model.tags[tag_name]\n",
        "        print ('\\t',tag_name, ':', tag)\n",
        "    for prop_name in model.properties:\n",
        "        prop = model.properties[prop_name]\n",
        "        print ('\\t',prop_name, ':', prop)\n",
        "    print('\\n')"
      ],
      "outputs": [
        {
          "output_type": "stream",
          "name": "stdout",
          "text": "HyperDrive_heart_model version: 1\n\t Training context : Hyperdrive\n\t AUC : 0.9193548387096775\n\t Accuracy : 0.8555555555555555\n\n\nAutoML_heart_model version: 1\n\t Training context : AutoML\n\n\n"
        }
      ],
      "execution_count": 15,
      "metadata": {
        "gather": {
          "logged": 1649258478481
        },
        "jupyter": {
          "outputs_hidden": false,
          "source_hidden": false
        },
        "nteract": {
          "transient": {
            "deleting": false
          }
        }
      }
    },
    {
      "cell_type": "markdown",
      "source": [
        "## Model Deployment\n",
        "\n",
        "Remember you have to deploy only one of the two models you trained but you still need to register both the models. Perform the steps in the rest of this notebook only if you wish to deploy this model.\n",
        "\n",
        "TODO: In the cell below, register the model, create an inference config and deploy the model as a web service."
      ],
      "metadata": {}
    },
    {
      "cell_type": "code",
      "source": [
        "#model = ws.models['AutoML_heart_model']\n",
        "#print(model.name, 'version', model.version)"
      ],
      "outputs": [
        {
          "output_type": "stream",
          "name": "stdout",
          "text": "AutoML_heart_model version 2\n"
        }
      ],
      "execution_count": 4,
      "metadata": {
        "gather": {
          "logged": 1649101022439
        },
        "jupyter": {
          "outputs_hidden": false,
          "source_hidden": false
        },
        "nteract": {
          "transient": {
            "deleting": false
          }
        }
      }
    },
    {
      "cell_type": "code",
      "source": [
        "#print(model.name)"
      ],
      "outputs": [
        {
          "output_type": "stream",
          "name": "stdout",
          "text": "AutoML_heart_model\n"
        }
      ],
      "execution_count": 33,
      "metadata": {
        "gather": {
          "logged": 1648495815179
        },
        "jupyter": {
          "outputs_hidden": false,
          "source_hidden": false
        },
        "nteract": {
          "transient": {
            "deleting": false
          }
        }
      }
    },
    {
      "cell_type": "markdown",
      "source": [
        "Create a folder for configuration files"
      ],
      "metadata": {
        "nteract": {
          "transient": {
            "deleting": false
          }
        }
      }
    },
    {
      "cell_type": "code",
      "source": [
        "'''\n",
        "import os\n",
        "\n",
        "folder_name = 'heart_service'\n",
        "\n",
        "# Create a folder for the web service files\n",
        "experiment_folder = './' + folder_name\n",
        "os.makedirs(folder_name, exist_ok=True)\n",
        "\n",
        "print(folder_name, 'folder created.')\n",
        "'''"
      ],
      "outputs": [
        {
          "output_type": "stream",
          "name": "stdout",
          "text": "heart_service folder created.\n"
        }
      ],
      "execution_count": 16,
      "metadata": {
        "gather": {
          "logged": 1648990572756
        },
        "jupyter": {
          "outputs_hidden": false,
          "source_hidden": false
        },
        "nteract": {
          "transient": {
            "deleting": false
          }
        }
      }
    },
    {
      "cell_type": "code",
      "source": [
        "\n",
        "'''\n",
        "\n",
        "%%writefile $folder_name/score_heart.py\n",
        "import json\n",
        "import joblib\n",
        "import numpy as np\n",
        "#import os\n",
        "from azureml.core.model import Model\n",
        "\n",
        "# Called when the service is loaded\n",
        "def init():\n",
        "    global model\n",
        "    # Get the path to the deployed model file and load it\n",
        "    #model_path = os.path.join(os.getenv('AZUREML_MODEL_DIR'), 'heart_model.pkl')\n",
        "    model_path=Model.get_model_path('AutoML_heart_model')\n",
        "    model = joblib.load(model_path)\n",
        "\n",
        "\n",
        "def run(raw_data):\n",
        "    # Get the input data as a numpy array\n",
        "    data = np.array(json.loads(raw_data)['data'])\n",
        "    # Get a prediction from the model\n",
        "    predictions = model.predict(data)\n",
        "    # Get the corresponding classname for each prediction (0 or 1)\n",
        "    classnames = [1, 0]\n",
        "    predicted_classes = []\n",
        "    for prediction in predictions:\n",
        "        predicted_classes.append(classnames[prediction])\n",
        "    # Return the predictions as JSON\n",
        "    return json.dumps(predicted_classes)\n",
        "'''"
      ],
      "outputs": [
        {
          "output_type": "stream",
          "name": "stdout",
          "text": "Overwriting heart_service/score_heart.py\n"
        }
      ],
      "execution_count": 56,
      "metadata": {
        "jupyter": {
          "outputs_hidden": false,
          "source_hidden": false
        },
        "nteract": {
          "transient": {
            "deleting": false
          }
        }
      }
    },
    {
      "cell_type": "code",
      "source": [
        "model"
      ],
      "outputs": [
        {
          "output_type": "execute_result",
          "execution_count": 16,
          "data": {
            "text/plain": "Model(workspace=Workspace.create(name='aml-workspace', subscription_id='6eee9ed4-ef02-4ad0-bbbd-194153ad2069', resource_group='aml-resource'), name=AutoML_heart_model, id=AutoML_heart_model:1, version=1, tags={'Training context': 'AutoML'}, properties={})"
          },
          "metadata": {}
        }
      ],
      "execution_count": 16,
      "metadata": {
        "gather": {
          "logged": 1649258507478
        },
        "jupyter": {
          "outputs_hidden": false,
          "source_hidden": false
        },
        "nteract": {
          "transient": {
            "deleting": false
          }
        }
      }
    },
    {
      "cell_type": "code",
      "source": [
        "\n",
        "#best_run, fitted_model = remote_run.get_output()\n",
        "\n",
        "script_file_name = 'inference/score.py'\n",
        "#download file from our latest run from outputs/scoring_file_v_1_0_0.py to inference/score.py\n",
        "best_run.download_file(\"outputs/scoring_file_v_1_0_0.py\",script_file_name)"
      ],
      "outputs": [],
      "execution_count": 17,
      "metadata": {
        "gather": {
          "logged": 1649258514250
        },
        "jupyter": {
          "outputs_hidden": false,
          "source_hidden": false
        },
        "nteract": {
          "transient": {
            "deleting": false
          }
        }
      }
    },
    {
      "cell_type": "code",
      "source": [
        "## Use the below to prevent the 'No usable environment found' error\n",
        "## download a yml file\n",
        "from azureml.core.environment import Environment\n",
        "from azureml.automl.core.shared import constants\n",
        "best_run.download_file(constants.CONDA_ENV_FILE_PATH, 'myenv.yml')\n",
        "myenv = Environment.from_conda_specification(name=\"myenv\", file_path=\"myenv.yml\")"
      ],
      "outputs": [],
      "execution_count": 18,
      "metadata": {
        "gather": {
          "logged": 1649258848861
        },
        "jupyter": {
          "outputs_hidden": false,
          "source_hidden": false
        },
        "nteract": {
          "transient": {
            "deleting": false
          }
        }
      }
    },
    {
      "cell_type": "code",
      "source": [
        "from azureml.core.webservice import AciWebservice,Webservice\n",
        "from azureml.core.model import InferenceConfig\n",
        "from azureml.core.model import Model\n",
        "from azureml.core.environment import Environment\n",
        "\n",
        "\n",
        "'''\n",
        "# Configure the scoring environment\n",
        "inference_config = InferenceConfig(environment=best_run.get_environment(),  #runtime= \"python\",\n",
        "                                   source_directory = folder_name,\n",
        "                                   entry_script=\"score_heart.py\")\n",
        "                                   #conda_file=\"heart_env.yml\")\n",
        "'''\n",
        "#myenv\n",
        "\n",
        "inference_config = InferenceConfig(entry_script=script_file_name ,environment=myenv)\n",
        "\n",
        "# What kind of configuration will our endpoint be hosted on?\n",
        "deployment_config = AciWebservice.deploy_configuration(cpu_cores = 2, memory_gb = 4,description=\"Heart failure classification\")\n",
        "\n",
        "service_name = \"heart-service\"\n",
        "\n",
        "service = Model.deploy(ws, service_name, [model], inference_config, deployment_config,overwrite=True)\n",
        "\n",
        "service.wait_for_deployment(True)\n",
        "print(service.state)"
      ],
      "outputs": [
        {
          "output_type": "stream",
          "name": "stdout",
          "text": "Tips: You can try get_logs(): https://aka.ms/debugimage#dockerlog or local deployment: https://aka.ms/debugimage#debug-locally to debug if deployment takes longer than 10 minutes.\nRunning\n2022-04-06 15:27:43+00:00 Creating Container Registry if not exists.\n2022-04-06 15:27:43+00:00 Registering the environment.\n2022-04-06 15:27:44+00:00 Building image..\n2022-04-06 15:38:13+00:00 Generating deployment configuration.\n2022-04-06 15:38:15+00:00 Submitting deployment to compute..\n2022-04-06 15:38:20+00:00 Checking the status of deployment heart-service..\n2022-04-06 15:42:53+00:00 Checking the status of inference endpoint heart-service.\nSucceeded\nACI service creation operation finished, operation \"Succeeded\"\nHealthy\n"
        }
      ],
      "execution_count": 19,
      "metadata": {
        "gather": {
          "logged": 1649259948514
        },
        "jupyter": {
          "outputs_hidden": false,
          "source_hidden": false
        },
        "nteract": {
          "transient": {
            "deleting": false
          }
        }
      }
    },
    {
      "cell_type": "code",
      "source": [
        "endpoint = service.scoring_uri\n",
        "#print(endpoint)"
      ],
      "outputs": [],
      "execution_count": 20,
      "metadata": {
        "gather": {
          "logged": 1649259965615
        },
        "jupyter": {
          "outputs_hidden": false,
          "source_hidden": false
        },
        "nteract": {
          "transient": {
            "deleting": false
          }
        }
      }
    },
    {
      "cell_type": "code",
      "source": [
        "endpoint"
      ],
      "outputs": [
        {
          "output_type": "execute_result",
          "execution_count": 21,
          "data": {
            "text/plain": "'http://f073a106-cae4-4bd2-9994-ed2e8b720d9a.westeurope.azurecontainer.io/score'"
          },
          "metadata": {}
        }
      ],
      "execution_count": 21,
      "metadata": {
        "jupyter": {
          "source_hidden": false,
          "outputs_hidden": false
        },
        "nteract": {
          "transient": {
            "deleting": false
          }
        },
        "gather": {
          "logged": 1649260053232
        }
      }
    },
    {
      "cell_type": "markdown",
      "source": [
        "TODO: In the cell below, send a request to the web service you deployed to test it."
      ],
      "metadata": {
        "collapsed": true,
        "gather": {
          "logged": 1598431657736
        },
        "jupyter": {
          "outputs_hidden": false,
          "source_hidden": false
        },
        "nteract": {
          "transient": {
            "deleting": false
          }
        }
      }
    },
    {
      "cell_type": "code",
      "source": [
        "import requests\n",
        "import urllib.request\n",
        "import json\n",
        "\n",
        "\n",
        "x_new=train_ds.to_pandas_dataframe().iloc[0:3,0:12]\n",
        "# Convert the array to a serializable list in a JSON document\n",
        "#input_json = json.dumps({\"data\": x_new})\n",
        "input_json=str.encode(json.dumps({'data': x_new.to_dict(orient='records')}))\n",
        "\n",
        "# Set the content type\n",
        "headers = { 'Content-Type':'application/json' }\n",
        "\n",
        "req = urllib.request.Request(endpoint, input_json, headers = headers)\n",
        "\n",
        "try:\n",
        "    response = urllib.request.urlopen(req)\n",
        "\n",
        "    result = response.read()\n",
        "    print(result)\n",
        "except urllib.error.HTTPError as error:\n",
        "    print(\"The request failed with status code: \" + str(error.code))\n",
        "\n",
        "    # Print the headers - they include the requert ID and the timestamp, which are useful for debugging the failure\n",
        "    print(error.info())\n",
        "    print(error.read().decode(\"utf8\", 'ignore'))\n"
      ],
      "outputs": [
        {
          "output_type": "stream",
          "name": "stdout",
          "text": "b'\"{\\\\\"result\\\\\": [1, 1, 1]}\"'\n"
        }
      ],
      "execution_count": 24,
      "metadata": {
        "gather": {
          "logged": 1649114982193
        },
        "jupyter": {
          "outputs_hidden": false,
          "source_hidden": false
        },
        "nteract": {
          "transient": {
            "deleting": false
          }
        }
      }
    },
    {
      "cell_type": "markdown",
      "source": [
        "TODO: In the cell below, print the logs of the web service and delete the service"
      ],
      "metadata": {
        "collapsed": true,
        "gather": {
          "logged": 1598432765711
        },
        "jupyter": {
          "outputs_hidden": false,
          "source_hidden": false
        },
        "nteract": {
          "transient": {
            "deleting": false
          }
        }
      }
    },
    {
      "cell_type": "markdown",
      "source": [
        "**Enable logging in the deployed web app**"
      ],
      "metadata": {
        "nteract": {
          "transient": {
            "deleting": false
          }
        }
      }
    },
    {
      "cell_type": "code",
      "source": [
        "\n",
        "from azureml.core import Workspace\n",
        "from azureml.core.webservice import Webservice\n",
        "\n",
        "# Requires the config to be downloaded first to the current working directory\n",
        "ws = Workspace.from_config()\n",
        "\n",
        "# Set with the deployment name\n",
        "name = \"heart-service\"\n",
        "\n",
        "# load existing web service\n",
        "service = Webservice(name=name, workspace=ws)\n",
        "\n",
        "# enable application insight\n",
        "service.update(enable_app_insights=True)\n",
        "\n",
        "logs = service.get_logs()\n",
        "\n",
        "for line in logs.split('\\n'):\n",
        "    print(line)"
      ],
      "outputs": [
        {
          "output_type": "stream",
          "name": "stdout",
          "text": "2022-04-06T15:42:31,457682000+00:00 - gunicorn/run \nDynamic Python package installation is disabled.\nStarting HTTP server\n2022-04-06T15:42:31,461139000+00:00 - rsyslog/run \n2022-04-06T15:42:31,471148400+00:00 - iot-server/run \n2022-04-06T15:42:31,474554400+00:00 - nginx/run \nrsyslogd: /azureml-envs/azureml_d3275cfdcb5d79e5bdf8212519ea1594/lib/libuuid.so.1: no version information available (required by rsyslogd)\nEdgeHubConnectionString and IOTEDGE_IOTHUBHOSTNAME are not set. Exiting...\n2022-04-06T15:42:31,716828200+00:00 - iot-server/finish 1 0\n2022-04-06T15:42:31,718271100+00:00 - Exit code 1 is normal. Not restarting iot-server.\nStarting gunicorn 20.1.0\nListening at: http://127.0.0.1:31311 (81)\nUsing worker: sync\nworker timeout is set to 300\nBooting worker with pid: 109\nSPARK_HOME not set. Skipping PySpark Initialization.\nInitializing logger\n2022-04-06 15:42:33,089 | root | INFO | Starting up app insights client\nlogging socket was found. logging is available.\nlogging socket was found. logging is available.\n2022-04-06 15:42:33,090 | root | INFO | Starting up request id generator\n2022-04-06 15:42:33,090 | root | INFO | Starting up app insight hooks\n2022-04-06 15:42:33,090 | root | INFO | Invoking user's init function\n2022-04-06 15:42:37,133 | azureml.core | WARNING | Failure while loading azureml_run_type_providers. Failed to load entrypoint hyperdrive = azureml.train.hyperdrive:HyperDriveRun._from_run_dto with exception The 'PySocks!=1.5.7,>=1.5.6; extra == \"socks\"' distribution was not found and is required by requests.\nFailure while loading azureml_run_type_providers. Failed to load entrypoint hyperdrive = azureml.train.hyperdrive:HyperDriveRun._from_run_dto with exception The 'PySocks!=1.5.7,>=1.5.6; extra == \"socks\"' distribution was not found and is required by requests.\n2022-04-06 15:42:37,263 | azureml.core | WARNING | Failure while loading azureml_run_type_providers. Failed to load entrypoint automl = azureml.train.automl.run:AutoMLRun._from_run_dto with exception The 'PySocks!=1.5.7,>=1.5.6; extra == \"socks\"' distribution was not found and is required by requests.\nFailure while loading azureml_run_type_providers. Failed to load entrypoint automl = azureml.train.automl.run:AutoMLRun._from_run_dto with exception The 'PySocks!=1.5.7,>=1.5.6; extra == \"socks\"' distribution was not found and is required by requests.\n2022-04-06 15:42:37,334 | azureml.core | WARNING | Failure while loading azureml_run_type_providers. Failed to load entrypoint azureml.scriptrun = azureml.core.script_run:ScriptRun._from_run_dto with exception The 'PySocks!=1.5.7,>=1.5.6; extra == \"socks\"' distribution was not found and is required by requests.\nFailure while loading azureml_run_type_providers. Failed to load entrypoint azureml.scriptrun = azureml.core.script_run:ScriptRun._from_run_dto with exception The 'PySocks!=1.5.7,>=1.5.6; extra == \"socks\"' distribution was not found and is required by requests.\n2022-04-06 15:42:37,758 | root | INFO | Users's init has completed successfully\n2022-04-06 15:42:37,764 | root | INFO | Skipping middleware: dbg_model_info as it's not enabled.\n2022-04-06 15:42:37,764 | root | INFO | Skipping middleware: dbg_resource_usage as it's not enabled.\nGenerating swagger file: /tmp/tmpdy55_2kz\n2022-04-06 15:42:37,767 | root | INFO | Scoring timeout is found from os.environ: 60000 ms\n2022-04-06 15:45:44,591 | root | INFO | 200\n127.0.0.1 - - [06/Apr/2022:15:45:44 +0000] \"GET /swagger.json HTTP/1.0\" 200 3145 \"-\" \"Go-http-client/1.1\"\n2022-04-06 15:45:47,570 | root | INFO | 200\n127.0.0.1 - - [06/Apr/2022:15:45:47 +0000] \"GET /swagger.json HTTP/1.0\" 200 3145 \"-\" \"Go-http-client/1.1\"\n2022-04-06 15:49:05,953 | root | INFO | Validation Request Content-Type\n2022-04-06 15:49:05,954 | root | INFO | Scoring Timer is set to 60.0 seconds\n2022-04-06 15:49:06,052 | root | INFO | 200\n127.0.0.1 - - [06/Apr/2022:15:49:06 +0000] \"POST /score HTTP/1.0\" 200 19 \"-\" \"PostmanRuntime/7.29.0\"\n2022-04-06 16:04:06,590 | root | INFO | Validation Request Content-Type\n2022-04-06 16:04:06,591 | root | INFO | Scoring Timer is set to 60.0 seconds\n2022-04-06 16:04:06,677 | root | INFO | 200\n127.0.0.1 - - [06/Apr/2022:16:04:06 +0000] \"POST /score HTTP/1.0\" 200 19 \"-\" \"PostmanRuntime/7.29.0\"\n2022-04-06 16:04:17,574 | root | INFO | Validation Request Content-Type\n2022-04-06 16:04:17,574 | root | INFO | Scoring Timer is set to 60.0 seconds\n2022-04-06 16:04:17,652 | root | INFO | 200\n127.0.0.1 - - [06/Apr/2022:16:04:17 +0000] \"POST /score HTTP/1.0\" 200 19 \"-\" \"PostmanRuntime/7.29.0\"\n2022-04-06 16:04:24,503 | root | INFO | Validation Request Content-Type\n2022-04-06 16:04:24,503 | root | INFO | Scoring Timer is set to 60.0 seconds\n2022-04-06 16:04:24,583 | root | INFO | 200\n127.0.0.1 - - [06/Apr/2022:16:04:24 +0000] \"POST /score HTTP/1.0\" 200 19 \"-\" \"PostmanRuntime/7.29.0\"\n2022-04-06 16:04:31,882 | root | INFO | Validation Request Content-Type\n2022-04-06 16:04:31,883 | root | INFO | Scoring Timer is set to 60.0 seconds\n2022-04-06 16:04:31,961 | root | INFO | 200\n127.0.0.1 - - [06/Apr/2022:16:04:31 +0000] \"POST /score HTTP/1.0\" 200 19 \"-\" \"PostmanRuntime/7.29.0\"\n2022-04-06 16:04:37,738 | root | INFO | Validation Request Content-Type\n2022-04-06 16:04:37,739 | root | INFO | Scoring Timer is set to 60.0 seconds\n2022-04-06 16:04:37,822 | root | INFO | 200\n127.0.0.1 - - [06/Apr/2022:16:04:37 +0000] \"POST /score HTTP/1.0\" 200 19 \"-\" \"PostmanRuntime/7.29.0\"\n2022-04-06 16:06:10,034 | root | INFO | Validation Request Content-Type\n2022-04-06 16:06:10,034 | root | INFO | Scoring Timer is set to 60.0 seconds\n2022-04-06 16:06:10,110 | root | INFO | 200\n127.0.0.1 - - [06/Apr/2022:16:06:10 +0000] \"POST /score HTTP/1.0\" 200 19 \"-\" \"PostmanRuntime/7.29.0\"\n2022-04-06 16:06:16,146 | root | INFO | Validation Request Content-Type\n2022-04-06 16:06:16,147 | root | INFO | Scoring Timer is set to 60.0 seconds\n2022-04-06 16:06:16,221 | root | INFO | 200\n127.0.0.1 - - [06/Apr/2022:16:06:16 +0000] \"POST /score HTTP/1.0\" 200 19 \"-\" \"PostmanRuntime/7.29.0\"\n2022-04-06 16:06:22,813 | root | INFO | Validation Request Content-Type\n2022-04-06 16:06:22,814 | root | INFO | Scoring Timer is set to 60.0 seconds\n2022-04-06 16:06:22,892 | root | INFO | 200\n127.0.0.1 - - [06/Apr/2022:16:06:22 +0000] \"POST /score HTTP/1.0\" 200 19 \"-\" \"PostmanRuntime/7.29.0\"\n2022-04-06 16:08:47,304 | root | INFO | Validation Request Content-Type\n2022-04-06 16:08:47,305 | root | INFO | Scoring Timer is set to 60.0 seconds\n2022-04-06 16:08:47,384 | root | INFO | 200\n127.0.0.1 - - [06/Apr/2022:16:08:47 +0000] \"POST /score HTTP/1.0\" 200 19 \"-\" \"PostmanRuntime/7.29.0\"\n2022-04-06 16:09:00,288 | root | INFO | Validation Request Content-Type\n2022-04-06 16:09:00,288 | root | INFO | Scoring Timer is set to 60.0 seconds\n2022-04-06 16:09:00,371 | root | INFO | 200\n127.0.0.1 - - [06/Apr/2022:16:09:00 +0000] \"POST /score HTTP/1.0\" 200 19 \"-\" \"PostmanRuntime/7.29.0\"\n2022-04-06 16:11:35,424 | root | INFO | Validation Request Content-Type\n2022-04-06 16:11:35,425 | root | INFO | Scoring Timer is set to 60.0 seconds\n2022-04-06 16:11:35,522 | root | INFO | 200\n127.0.0.1 - - [06/Apr/2022:16:11:35 +0000] \"POST /score HTTP/1.0\" 200 19 \"-\" \"PostmanRuntime/7.29.0\"\n2022-04-06 16:12:28,319 | root | INFO | Validation Request Content-Type\n2022-04-06 16:12:28,319 | root | INFO | Scoring Timer is set to 60.0 seconds\n2022-04-06 16:12:28,396 | root | INFO | 200\n127.0.0.1 - - [06/Apr/2022:16:12:28 +0000] \"POST /score HTTP/1.0\" 200 19 \"-\" \"PostmanRuntime/7.29.0\"\n2022-04-06 16:13:28,156 | root | INFO | Validation Request Content-Type\n2022-04-06 16:13:28,157 | root | INFO | Scoring Timer is set to 60.0 seconds\n2022-04-06 16:13:28,253 | root | INFO | 200\n127.0.0.1 - - [06/Apr/2022:16:13:28 +0000] \"POST /score HTTP/1.0\" 200 19 \"-\" \"PostmanRuntime/7.29.0\"\n2022-04-06 16:13:49,631 | root | INFO | Validation Request Content-Type\n2022-04-06 16:13:49,632 | root | INFO | Scoring Timer is set to 60.0 seconds\n2022-04-06 16:13:49,715 | root | INFO | 200\n127.0.0.1 - - [06/Apr/2022:16:13:49 +0000] \"POST /score HTTP/1.0\" 200 19 \"-\" \"PostmanRuntime/7.29.0\"\n2022-04-06 16:13:56,373 | root | INFO | Validation Request Content-Type\n2022-04-06 16:13:56,373 | root | INFO | Scoring Timer is set to 60.0 seconds\n2022-04-06 16:13:56,454 | root | INFO | 200\n127.0.0.1 - - [06/Apr/2022:16:13:56 +0000] \"POST /score HTTP/1.0\" 200 19 \"-\" \"PostmanRuntime/7.29.0\"\n2022-04-06 16:16:58,177 | root | INFO | Validation Request Content-Type\n2022-04-06 16:16:58,177 | root | INFO | Scoring Timer is set to 60.0 seconds\n2022-04-06 16:16:58,246 | root | INFO | 200\n127.0.0.1 - - [06/Apr/2022:16:16:58 +0000] \"POST /score HTTP/1.0\" 200 19 \"-\" \"PostmanRuntime/7.29.0\"\n2022-04-06 16:17:12,392 | root | INFO | Validation Request Content-Type\n2022-04-06 16:17:12,393 | root | INFO | Scoring Timer is set to 60.0 seconds\n2022-04-06 16:17:12,489 | root | INFO | 200\n127.0.0.1 - - [06/Apr/2022:16:17:12 +0000] \"POST /score HTTP/1.0\" 200 19 \"-\" \"PostmanRuntime/7.29.0\"\n2022-04-06 16:17:20,690 | root | INFO | Validation Request Content-Type\n2022-04-06 16:17:20,690 | root | INFO | Scoring Timer is set to 60.0 seconds\n2022-04-06 16:17:20,770 | root | INFO | 200\n127.0.0.1 - - [06/Apr/2022:16:17:20 +0000] \"POST /score HTTP/1.0\" 200 19 \"-\" \"PostmanRuntime/7.29.0\"\n2022-04-06 16:17:32,183 | root | INFO | Validation Request Content-Type\n2022-04-06 16:17:32,185 | root | INFO | Scoring Timer is set to 60.0 seconds\n2022-04-06 16:17:32,265 | root | INFO | 200\n127.0.0.1 - - [06/Apr/2022:16:17:32 +0000] \"POST /score HTTP/1.0\" 200 19 \"-\" \"PostmanRuntime/7.29.0\"\n2022-04-06 16:34:47,950 | root | INFO | 200\n127.0.0.1 - - [06/Apr/2022:16:34:47 +0000] \"GET /swagger.json HTTP/1.0\" 200 3145 \"-\" \"Go-http-client/1.1\"\n2022-04-06 16:34:53,695 | root | INFO | 200\n127.0.0.1 - - [06/Apr/2022:16:34:53 +0000] \"GET /swagger.json HTTP/1.0\" 200 3145 \"-\" \"Go-http-client/1.1\"\n\n"
        }
      ],
      "execution_count": 22,
      "metadata": {
        "gather": {
          "logged": 1649262894959
        },
        "jupyter": {
          "outputs_hidden": false,
          "source_hidden": false
        },
        "nteract": {
          "transient": {
            "deleting": false
          }
        }
      }
    },
    {
      "cell_type": "markdown",
      "source": [
        "delete the service"
      ],
      "metadata": {
        "nteract": {
          "transient": {
            "deleting": false
          }
        }
      }
    },
    {
      "cell_type": "code",
      "source": [
        "service.delete()\n",
        "print ('Service deleted.')"
      ],
      "outputs": [],
      "execution_count": null,
      "metadata": {
        "jupyter": {
          "outputs_hidden": false,
          "source_hidden": false
        },
        "nteract": {
          "transient": {
            "deleting": false
          }
        }
      }
    },
    {
      "cell_type": "markdown",
      "source": [
        "**Submission Checklist**\n",
        "- I have registered the model.\n",
        "- I have deployed the model with the best accuracy as a webservice.\n",
        "- I have tested the webservice by sending a request to the model endpoint.\n",
        "- I have deleted the webservice and shutdown all the computes that I have used.\n",
        "- I have taken a screenshot showing the model endpoint as active.\n",
        "- The project includes a file containing the environment details.\n"
      ],
      "metadata": {}
    },
    {
      "cell_type": "markdown",
      "source": [],
      "metadata": {}
    }
  ],
  "metadata": {
    "interpreter": {
      "hash": "60062bfbbdb55d7c70b884c78dba17d93f7bddb21846b67229a99cf865725014"
    },
    "kernel_info": {
      "name": "python38-azureml"
    },
    "kernelspec": {
      "name": "python38-azureml",
      "language": "python",
      "display_name": "Python 3.8 - AzureML"
    },
    "language_info": {
      "name": "python",
      "version": "3.8.5",
      "mimetype": "text/x-python",
      "codemirror_mode": {
        "name": "ipython",
        "version": 3
      },
      "pygments_lexer": "ipython3",
      "nbconvert_exporter": "python",
      "file_extension": ".py"
    },
    "microsoft": {
      "host": {
        "AzureML": {
          "notebookHasBeenCompleted": true
        }
      }
    },
    "nteract": {
      "version": "nteract-front-end@1.0.0"
    }
  },
  "nbformat": 4,
  "nbformat_minor": 2
}